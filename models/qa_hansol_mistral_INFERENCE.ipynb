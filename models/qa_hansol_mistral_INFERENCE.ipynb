{
  "cells": [
    {
      "cell_type": "markdown",
      "source": [
        "## 학습된 모델 불러오기"
      ],
      "metadata": {
        "id": "htHs9v-Oflm8"
      }
    },
    {
      "cell_type": "code",
      "source": [
        "from peft import PeftModel, PeftConfig, AutoPeftModelForCausalLM\n",
        "import torch\n",
        "from transformers import AutoTokenizer, AutoModelForCausalLM, BitsAndBytesConfig, TrainingArguments\n",
        "from peft import AutoPeftModelForCausalLM\n",
        "\n",
        "device = \"cuda:0\"\n",
        "base_model = 'davidkim205/komt-mistral-7b-v1'\n",
        "\n",
        "# Load base model(Mistral 7B)\n",
        "bnb_config = BitsAndBytesConfig(\n",
        "    load_in_4bit= True,\n",
        "    bnb_4bit_quant_type= \"nf4\",\n",
        "    bnb_4bit_compute_dtype= torch.bfloat16,\n",
        "    bnb_4bit_use_double_quant= False,\n",
        ")\n",
        "\n",
        "config = PeftConfig.from_pretrained(\"beta_1\")\n",
        "model = AutoModelForCausalLM.from_pretrained(base_model, quantization_config=bnb_config, device_map={\"\": 0})\n",
        "model = PeftModel.from_pretrained(model, \"beta_1\")\n",
        "\n",
        "\n",
        "\n",
        "# Load tokenizer\n",
        "tokenizer = AutoTokenizer.from_pretrained(base_model, trust_remote_code=True) #model_max_length=2048\n",
        "\n",
        "\n",
        "tokenizer.padding_side = 'left'\n",
        "tokenizer.pad_token = tokenizer.unk_token\n",
        "tokenizer.add_eos_token = False\n",
        "model.config.use_cache = True\n",
        "model.eval()"
      ],
      "metadata": {
        "colab": {
          "base_uri": "https://localhost:8080/",
          "height": 1000,
          "referenced_widgets": [
            "e77c43bf25784aa79af1065606abade7",
            "078ac5968f494dd78fab11ceb1dfee78",
            "d87162916b704574bf4b8d09d8c9fa3d",
            "f8f05add45784abf8e4774f359e1b36d",
            "fe97a7ac263247dd8c4c1c0110dd062a",
            "aaa2114d74a14ba2ac32161beb7fbc17",
            "ce5f032683f8412f9e364c9f9c320228",
            "7c50952ab4f141fead025dbba837f400",
            "26cfa70ce58843f48cebd1189056fae5",
            "aedf0f2b8f3a469ca0d9a1aaa44535ea",
            "9b1a2353cea7491480d96db293136580",
            "9bfaba45c0d84bb7903fea55bd4abbb6",
            "e41af7849a2a4158823cbceca5010430",
            "b78cff8e78f14b13a1bd9ffe8af1e3f0",
            "17ca41fd6f664f16945b536eacb003d2",
            "39216b1dab394c7fb1c70f58ea6b7787",
            "23f2748e78664432a20adfa8fc409f46",
            "806dac9674c741b98f7285bc12285f76",
            "db4c0d9b49d4483591b08f5f11232b85",
            "d37fba88076744169d166938af6e67a5",
            "e582dfc20fc54c8e9a5a85aee22a028e",
            "9d96e8760d9f483bb6795b8bb40193f1",
            "a740d5d5fbe44a27bde24b94930f57a8",
            "32c5f2f9e54141b78bfac100436cea2e",
            "846d93479cbe4c1eb8ba843d25da91d5",
            "5256010147bc4820a505b0f83b93c2be",
            "9ebc7b0a76f343ecbd830ae54c04ada0",
            "5d114b3a44064c228b59f31ab0913765",
            "b86e2096cbc24b009daf5a8267be47dc",
            "8b1ca8dc78944fef8361159c5848df87",
            "b74b8bb5e2764d54b10125e3d8cb26d0",
            "3eb6435e375e4c7387821f839a9501f5",
            "a4f98b73609b46d78fddf8f86f7161e9",
            "10b59aeae8ed4b419245c36390ef5a03",
            "413618364dcb4f4dabba0c83a091251a",
            "0106c5fda4ca49d7b1e6d5ce0e3b16f0",
            "0e6b1a8cef144ac3906eee0c10c03caf",
            "f33a30b1100a494d8cf61ac4033e8555",
            "d09af2540074403aa7253f871432e77f",
            "7e68e5295c9f47cdbb3958aa4a16dbe2",
            "a3e4f0c5ba4f447c9ea20bd01e0148a0",
            "ae2679b7d17f4c6c96051b38a29b07ad",
            "e6855780c7ce4aa5a3c9193fcb31938a",
            "b42fc29f11c24881a8be3e31169a714d",
            "eabfbe01fb5840ca90809375c5bd97da",
            "091846841415465496483f84cdd10808",
            "a64fd538244048538c70d8b100ed31fd",
            "804c3df7ecfa406bbef4a91458ecbe38",
            "8f98cd5713a44e729b6c3ca0068b9682",
            "9383f07397bc474599ee7c6969992c25",
            "61cac0ec9ab24e1dae13b1d5c8672c5e",
            "5c6d03f6a9da44fab149efba990fa190",
            "4f00d8bbeebd4c6c8e6d5e591008828f",
            "d1561d5f29174744a2c10e2dab5b87b4",
            "6681aff75e6849ceafb125992cc71648",
            "a8e8c831577a40f3bb44cc3fc63badae",
            "23c4250a72dd4c85859c01ad91a5bd5e",
            "29d748ec45614693aade7ae212a268df",
            "abb7b21711af4c689d6524db57e999c5",
            "9562a23517374e288b521e8db4c9ddaf",
            "795b68478b814c88a1fd64297854dd9c",
            "3843078b921c40728aa29134b9df8bb9",
            "09392743656641919b3617566a751f8c",
            "d58f871b0d76433a9e3c30615ba3beea",
            "286b935433154f0693f78c609aa27645",
            "4604ab2cc0544e8696aa9bc6e371577e",
            "ef469caf9f5044aeb39f6a30e0ff5cfd",
            "7cad3950272e4b77ba1b04d3d4dbd9ff",
            "8eac22cfaaa64499a31270ae67d5db15",
            "9a709a0f8122416cb6c5b4184fd430f1",
            "36b8906850454be78f9d9b26612d9d20",
            "a7894b68b2d84b8da4ab271f1f157e64",
            "07455249647c400cb6fd456e855c4b10",
            "2cf45262ba41421dbab05ff31bf48d7c",
            "67ba6210081246d983ac0ccdd2437cb2",
            "26a45c68f14245c0b1611f0059019e77",
            "6c4fe93633684e7e9eba20af32bc5045",
            "a52dd1fa6c9c416aa483c1b60e858ee6",
            "b883d8d39bfe45a495abba64de29124f",
            "8409dc8981274e40a1ae2893d0a7cc9a",
            "780ae309fd3b4fafb34bcde5fb817c0a",
            "ec0a60b9437f4fde99984a96133f5865",
            "7b56816a996d49dc95861a016beb3b8b",
            "bc30e7cae53848288b2d5a15091807c1",
            "0118c420cf3243d09e9b7d700853397d",
            "324724c79ba14f12938e856ba3ec7a21",
            "d20afba071204a1293bf1582b73abcdf",
            "67d051bd961149a4a7bc94fdf9038b27",
            "0ca2fd73a28846929ead53e66d924ea0",
            "85447d8b850447c2b4d26a09613903a7",
            "eaf25eaf25604423b994759e9a9c69cf",
            "7c649e37351b42ffb809a5578ba77d91",
            "8349cf7bcd8c4fd6bba90b259d1601c7",
            "3ea3b79b0a0a45e29391f1900ec623b3",
            "204dd56fdc4b489fbf2ec807effdc329",
            "83cbaacf735941df8f005d56b2d238bb",
            "b9931c0c602c4a758183e3c5405a8b0f",
            "06ab20d9442c4a27a5580793cd35f51e",
            "da2b156dd34041b59107817aafb1065c",
            "9cf1ba4faf034678aa2a1bf910844ce5",
            "58bacee0562f475298c8fd9281577545",
            "29800551f3eb466aaa104473b340ce35",
            "53172e887cf2440f9bb6110c18dc18c5",
            "61082aceae0545b8b7ee3082a6d99c3a",
            "9c57cad802e7434eb501146188985974",
            "b001fc7a99654a14bc70d5321baf24c3",
            "89b7b5779d914c15896042150b18eb36",
            "10706003ac6a48f6b3bb9dbc01e79fc7",
            "68d50b4ee5754bbc931f177b51ee7219",
            "57012beffdbd4c0d8bea9259c1f959ba",
            "6d6dde3ba1494d97a02450040aac3fde",
            "6821dca69db34e63b6255844036d2ff7",
            "118716014daa43c7bcc3012941f4bbad",
            "59a9c87497944e0a846312a7ed34a09a",
            "3c5dfe61e6714434a1fbff11ad97c469",
            "61c507f2c4e440e98bea31c5c3725575",
            "583f547e5e0d42b68ce5db237f46c1ac",
            "546b81bf43bd43d18232dacbd815e59a",
            "709ce181fff8435eba157deb80fe217f",
            "b691de681ef24e3cb6e0b388f7590c33",
            "626830b44d5842efb0bea707d204cf51"
          ]
        },
        "id": "ycYw1dw-cxJB",
        "outputId": "01d52338-6c0d-41e2-e40d-7fec250e942b"
      },
      "execution_count": null,
      "outputs": [
        {
          "output_type": "display_data",
          "data": {
            "text/plain": [
              "config.json:   0%|          | 0.00/624 [00:00<?, ?B/s]"
            ],
            "application/vnd.jupyter.widget-view+json": {
              "version_major": 2,
              "version_minor": 0,
              "model_id": "e77c43bf25784aa79af1065606abade7"
            }
          },
          "metadata": {}
        },
        {
          "output_type": "display_data",
          "data": {
            "text/plain": [
              "pytorch_model.bin.index.json:   0%|          | 0.00/23.9k [00:00<?, ?B/s]"
            ],
            "application/vnd.jupyter.widget-view+json": {
              "version_major": 2,
              "version_minor": 0,
              "model_id": "9bfaba45c0d84bb7903fea55bd4abbb6"
            }
          },
          "metadata": {}
        },
        {
          "output_type": "display_data",
          "data": {
            "text/plain": [
              "Downloading shards:   0%|          | 0/2 [00:00<?, ?it/s]"
            ],
            "application/vnd.jupyter.widget-view+json": {
              "version_major": 2,
              "version_minor": 0,
              "model_id": "a740d5d5fbe44a27bde24b94930f57a8"
            }
          },
          "metadata": {}
        },
        {
          "output_type": "display_data",
          "data": {
            "text/plain": [
              "pytorch_model-00001-of-00002.bin:   0%|          | 0.00/9.94G [00:00<?, ?B/s]"
            ],
            "application/vnd.jupyter.widget-view+json": {
              "version_major": 2,
              "version_minor": 0,
              "model_id": "10b59aeae8ed4b419245c36390ef5a03"
            }
          },
          "metadata": {}
        },
        {
          "output_type": "display_data",
          "data": {
            "text/plain": [
              "pytorch_model-00002-of-00002.bin:   0%|          | 0.00/4.54G [00:00<?, ?B/s]"
            ],
            "application/vnd.jupyter.widget-view+json": {
              "version_major": 2,
              "version_minor": 0,
              "model_id": "eabfbe01fb5840ca90809375c5bd97da"
            }
          },
          "metadata": {}
        },
        {
          "output_type": "display_data",
          "data": {
            "text/plain": [
              "Loading checkpoint shards:   0%|          | 0/2 [00:00<?, ?it/s]"
            ],
            "application/vnd.jupyter.widget-view+json": {
              "version_major": 2,
              "version_minor": 0,
              "model_id": "a8e8c831577a40f3bb44cc3fc63badae"
            }
          },
          "metadata": {}
        },
        {
          "output_type": "stream",
          "name": "stderr",
          "text": [
            "/usr/local/lib/python3.10/dist-packages/torch/_utils.py:831: UserWarning: TypedStorage is deprecated. It will be removed in the future and UntypedStorage will be the only storage class. This should only matter to you if you are using storages directly.  To access UntypedStorage directly, use tensor.untyped_storage() instead of tensor.storage()\n",
            "  return self.fget.__get__(instance, owner)()\n"
          ]
        },
        {
          "output_type": "display_data",
          "data": {
            "text/plain": [
              "generation_config.json:   0%|          | 0.00/111 [00:00<?, ?B/s]"
            ],
            "application/vnd.jupyter.widget-view+json": {
              "version_major": 2,
              "version_minor": 0,
              "model_id": "ef469caf9f5044aeb39f6a30e0ff5cfd"
            }
          },
          "metadata": {}
        },
        {
          "output_type": "display_data",
          "data": {
            "text/plain": [
              "tokenizer_config.json:   0%|          | 0.00/1.67k [00:00<?, ?B/s]"
            ],
            "application/vnd.jupyter.widget-view+json": {
              "version_major": 2,
              "version_minor": 0,
              "model_id": "a52dd1fa6c9c416aa483c1b60e858ee6"
            }
          },
          "metadata": {}
        },
        {
          "output_type": "display_data",
          "data": {
            "text/plain": [
              "tokenizer.model:   0%|          | 0.00/493k [00:00<?, ?B/s]"
            ],
            "application/vnd.jupyter.widget-view+json": {
              "version_major": 2,
              "version_minor": 0,
              "model_id": "0ca2fd73a28846929ead53e66d924ea0"
            }
          },
          "metadata": {}
        },
        {
          "output_type": "display_data",
          "data": {
            "text/plain": [
              "added_tokens.json:   0%|          | 0.00/42.0 [00:00<?, ?B/s]"
            ],
            "application/vnd.jupyter.widget-view+json": {
              "version_major": 2,
              "version_minor": 0,
              "model_id": "9cf1ba4faf034678aa2a1bf910844ce5"
            }
          },
          "metadata": {}
        },
        {
          "output_type": "display_data",
          "data": {
            "text/plain": [
              "special_tokens_map.json:   0%|          | 0.00/168 [00:00<?, ?B/s]"
            ],
            "application/vnd.jupyter.widget-view+json": {
              "version_major": 2,
              "version_minor": 0,
              "model_id": "6d6dde3ba1494d97a02450040aac3fde"
            }
          },
          "metadata": {}
        },
        {
          "output_type": "execute_result",
          "data": {
            "text/plain": [
              "PeftModelForCausalLM(\n",
              "  (base_model): LoraModel(\n",
              "    (model): MistralForCausalLM(\n",
              "      (model): MistralModel(\n",
              "        (embed_tokens): Embedding(32000, 4096)\n",
              "        (layers): ModuleList(\n",
              "          (0-31): 32 x MistralDecoderLayer(\n",
              "            (self_attn): MistralAttention(\n",
              "              (q_proj): lora.Linear4bit(\n",
              "                (base_layer): Linear4bit(in_features=4096, out_features=4096, bias=False)\n",
              "                (lora_dropout): ModuleDict(\n",
              "                  (default): Dropout(p=0.05, inplace=False)\n",
              "                )\n",
              "                (lora_A): ModuleDict(\n",
              "                  (default): Linear(in_features=4096, out_features=16, bias=False)\n",
              "                )\n",
              "                (lora_B): ModuleDict(\n",
              "                  (default): Linear(in_features=16, out_features=4096, bias=False)\n",
              "                )\n",
              "                (lora_embedding_A): ParameterDict()\n",
              "                (lora_embedding_B): ParameterDict()\n",
              "              )\n",
              "              (k_proj): lora.Linear4bit(\n",
              "                (base_layer): Linear4bit(in_features=4096, out_features=1024, bias=False)\n",
              "                (lora_dropout): ModuleDict(\n",
              "                  (default): Dropout(p=0.05, inplace=False)\n",
              "                )\n",
              "                (lora_A): ModuleDict(\n",
              "                  (default): Linear(in_features=4096, out_features=16, bias=False)\n",
              "                )\n",
              "                (lora_B): ModuleDict(\n",
              "                  (default): Linear(in_features=16, out_features=1024, bias=False)\n",
              "                )\n",
              "                (lora_embedding_A): ParameterDict()\n",
              "                (lora_embedding_B): ParameterDict()\n",
              "              )\n",
              "              (v_proj): lora.Linear4bit(\n",
              "                (base_layer): Linear4bit(in_features=4096, out_features=1024, bias=False)\n",
              "                (lora_dropout): ModuleDict(\n",
              "                  (default): Dropout(p=0.05, inplace=False)\n",
              "                )\n",
              "                (lora_A): ModuleDict(\n",
              "                  (default): Linear(in_features=4096, out_features=16, bias=False)\n",
              "                )\n",
              "                (lora_B): ModuleDict(\n",
              "                  (default): Linear(in_features=16, out_features=1024, bias=False)\n",
              "                )\n",
              "                (lora_embedding_A): ParameterDict()\n",
              "                (lora_embedding_B): ParameterDict()\n",
              "              )\n",
              "              (o_proj): lora.Linear4bit(\n",
              "                (base_layer): Linear4bit(in_features=4096, out_features=4096, bias=False)\n",
              "                (lora_dropout): ModuleDict(\n",
              "                  (default): Dropout(p=0.05, inplace=False)\n",
              "                )\n",
              "                (lora_A): ModuleDict(\n",
              "                  (default): Linear(in_features=4096, out_features=16, bias=False)\n",
              "                )\n",
              "                (lora_B): ModuleDict(\n",
              "                  (default): Linear(in_features=16, out_features=4096, bias=False)\n",
              "                )\n",
              "                (lora_embedding_A): ParameterDict()\n",
              "                (lora_embedding_B): ParameterDict()\n",
              "              )\n",
              "              (rotary_emb): MistralRotaryEmbedding()\n",
              "            )\n",
              "            (mlp): MistralMLP(\n",
              "              (gate_proj): lora.Linear4bit(\n",
              "                (base_layer): Linear4bit(in_features=4096, out_features=14336, bias=False)\n",
              "                (lora_dropout): ModuleDict(\n",
              "                  (default): Dropout(p=0.05, inplace=False)\n",
              "                )\n",
              "                (lora_A): ModuleDict(\n",
              "                  (default): Linear(in_features=4096, out_features=16, bias=False)\n",
              "                )\n",
              "                (lora_B): ModuleDict(\n",
              "                  (default): Linear(in_features=16, out_features=14336, bias=False)\n",
              "                )\n",
              "                (lora_embedding_A): ParameterDict()\n",
              "                (lora_embedding_B): ParameterDict()\n",
              "              )\n",
              "              (up_proj): lora.Linear4bit(\n",
              "                (base_layer): Linear4bit(in_features=4096, out_features=14336, bias=False)\n",
              "                (lora_dropout): ModuleDict(\n",
              "                  (default): Dropout(p=0.05, inplace=False)\n",
              "                )\n",
              "                (lora_A): ModuleDict(\n",
              "                  (default): Linear(in_features=4096, out_features=16, bias=False)\n",
              "                )\n",
              "                (lora_B): ModuleDict(\n",
              "                  (default): Linear(in_features=16, out_features=14336, bias=False)\n",
              "                )\n",
              "                (lora_embedding_A): ParameterDict()\n",
              "                (lora_embedding_B): ParameterDict()\n",
              "              )\n",
              "              (down_proj): lora.Linear4bit(\n",
              "                (base_layer): Linear4bit(in_features=14336, out_features=4096, bias=False)\n",
              "                (lora_dropout): ModuleDict(\n",
              "                  (default): Dropout(p=0.05, inplace=False)\n",
              "                )\n",
              "                (lora_A): ModuleDict(\n",
              "                  (default): Linear(in_features=14336, out_features=16, bias=False)\n",
              "                )\n",
              "                (lora_B): ModuleDict(\n",
              "                  (default): Linear(in_features=16, out_features=4096, bias=False)\n",
              "                )\n",
              "                (lora_embedding_A): ParameterDict()\n",
              "                (lora_embedding_B): ParameterDict()\n",
              "              )\n",
              "              (act_fn): SiLU()\n",
              "            )\n",
              "            (input_layernorm): MistralRMSNorm()\n",
              "            (post_attention_layernorm): MistralRMSNorm()\n",
              "          )\n",
              "        )\n",
              "        (norm): MistralRMSNorm()\n",
              "      )\n",
              "      (lm_head): Linear(in_features=4096, out_features=32000, bias=False)\n",
              "    )\n",
              "  )\n",
              ")"
            ]
          },
          "metadata": {},
          "execution_count": 4
        }
      ]
    },
    {
      "cell_type": "markdown",
      "metadata": {
        "id": "iVmfqB16uf-3"
      },
      "source": [
        "##  Train, Test data pre-processing"
      ]
    },
    {
      "cell_type": "code",
      "source": [
        "from tqdm import tqdm\n",
        "import re\n",
        "from sentence_transformers import SentenceTransformer\n",
        "import numpy as np\n",
        "import pandas as pd\n",
        "\n",
        "def process_korean_string(input_string):\n",
        "    pattern = re.compile(r'\\b(?:또한|그리고)\\b')\n",
        "    split_string = pattern.split(input_string)\n",
        "    processed_segments = [segment.replace(',', '').strip() for segment in split_string]\n",
        "    return processed_segments\n",
        "\n",
        "def cosine_similarity(a, b):\n",
        "    dot_product = np.dot(a, b)\n",
        "    norm_a = np.linalg.norm(a)\n",
        "    norm_b = np.linalg.norm(b)\n",
        "    return dot_product / (norm_a * norm_b) if norm_a != 0 and norm_b != 0 else 0\n",
        "\n",
        "def preprocess_train(train):\n",
        "    sent_model = SentenceTransformer(\"jhgan/ko-sbert-sts\")\n",
        "\n",
        "    train['encoded_Q1'] = train['질문_1'].apply(lambda x : sent_model.encode(x))\n",
        "    train['encoded_Q2'] = train['질문_2'].apply(lambda x : sent_model.encode(x))\n",
        "    train['concatenated_답변'] = train.apply(lambda row: '\\n'.join(row[['답변_1', '답변_2', '답변_3', '답변_4', '답변_5']]), axis=1)\n",
        "    return train\n",
        "\n",
        "def test_split_question_and_RAG(train, test):\n",
        "    sent_model = SentenceTransformer(\"jhgan/ko-sbert-sts\")\n",
        "\n",
        "    test['질문_split'] = test['질문'].apply(process_korean_string)\n",
        "    encoded = []\n",
        "\n",
        "    for q_list in tqdm(test['질문_split']):\n",
        "        tmp_list = []\n",
        "        for q in q_list:\n",
        "            if len(q) > 0:\n",
        "                tmp_list.append(sent_model.encode(q))\n",
        "\n",
        "        encoded.append(tmp_list)\n",
        "    test['encoded'] = encoded\n",
        "\n",
        "    idx_list = []\n",
        "    for q_list in tqdm(encoded):\n",
        "        tmp_list = []\n",
        "        for q in q_list:\n",
        "            max_score = 0\n",
        "            max_index = 0\n",
        "            for idx in range(len(train)):\n",
        "                curr_sim = (cosine_similarity(q, train.iloc[idx]['encoded_Q1']) + cosine_similarity(q, train.iloc[idx]['encoded_Q2']))/2\n",
        "                if curr_sim > max_score:\n",
        "                    max_index = idx\n",
        "                    max_score = curr_sim\n",
        "\n",
        "\n",
        "            tmp_list.append((max_index, max_score))\n",
        "\n",
        "\n",
        "        idx_list.append(tmp_list)\n",
        "    ref_list = []\n",
        "    for i in idx_list:\n",
        "        tmp_list = []\n",
        "        for j in i:\n",
        "            tmp_list.append(j[0])\n",
        "        ref_list.append(tmp_list)\n",
        "    test['reference_Q'] = [[] for _ in range(len(test))]\n",
        "    test['reference_text'] =[[] for _ in range(len(test))]\n",
        "    for idx, i in enumerate(ref_list):\n",
        "        for j in i:\n",
        "            test.iloc[idx]['reference_Q'].append(train.iloc[j]['질문_1'])\n",
        "\n",
        "    for idx, i in enumerate(ref_list):\n",
        "        for j in i:\n",
        "            test.iloc[idx]['reference_text'].append(train.iloc[j]['concatenated_답변'])\n",
        "    return train, test\n"
      ],
      "metadata": {
        "id": "-n9GUKY54Au3"
      },
      "execution_count": null,
      "outputs": []
    },
    {
      "cell_type": "code",
      "source": [
        "train = pd.read_csv('./data/train.csv', encoding='utf-8')\n",
        "train = preprocess_train(train)"
      ],
      "metadata": {
        "id": "FDEcQT908ddV"
      },
      "execution_count": null,
      "outputs": []
    },
    {
      "cell_type": "code",
      "source": [
        "test = pd.read_csv('./data/test.csv', encoding='utf-8')\n",
        "train, test = test_split_question_and_RAG(train, test)"
      ],
      "metadata": {
        "colab": {
          "base_uri": "https://localhost:8080/"
        },
        "id": "R2edVSVR5yEs",
        "outputId": "b039cff8-4568-467e-f9a0-9d55eae57dc4"
      },
      "execution_count": null,
      "outputs": [
        {
          "output_type": "stream",
          "name": "stderr",
          "text": [
            "100%|██████████| 130/130 [00:02<00:00, 54.72it/s]\n",
            "100%|██████████| 130/130 [00:20<00:00,  6.42it/s]\n"
          ]
        }
      ]
    },
    {
      "cell_type": "markdown",
      "source": [
        "## test 데이터 prompt 만들기 & 질문 나누기"
      ],
      "metadata": {
        "id": "99AN7Gb-A2zN"
      }
    },
    {
      "cell_type": "code",
      "source": [
        "def make_prompt(test):\n",
        "    test['chat_sample'] = [[] for _ in range(len(test))]\n",
        "    # Making Mistral 용 Prompt data\n",
        "\n",
        "    for idx, row in test.iterrows():\n",
        "        for i, j in zip(row['reference_text'], row['질문_split']):\n",
        "            row['chat_sample'].append(f\"너는 실내 인테리어 회사 상담직원이야 다음 질문에 대답해줘. 반드시 지켜야할 몇가지 규칙이 있어.\\n1. 최대한 길게 대답해. \\n2. 답변을 할 때 아래 정보 중 두 문장 이상을 활용해.\\n3.정보와 질문이 관련없으면 정보를 사용하지말고 대답해.\\n4. 길게 대답하는 것이 무엇보다 중요해.\\n정보:{i}[ INST] {j} [/INST] \")\n",
        "\n",
        "    # 질문 나누기\n",
        "    test = test.explode('chat_sample').reset_index(drop=True)\n",
        "    test['chat_num'] = test['id']\n",
        "    return test"
      ],
      "metadata": {
        "id": "pTEmuhrnY-hJ"
      },
      "execution_count": null,
      "outputs": []
    },
    {
      "cell_type": "code",
      "source": [
        "test = make_prompt(test)"
      ],
      "metadata": {
        "id": "4ZF1w_mEAdPV"
      },
      "execution_count": null,
      "outputs": []
    },
    {
      "cell_type": "markdown",
      "source": [
        "## Inference"
      ],
      "metadata": {
        "id": "EryU45QHlYtj"
      }
    },
    {
      "cell_type": "code",
      "source": [
        "from datasets import Dataset, DatasetDict\n",
        "\n",
        "test_dataset = Dataset.from_pandas(test)"
      ],
      "metadata": {
        "id": "FAxFvVlXwlJj"
      },
      "execution_count": null,
      "outputs": []
    },
    {
      "cell_type": "code",
      "source": [
        "def extract_diarizationllm_outputs(batch):\n",
        "\n",
        "    inputs = tokenizer(batch['chat_sample'], return_tensors=\"pt\", truncation=False, padding=True).to(device)\n",
        "    with torch.no_grad():\n",
        "        outputs = model.generate(**inputs,  max_new_tokens=256)\n",
        "        decoded_outputs = [tokenizer.decode(o, skip_special_tokens=True) for o in outputs]\n",
        "\n",
        "        decoded_llm = [o.split('[/INST]')[1].strip() for o in decoded_outputs]\n",
        "        print(decoded_llm)\n",
        "    return {'decoded_llm': decoded_llm}\n"
      ],
      "metadata": {
        "id": "x15qMY0JxE9s"
      },
      "execution_count": null,
      "outputs": []
    },
    {
      "cell_type": "code",
      "execution_count": null,
      "metadata": {
        "id": "t3Gx83XBujOZ"
      },
      "outputs": [],
      "source": [
        "torch.cuda.empty_cache()\n",
        "tokenizer.model_max_length = 4096"
      ]
    },
    {
      "cell_type": "code",
      "source": [
        "test_llm = test_dataset.map(extract_diarizationllm_outputs, batched=True, batch_size=4)"
      ],
      "metadata": {
        "colab": {
          "base_uri": "https://localhost:8080/",
          "height": 1000,
          "referenced_widgets": [
            "e4ff39931fa441338930547844d09dc7",
            "19da0762921e43fea5b828f0c15a1e81",
            "61f5a8f392e943c0bd711af530cf8617",
            "f06b8aff9bff4b5499da4c5cd7b0b5bf",
            "70e7e0ee97cf4a8bb12af91c7acd8cf4",
            "7552beb0c1104c4fb3c864dbd26b9c76",
            "d19b5ff7d7df47849948b3492566967a",
            "3d0cd64adb154932ac162610f4c4558b",
            "75365bca364648939ca35f12e8a63f36",
            "ac1644d098194533be30b077396cebf6",
            "ed394e9512a34230a7f216052cd8fbd4"
          ]
        },
        "id": "HDyH2cUcRCi-",
        "outputId": "ee508145-4f30-4ced-e099-adcc4877ad3f"
      },
      "execution_count": null,
      "outputs": [
        {
          "output_type": "display_data",
          "data": {
            "text/plain": [
              "Map:   0%|          | 0/196 [00:00<?, ? examples/s]"
            ],
            "application/vnd.jupyter.widget-view+json": {
              "version_major": 2,
              "version_minor": 0,
              "model_id": "e4ff39931fa441338930547844d09dc7"
            }
          },
          "metadata": {}
        },
        {
          "output_type": "stream",
          "name": "stderr",
          "text": [
            "Setting `pad_token_id` to `eos_token_id`:2 for open-end generation.\n",
            "Setting `pad_token_id` to `eos_token_id`:2 for open-end generation.\n"
          ]
        },
        {
          "output_type": "stream",
          "name": "stdout",
          "text": [
            "['방청페인트의 종류로는 광명단페인트, 방청산화철페인트, 알미늄페인트, 역청질페인트, 워시프라이머, 크롬산아연페인트, 그리고 규산염페인트 등이 있습니다.', '원목사이딩은 가격이 비싸고 관리가 어렵고 습기에 약해 뒤틀림, 부서짐, 수축/팽창이 발생할 수 있다는 점이 단점입니다.', '도배지에 녹은 자국은 얼룩 형태로 나타나는 것을 의미합니다. 이러한 자국은 도배지 표면에 물이 침투하여 표면을 젖혀 녹이 생기는 것을 의미합니다.', '큐블럭은 일반 벽돌에 비해 가격이 비싸고 균열이 생기기 쉬우며 습기로 인해 하자가 발생할 수 있다는 점이 단점입니다.']\n"
          ]
        },
        {
          "output_type": "stream",
          "name": "stderr",
          "text": [
            "Setting `pad_token_id` to `eos_token_id`:2 for open-end generation.\n"
          ]
        },
        {
          "output_type": "stream",
          "name": "stdout",
          "text": [
            "['압출법 단열판은 습기에 강하고 곰팡이 및 세균 증식을 막을 수 있는 것이 장점입니다.', '철골구조를 사용하는 고층 건물에서 단열 효과를 높이기 위해서는 건물 외벽에 단열재를 부착하고, 단열재 사이에 고밀도 폴리우레탄 폼을 충전하여 단열재와 건물 외벽을 단단하게 결합하는 것이 좋습니다.', '일반적으로 도배 후 완전 건조되기 전까지 꼬임이 발생할 수 있습니다. 제조사에서 권장하는 건조기간(일반적으로 일주일)동안 충분한 시간을 확보하고, 건조기간 동안 온도와 습도에 유의하며, 일주일이 지나도 꼬임이 사라지지 않는다면 시공사에 연락해서 상세히 진단을 받아야 합니다.', '철근철골콘크리트 구조는 철근과 철골을 함께 사용하여 건물을 지은 구조체입니다. 이러한 구조는 철근의 인장 강도와 철골의 압축 강도를 결합하여 안정성을 높일 수 있습니다. 또한, 고층 건물에서는 아래층의 보나 기둥 단면이 커져야 하는 문제가 있습니다.']\n"
          ]
        },
        {
          "output_type": "stream",
          "name": "stderr",
          "text": [
            "Setting `pad_token_id` to `eos_token_id`:2 for open-end generation.\n"
          ]
        },
        {
          "output_type": "stream",
          "name": "stdout",
          "text": [
            "['개별 공간은 개인적인 시간을 중시하고 프라이버시를 중요시하는 경우에 더 적합할 수 있습니다. 오픈 플랜은 활발한 활동과 소통을 즐기며 공간을 확장시키고 연결감을 높이는 경우에 더 적합할 수 있습니다.', '합지벽지는 내구성이 약하고 오염이 생기면 닦거나 청소가 어려우며 시간이 지나면 변색이 될 수 있는 점이 단점입니다.', '도배지 들뜸 현상은 도배지가 벽면에 잘 붙지 않고 뜨는 현상을 의미합니다. 이는 도배지와 벽면 사이에 습기가 스며들거나 벽면이 움직이는 등의 원인으로 발생할 수 있습니다.', '도배지에 얼룩이 발생하는 원인은 습도, 먼지, 연기, 화학물질 등이 있습니다.']\n"
          ]
        },
        {
          "output_type": "stream",
          "name": "stderr",
          "text": [
            "Setting `pad_token_id` to `eos_token_id`:2 for open-end generation.\n"
          ]
        },
        {
          "output_type": "stream",
          "name": "stdout",
          "text": [
            "['고층 건물은 많은 인원과 물건을 수용하고 안정성이 필요하기 때문에 철골구조가 선택됩니다.', '유성페인트는 휘발성이 강하여 냄새가 나는 것이 특징이며, 특히 철재나 목재에 사용됩니다. 이러한 페인트를 사용하면 표면이 부드럽고 매끈하게 마감되며, 물에 강한 특성을 가지고 있습니다. 다만, 건조 속도가 느리고 수성페인트보다 냄새가 강하다는 점이 단점으로 작용합니다.', '훼손과 오염은 물리적인 변화의 유무에 따라 구분됩니다. 훼손은 물리적 충격이나 힘을 받아 상태가 변한 것을 의미하며, 찍힘이나 터짐과 같은 물리적 손상을 포함합니다. 반면에 오염은 물리적인 힘이나 충격으로 인한 변화가 아니라, 녹 오염이나 얼룩과 같은 물질의 부착으로 인해 생기는 변화를 의미합니다.', '적절하지 않은 도구로 작업하거나 타공 부위의 크기를 정확히 측정하지 않고 작업하면 타공불량이 발생할 수 있습니다.']\n"
          ]
        },
        {
          "output_type": "stream",
          "name": "stderr",
          "text": [
            "Setting `pad_token_id` to `eos_token_id`:2 for open-end generation.\n"
          ]
        },
        {
          "output_type": "stream",
          "name": "stdout",
          "text": [
            "['철골콘크리트 구조는 철골과 콘크리트를 결합하여 사용하는 구조로, 철골은 하중을 지지하고 콘크리트는 철골을 보호하고 인장응력을 보완하는 역할을 합니다.', '방염벽지는 화재에 대비하여 사용하는 벽지로, 화재에 대한 안전성을 높이기 위해 소재에 화재 방지 처리를 한 벽지입니다.', '습도가 높으면 곰팡이가 번식하기 좋은 환경이기 때문에 곰팡이가 발생할 수 있습니다.', '롱브릭타일은 얇고 긴 모양의 타일 형태로 와이드 벽돌이라고도 불리며, 노출 콘크리트와 비슷한 분위기를 연출할 수 있는 타일입니다.']\n"
          ]
        },
        {
          "output_type": "stream",
          "name": "stderr",
          "text": [
            "Setting `pad_token_id` to `eos_token_id`:2 for open-end generation.\n"
          ]
        },
        {
          "output_type": "stream",
          "name": "stdout",
          "text": [
            "['페인트 상도재는 최종 마감으로 칠하는 페인트로, 영어로는 Top Coating이라고 합니다. 주도재와 하도재의 제품을 보호하고 마감을 완성시키는 역할을 합니다.', '준불연재료는 10분 동안 화재에 견딜 수 있는 소재를 의미합니다.', '유성페인트는 주로 석유나 석탄에서 추출한 기름이나 화학물질로 만들어지며, 이들 중 일부는 인체에 유해한 영향을 미칠 수 있습니다. 유성페인트의 주요 단점은 다음과 같습니다.  1. 유해성: 유성페인트에는 벤젠, 톨루엔, 자일렌 등의 유해물질이 포함되어 있으며, 이러한 물질들은 호흡기나 피부 등을 통해 체내에 흡수될 수 있습니다. 장기간 노출되면 암, 호흡기 질환, 피부 질환 등의 건강 문제를 유발할 수 있습니다.  2. 냄새:', '몰딩이 수정되는 환경 요인은 햇빛, 습기, 화학물질 등이 있습니다.']\n"
          ]
        },
        {
          "output_type": "stream",
          "name": "stderr",
          "text": [
            "Setting `pad_token_id` to `eos_token_id`:2 for open-end generation.\n"
          ]
        },
        {
          "output_type": "stream",
          "name": "stdout",
          "text": [
            "['1년 이내인 경우 벽지 속지 내부에 주사기를 사용하여 아세톤 함침 후 건조시켜 이염된 유색 반점을 증발(1회 20~30분 소요, 2~3회 반복)시킵니다. 그러나 만약 석고보드 원지와 벽지 원지에 존재하는 승화 염료가 벽지 표면으로 완전하게 이염된 경우 반점을 제거하기 어렵습니다. 이 경우 벽지를 재시공하는 것이 필요합니다.', '타공 부위의 크기를 정확히 측정하지 않거나 적절하지 않은 도구로 작업하면 타공불량이 발생할 수 있습니다. 이 경우 시공자가 책임을 집니다. 해결 방법으로는 타공 부위의 크기를 정확히 측정하고 올바른 도구를 사용하여 재작업해야 합니다.', '다이닝 룸을 고급스럽게 꾸미려면 아레카 야자를 추가하는 것이 좋습니다. 아레카 야자는 공기 정화 효과와 함께 실내 습도를 높이는 효과가 있어 고급스러운 분위기를 조성하는 데 도움이 됩니다.', '석고는 습기를 흡수하고 물에 녹는 성질이 있기에 습도가 높으면 변형될 수 있습니다.']\n"
          ]
        },
        {
          "output_type": "stream",
          "name": "stderr",
          "text": [
            "Setting `pad_token_id` to `eos_token_id`:2 for open-end generation.\n"
          ]
        },
        {
          "output_type": "stream",
          "name": "stdout",
          "text": [
            "['피스 하자는 벽지 안쪽에 숨어있는 못 등의 작은 물체로 인해 발생하는 하자를 의미합니다. 이러한 하자가 심한 경우 도배지가 터질 위험이 있으므로 조속한 수리가 필요합니다.', '공동주택의 실내 공기질 측정은 일반적으로 100세대 당 3개 세대(저층부, 중층부, 고층부)를 기본으로 채취합니다. 그리고 100세대가 증가할 때마다 1세대씩 추가하여 최대 20세대까지 시료를 채취하게 됩니다.', '타일 바닥에서 파손된 타일을 교체하는 과정은 다음과 같습니다. 1. 먼저 파손된 타일을 제거하고, 손상된 부분을 청소합니다. 2. 새로운 타일을 설치하기 전에 바닥에 접착제를 바릅니다. 3. 새로운 타일을 놓은 후 압착하여 고정시킨 후, 마감재를 사용하여 타일 주변을 깔끔하게 처리합니다.', '겨울에 도배를 하는 경우, 온도와 습도에 대한 주의가 필요합니다. 추운 겨울에는 도배풀이 얼어버리거나 건조가 어려울 수 있으므로, 보일러나 전열기를 사용하여 실내 온도를 일정하게 유지하고, 실내 습도를 적절히 관리하는 것이 중요합니다.']\n"
          ]
        },
        {
          "output_type": "stream",
          "name": "stderr",
          "text": [
            "Setting `pad_token_id` to `eos_token_id`:2 for open-end generation.\n"
          ]
        },
        {
          "output_type": "stream",
          "name": "stdout",
          "text": [
            "['유성페인트는 주로 석유나 석탄에서 추출한 기름이나 화학물질로 만들어지며, 이들 중 일부는 인체에 유해한 영향을 미칠 수 있습니다. 유성페인트의 주요 단점은 다음과 같습니다.  1. 유해성: 유성페인트에는 벤젠, 톨루엔, 자일렌 등의 유해물질이 포함되어 있으며, 이러한 물질들은 호흡기나 피부 등을 통해 체내에 흡수될 수 있습니다. 장기간 노출되면 암, 호흡기 질환, 피부 질환 등의 건강 문제를 유발할 수 있습니다.  2. 냄새:', '페인트 처리방법은 남은 페인트의 양에 따라 다릅니다. 만약, 남은 페인트의 양이 적다면 신문이나 헌 옷에 적신 다음 종량제 봉투에 버리는 것이 가능합니다. 페인트 양이 6ml이상 100kg 미만일 경우, 페기물 수탁업체를 통해 처리해야 하며, 100kg 이상이라면 구청 환경과에 신고해야 합니다. 이때, 필요한 서류로는 폐기물처리계획서, 폐기물분석결과서, 폐기물수탁확인서가 각 1통 준비되어야 합니다.', '가장 비싼 바닥재는 대리석 타일입니다.', '유광 자기질 타일은 일반적으로 50년의 기대수명을 가지고 있습니다.']\n"
          ]
        },
        {
          "output_type": "stream",
          "name": "stderr",
          "text": [
            "Setting `pad_token_id` to `eos_token_id`:2 for open-end generation.\n"
          ]
        },
        {
          "output_type": "stream",
          "name": "stdout",
          "text": [
            "['풍수지리를 활용하여 집을 꾸밀 때에는 주의해야 할 점이 많습니다. 먼저, 문의 위치와 방향은 중요한데, 이는 에너지의 흐름과 관련이 있기 때문에 신중하게 결정해야 합니다. 또한 가구의 배치 역시 풍수지리에 영향을 미치는데, 방해되지 않고 에너지가 잘 흐를 수 있도록 배치하는 것이 좋습니다. 마지막으로, 색상 선택 또한 중요한데, 집의 특정 영역에 어두운 색상을 사용하거나 밝은 색상을 과용하는 것은 피하는 것이 좋습니다.', '스탠드 조명은 이동이 가능하다는 특징이 있지만, 작은 공간에는 부적합하고 불안정하게 설치할 경우 파손될 수 있는 위험이 있습니다.', '1년 이상 생긴 반점은 벽지 재시공이 필요합니다.', '불량 도배지는 내구성이 약해져 찢어질 수 있습니다.']\n"
          ]
        },
        {
          "output_type": "stream",
          "name": "stderr",
          "text": [
            "Setting `pad_token_id` to `eos_token_id`:2 for open-end generation.\n"
          ]
        },
        {
          "output_type": "stream",
          "name": "stdout",
          "text": [
            "['평지붕은 경사지붕에 비해 에너지 손실이 크고, 단열 및 방수를 위한 시공비용이 많이 들며 누수의 위험이 있으며 다른 지붕재보다 수명이 짧은 것이 주요한 단점입니다.', '실크벽지의 교체 주기는 일반적으로 5~7년입니다.', '경량철골구조는 약 1.5~3mm 두께의 철골을 사용하여 파이프, C형 찬넬, LEB 자재 등을 활용하여 건축물을 구축하는 구조입니다.', '철골구조는 건물의 외벽에 하중이 크게 걸리지 않아 고층 건물을 건축할 수 있는 점이 장점입니다.']\n"
          ]
        },
        {
          "output_type": "stream",
          "name": "stderr",
          "text": [
            "Setting `pad_token_id` to `eos_token_id`:2 for open-end generation.\n"
          ]
        },
        {
          "output_type": "stream",
          "name": "stdout",
          "text": [
            "['프리케스트 콘크리트 구조는 PC라고도 불리며, 건축물의 벽, 슬래브(SLAB), 보 등의 콘크리트 부재를 공장에서 미리 제작하여 현장에서 조립하는 시스템을 말합니다. 이는 공장에서 안정된 환경에서 품질관리와 대량생산이 가능하여 품질을 확보하고 동시에 원가를 절감할 수 있습니다. 또한, 현장에서는 일부 구간을 RC(철근 콘크리트) 공법과 병행하여 공장에서 생산한 PC 부재와의 연결을 통해 공기를 단축할 수 있는 장점이 있습니다.', '조적식 구조는 벽돌, 블록, 그리고 석재 같은 자연원료로 건물을 건설하는 방식을 말합니다.', '낮은 높이의 가구와 패브릭 소재의 가구는 반려동물의 건강과 안녕을 지키는 데 도움이 됩니다.', '건물 내부에서 몰딩 수정을 예방하려면 적정 습도 유지, 햇빛 차단, 화학물질 사용 제한 등이 필요합니다.']\n"
          ]
        },
        {
          "output_type": "stream",
          "name": "stderr",
          "text": [
            "Setting `pad_token_id` to `eos_token_id`:2 for open-end generation.\n"
          ]
        },
        {
          "output_type": "stream",
          "name": "stdout",
          "text": [
            "['정보: KMEW 세라믹 지붕재는 수입품이라 가격이 비싸고 금속지붕에 비해 무겁다는 것이 단점입니다.\\nKMEW 세라믹 지붕재는 가격이 비싸고 무겁다는 단점이 있습니다.', '세라믹 타일은 온도 변화에 민감하여 내장용으로만 사용하고 경도가 약해 충격과 마모에 취약하다는 단점이 있습니다.', '줄퍼티 마감은 석고보드의 이음메 부분을 메꾼 후 1차, 2차로 퍼티를 해 마감하는 것을 의미합니다.', '액체방수공사는 콘크리트, 모르타르 등의 표면에 액체 형태의 방수제를 도포하거나 침투시키고 방수제를 혼합한 모르타르를 덧발라 침투를 막는 공법입니다.']\n"
          ]
        },
        {
          "output_type": "stream",
          "name": "stderr",
          "text": [
            "Setting `pad_token_id` to `eos_token_id`:2 for open-end generation.\n"
          ]
        },
        {
          "output_type": "stream",
          "name": "stdout",
          "text": [
            "['페인트 하도재 없이 바로 페인트를 칠하는 것은 페인트의 부착성이 떨어지고 색상이 제대로 드러나지 않을 수 있습니다.', '나무재질 바닥재는 특수 규격 봉투(불연성 폐기물 마대)에 넣어서 배출하는 것이 좋습니다. 그러나 특수 규격 봉투를 구하기 어려운 경우가 많으니 지역의 구청이나 주민센터에 사전 문의하여 처리 방법에 대해 상담을 받아보세요. 또한 5톤 이상의 양은 전문 업체를 통해서 처리해야 하니 해당 업체에 문의하거나 조치를 취하셔야 합니다.', '장판 처리방법은 생활폐기물 스티커를 구매한 뒤 해당 기관에서 정한 방법에 따라 배출하면 됩니다. 다만, 장판의 크기에 따라 비용이 달라지므로 사전에 크기를 확인하고 구매해야 합니다.', '도배지에 생긴 반점을 제거하려면 바인더나 수성프라이머를 도포하여 코팅하고 다시 도배하는 것이 가장 효과적입니다.']\n"
          ]
        },
        {
          "output_type": "stream",
          "name": "stderr",
          "text": [
            "Setting `pad_token_id` to `eos_token_id`:2 for open-end generation.\n"
          ]
        },
        {
          "output_type": "stream",
          "name": "stdout",
          "text": [
            "['새집증후군은 새로 지은 집에 입주했을 때 이전에 없던 이상 증상이 신체에 나타나는 것을 통칭하며, 휘발성 화학물질에 의해 발생합니다.', '방청도료 도장 작업은 일반적으로 좁은 부분은 붓을 사용하고, 큰 부분은 스프레이를 사용하여 진행합니다. 방청도료는 2~3회에 걸쳐 도장하며, 완전히 건조된 후에 페인트 작업을 진행합니다.', '콘크리트에 구멍을 뚫으려면 코어드릴이나 해머드릴과 같은 강력한 전동 툴을 사용하여 구멍을 뚫어야 합니다.', '실내 식물을 효과적으로 가꾸려면 자연조명이 있는 곳에 맞는 식물, 공기 정화식물, 그리고 효과적인 관리를 위한 식물을 고려하세요.']\n"
          ]
        },
        {
          "output_type": "stream",
          "name": "stderr",
          "text": [
            "Setting `pad_token_id` to `eos_token_id`:2 for open-end generation.\n"
          ]
        },
        {
          "output_type": "stream",
          "name": "stdout",
          "text": [
            "['현재 가장 인기 있는 도배 소재는 실크벽지입니다. 실크벽지는 다양한 패턴과 색상이 있으며 유지보수가 쉽고 내구성이 좋아 많은 사람들에게 선호되고 있습니다.', '원목마루는 자연 속에서 자란 나무를 사용하여 만든 바닥재로, 자연스러운 느낌을 주고 친환경적이라는 장점이 있습니다. 그러나 비용이 비싸고 습기에 약하며 변형이 발생할 수 있다는 단점이 있습니다.\\n반면에 롱브릭타일은 비교적 저렴하고 강도가 뛰어나며 변형이 적다는 장점이 있습니다. 그러나 시각적으로 다소 덜 자연스럽고 열전도율이 낮아 예열 시간이 길고 습기에 약하다는 단점이 있습니다.', '침실을 아늑하게 만들려면 부드러운 조명, 포근한 이불, 그리고 나무 가구를 고려하세요.\\n침실을 아늑하게 만들기 위해서는 부드러운 조명, 포근한 이불, 그리고 나무 가구를 고려하세요.', '컬러매치를 위해서는 대비 컬러와 조화 컬러를 활용하는 것이 중요합니다. 주요 색상과 보조 색상을 조합하여 공간의 분위기를 조절하고, 색상의 밝고 어두운 정도를 고려하여 조화로운 매치를 만들어야 합니다.']\n"
          ]
        },
        {
          "output_type": "stream",
          "name": "stderr",
          "text": [
            "Setting `pad_token_id` to `eos_token_id`:2 for open-end generation.\n"
          ]
        },
        {
          "output_type": "stream",
          "name": "stdout",
          "text": [
            "['복도나 협소한 공간을 확장하려면 큰 거울, 밝은 컬러, 그리고 슬림 가구를 사용하세요.', '그라스울 보온판은 흡음 성능이 뛰어나며, 소음을 효과적으로 흡수하여 쾌적한 환경을 유지시킵니다.', '미네랄울 보온판은 고속 회전원심공법으로 제조되어 일정한 섬유 굵기를 유지하여 얇은 굵기로 미세한 공기층을 통해 열의 흐름을 효율적으로 차단할 수 있습니다.', '일반적으로 도배 후 필름 시공이 추천됩니다. 벽지 위에 붙은 필름의 부착력이 떨어질 수 있기 때문에 실리콘 마감을 하여 미관을 높이는 것이 좋습니다.']\n"
          ]
        },
        {
          "output_type": "stream",
          "name": "stderr",
          "text": [
            "Setting `pad_token_id` to `eos_token_id`:2 for open-end generation.\n"
          ]
        },
        {
          "output_type": "stream",
          "name": "stdout",
          "text": [
            "['흠집을 목재 펜스틱으로 채우고, 같은 색상의 나무 왁스로 마감하는 것이 좋습니다.', '입구나 복도와 같이 많은 사람들이 지나가는 공간은 깨끗하고 환영스러운 인상을 주는 것이 중요합니다. 페인트는 이러한 공간에 활용하여 청결하고 깔끔한 분위기를 연출할 수 있습니다.', '도배지 표면에 먼지나 연기(예: 담배 연기, 조리과정에서 발생하는 연기 등)가 축적되면 얼룩이 발생할 수 있습니다.', '습도가 높으면 곰팡이가 번식하기 좋은 환경이기 때문에 곰팡이가 발생할 수 있습니다.']\n"
          ]
        },
        {
          "output_type": "stream",
          "name": "stderr",
          "text": [
            "Setting `pad_token_id` to `eos_token_id`:2 for open-end generation.\n"
          ]
        },
        {
          "output_type": "stream",
          "name": "stdout",
          "text": [
            "['방청페인트의 시공방법은 피도면 정리, 방청도료 도장, 상도작업 순으로 진행됩니다.', '배관공사 시 통기구를 설치하는 이유는 악취를 제거하고 배수도를 원활하게 유지하기 위함입니다.', '유성발수제는 소재에 물이 침투하는 것을 근본적으로 차단하여 소재의 수명을 연장하고, 동결, 염에 의한 손상, 화학적 파괴, 생물에 의한 침식 등 다양한 외부 요인에 대해 보호해준다는 점입니다.', '규산질계 침투성 도포 방수공사는 콘크리트 표면에 무기질의 활성 실리카 성분을 포함한 침투성 물질을 도포하여 콘크리트의 간극이나 공극에 침투시켜 수밀한 방수층을 형성하는 작업입니다.']\n"
          ]
        },
        {
          "output_type": "stream",
          "name": "stderr",
          "text": [
            "Setting `pad_token_id` to `eos_token_id`:2 for open-end generation.\n"
          ]
        },
        {
          "output_type": "stream",
          "name": "stdout",
          "text": [
            "['고습도 환경에서 몰딩 소재가 팽창하거나 수축하여 변형될 수 있습니다.', '내외부 온도차가 클 경우 도배지에 결로가 발생하여 곰팡이가 발생할 수 있습니다.', '활기차운 주방을 꾸미기 위해서는 밝은 컬러 스키마, 식물, 그리고 개방형 수납을 고려해보세요.', '초배지는 페인트와는 다른 종류의 재료이기 때문에 페인트를 바로 칠하는 것은 적절하지 않습니다. 또한, 초배지는 페인트를 흡수하지 않을 수 있어 페인트의 접착력을 감소시킬 수 있습니다. 따라서 벽면에 초배지가 남아 있는 경우에는 페인트를 바로 칠하는 것보다는 적절한 접착력을 가진 벽면 처리 솔루션을 사용하여 페인트 작업을 진행하는 것이 좋습니다.']\n"
          ]
        },
        {
          "output_type": "stream",
          "name": "stderr",
          "text": [
            "Setting `pad_token_id` to `eos_token_id`:2 for open-end generation.\n"
          ]
        },
        {
          "output_type": "stream",
          "name": "stdout",
          "text": [
            "['속건형 유성 발수제는 건축자재의 표면에 도장하여 물의 침투를 막아주고, 건축자재의 색상을 보호하고 유지시켜주며, 건물의 균열이나 백화현상, 철근의 부식을 방지하여 건물의 수명을 연장시키는 효과가 있습니다.', '1년 이내인 경우 벽지 속지 내부에 주사기를 사용하여 아세톤을 함침한 후 건조시켜 이염된 유색 반점을 증발(1회 20~30분 소요, 2~3회 반복)시킵니다. 그러나 만약 석고보드 원지와 벽지 원지에 존재하는 승화 염료가 벽지 표면으로 완전하게 이염된 경우 반점을 제거하기 어렵습니다. 이 경우 벽지를 재시공하는 것이 필요합니다.', '석구조는 석재로 쌓아 올리는 건축 구조를 의미합니다. 석구조는 풍압력, 지진력, 그리고 기타 인위적 횡력에 대해 극히 취약하기 때문에 고층 건물에는 부적합하며 보강구조로 설계해야 합니다.', '기둥-보 구조 방식은 건물을 지탱하는 기둥과 이를 연결하는 보로 구성된 건축 방식입니다.']\n"
          ]
        },
        {
          "output_type": "stream",
          "name": "stderr",
          "text": [
            "Setting `pad_token_id` to `eos_token_id`:2 for open-end generation.\n"
          ]
        },
        {
          "output_type": "stream",
          "name": "stdout",
          "text": [
            "['원목마루는 비용이 비싸고 습기에 약하며 열전도율이 낮다는 단점이 있습니다.', '도배지 처리방법은 폐기물 스티커를 부착하는 것입니다. 폐기물 스티커는 동사무소, 편의점, 일반 슈퍼 등에서 구매할 수 있습니다. 또한, 아파트의 경우에는 경비실에 비치되어 있을 수 있으니 해당 사항을 확인하고 문의하시는 것이 좋습니다.', '마감재의 하자 여부를 판단하는 방법은 설계도서와의 일치 여부, 기능상의 문제, 미관상의 문제, 그리고 안전상의 문제 여부를 고려하여 종합적으로 판단해야 합니다.', '새집증후군을 예방하는 방법은 목재 가구나 건축자재에 포르말린과 같은 유해 물질이 사용되지 않도록 주의해야 합니다. 또한, 휘발성 유기 화합물을 함유한 방향제 및 화학물질 함유 제품을 사용하지 않고, 공기 청정 식물을 키우며, 실내 환기를 자주 시키는 것이 중요합니다.']\n"
          ]
        },
        {
          "output_type": "stream",
          "name": "stderr",
          "text": [
            "Setting `pad_token_id` to `eos_token_id`:2 for open-end generation.\n"
          ]
        },
        {
          "output_type": "stream",
          "name": "stdout",
          "text": [
            "['강마루 바닥재는 다양한 디자인과 탁월한 표면 내구성, 유지보수의 용이함, 우수한 열전도율로 매우 효과적인 난방 효과가 있다는 점입니다. 또한, 강마루는 소음 발생이 적어 안정적인 실내 환경을 제공합니다.', '창문을 열어 환기하는 것은 공기 중의 유해 물질을 배출하고 신선한 공기를 유입하여 실내 환경을 개선하고 건강한 실내 환경을 유지하는 데 도움이 됩니다.', '도배풀을 제거하는 데 가장 효과적인 방법은 걸레로 부드럽게 문지르고 살살 닦아내는 것입니다. 만약 이 방법으로도 도배풀이 제거되지 않는다면, 도배풀 제거제를 사용하여 깨끗하게 닦아내야 합니다.', '옥상 방수용 탄성 에멀전 페인트는 건조 후 이음매 없이 연속적으로 형성된 도막이 뛰어난 내수성을 갖고 있어 건물의 충격이나 수축과 팽창에도 도막이 갈라지거나 손상되는 것을 방지하도록 탄성과 인장강도를 보유하며, 침수가 반복되는 장기간의 옥외폭로 조건에서도 소지 부착성과 내구성을 보유하여 수명이 오랫동안 유지됩니다.']\n"
          ]
        },
        {
          "output_type": "stream",
          "name": "stderr",
          "text": [
            "Setting `pad_token_id` to `eos_token_id`:2 for open-end generation.\n"
          ]
        },
        {
          "output_type": "stream",
          "name": "stdout",
          "text": [
            "['통나무구조 방식은 1층 높이에서 7~12cm 정도의 침하가 발생할 수 있으므로, 창문틀 등의 개구부에는 침하를 고려한 디테일을 고려해야 합니다.', '화학물질은 유해한 노출로부터 근로자를 보호하기 위해 산업안전보건공단, 환경공단, 미국의 OSHA(산업안전보건국)와 같은 규제 기관에서 요구하는데, MSDS는 이러한 정보와 안전한 취급, 보관, 폐기에 대한 지침을 포함하는 문서입니다.', '에나멜 계열 페인트는 내화성이 높고 색상을 쉽게 입힐 수 있는 특징을 가지고 있습니다. 이러한 특성으로 인해 가구, 창문 프레임, 문짝, 철제 가정용품, 그릴, 레인지 후드, 높이 조절이 가능한 선반, 자전거의 프레임, 높이 조절이 가능한 선반, 그릴, 레인지 후드, 높이 조절이 가능한 선반, 자전거의 프레임, 높이 조절이 가능한 선반, 그릴, 레인지 후드, 높이 조절이 가능한 선반,', '라돈은 지반과 암석 등에서 나오는 강심도 자연 방사성 물질입니다. 공동주택의 실내 라돈을 측정하는 방법은 최저층에서 측정하며, 공동주택의 총 세대수가 100세대일 때는 3세대를 측정하고, 그 이후 100세대가 증가할 때마다 1세대씩 추가하여 최대 12세대까지 시료를 채취합니다.']\n"
          ]
        },
        {
          "output_type": "stream",
          "name": "stderr",
          "text": [
            "Setting `pad_token_id` to `eos_token_id`:2 for open-end generation.\n"
          ]
        },
        {
          "output_type": "stream",
          "name": "stdout",
          "text": [
            "['화학물질의 잠재적 위험에 대한 정보와 안전한 취급, 보관, 폐기에 대한 지침을 포함하는 문서입니다.', '새집증후군을 해결하기 위해서는 천연 소재와 포름알데히드 처리를 하지 않은 자재를 사용하고, 창문을 열어 자연스럽게 환기를 유지하며, 실내 난방 온도를 30도 이상으로 8시간 정도 유지하여 휘발성 유기물질을 제거하는 것이 좋습니다.', '소화기에는 ABC 소화기, 분말 소화기, 이산화탄소 소화기 등이 있습니다.', '질석벽지는 아트월이나 현관 입구에서 많이 사용되는 이유는 질감이 풍부하고 고급스러운 느낌을 주며, 색상이 다양하고 균일하게 유지되기 때문입니다.']\n"
          ]
        },
        {
          "output_type": "stream",
          "name": "stderr",
          "text": [
            "Setting `pad_token_id` to `eos_token_id`:2 for open-end generation.\n"
          ]
        },
        {
          "output_type": "stream",
          "name": "stdout",
          "text": [
            "['도배지 꼬임 하자가 발생하는 원인 중 하나로 석고보드가 이동하는 경우가 있습니다. 이러한 경우에는 꼬임이 발생한 부분을 제거하고 퍼티, 샌딩 작업 후 재시공을 해야 합니다.', '건조시간이 충분하지 않으면 도배지 꼬임이 발생할 수 있습니다.', '폴리에스테르 흡음 단열재는 물을 흡수하면 결합력과 인장강도가 뛰어나 배수가 잘 되고 뭉침(떡짐) 현상이 발생하지 않습니다.', '제조사 권장 건조시간(일반적으로 일주일)을 지키지 않으면 도배지 꼬임이 발생할 수 있습니다.']\n"
          ]
        },
        {
          "output_type": "stream",
          "name": "stderr",
          "text": [
            "Setting `pad_token_id` to `eos_token_id`:2 for open-end generation.\n"
          ]
        },
        {
          "output_type": "stream",
          "name": "stdout",
          "text": [
            "['내단열 방식은 열교 문제가 발생할 수 있습니다. 이는 열교 부위가 충분한 단열재가 없거나 열교 부위가 잘 닫히지 않아 열이 잘 전달되지 않아 열교 부위가 뜨거워지거나 냉각되지 않는 경우입니다.', '터짐 하자는 도배지가 팽창하거나 수축하여 벽면에 힘이 가해 벽면이 찢어지거나 흠집이 생기는 하자입니다. 이러한 상황은 건물의 소유자나 거주자가 건물 내부 환경을 유지하는 책임이 있습니다.', '새집증후군을 해결하려면 천연 소재와 포름알데히드 처리를 하지 않은 자재를 사용하고, 창문을 열어 자연스럽게 환기를 유지하며, 실내 난방 온도를 30도 이상으로 8시간 정도 유지하여 휘발성 유기물질을 제거하는 것이 좋습니다.', '건물의 면진장치는 지진 발생 시 건물의 면진 장치가 작동하여 건물을 보호하는 역할을 합니다. 지진 발생 시 건물의 면진 장치가 건물을 보호하고 안정성을 유지하는 역할을 수행하며, 지진으로 인한 피해를 최소화하는 데 중요한 역할을 합니다.']\n"
          ]
        },
        {
          "output_type": "stream",
          "name": "stderr",
          "text": [
            "Setting `pad_token_id` to `eos_token_id`:2 for open-end generation.\n"
          ]
        },
        {
          "output_type": "stream",
          "name": "stdout",
          "text": [
            "['페인트 상도재는 최종 마감으로 칠하는 페인트로, 영어로는 Top Coating이라고 합니다. 주도재와 하도재의 제품을 보호하고 마감을 완성시키는 역할을 합니다.', '강화마루는 가격과 시공비가 저렴하고 충격과 흠집에 강하며 시공, 유지보수, 철거가 쉬우며 접착 시공을 하지 않아 친환경적이라는 장점이 있습니다.', '경질우레탄폼은 폴리소시아노레이트(Polyisocyanurate, PIR)를 단열소재로 사용하여 기존 폴리우레탄(Polyurethane, PUR)의 장점을 유지하면서 자기 소화성, 내열성, 저연성 등이 개선된 특징을 가지고 있습니다. 이로써 작은 두께로도 건축물의 에너지 절약 설계를 충족하며, 열전도를 완벽하게 차단하는 탁월한 기능을 가지고 있습니다.', '상도작업은 방청도료가 건조된 후에 원하는 색상의 에나멜이나 조합페인트 등을 사용하여 마무리하는 작업입니다.']\n"
          ]
        },
        {
          "output_type": "stream",
          "name": "stderr",
          "text": [
            "Setting `pad_token_id` to `eos_token_id`:2 for open-end generation.\n"
          ]
        },
        {
          "output_type": "stream",
          "name": "stdout",
          "text": [
            "['옅은 색과 세로 패턴의 벽지를 사용하고, 커튼을 천장에 가깝게 걸어 길게 내려주고, 가구나 소품을 벽지와 같은 색상으로 맞추면 공간이 더 넓어 보이게 만들어집니다.', '도배지 울음은 도배지 면 부분에 발생하는 볼록한 튀어나온 현상을 의미합니다. 이는 건조시간 부족으로 인해 발생하는 경우가 많습니다. 이러한 경우에는 제조사 권장 건조시간(일반적으로 일주일)동안 기다려주시고, 온도와 습도에 유의해야 합니다. 만약 일주일이 지난 후에도 울음이 지속된다면 시공사에 연락하여 상황을 진단받아야 합니다.', '사무실 실내공기 측정을 위해서는 사무실 안에서 공기질이 좋지 않을 것으로 예상되는 2곳 이상에서 시료를 채취해야 합니다. 이때, 측정은 사무실 바닥면으로부터 0.9미터 이상 1.5미터 이하의 높이에서 이루어져야 합니다. 그러나 사무실 면적이 500제곱미터를 초과하는 경우에는 500제곱미터마다 1곳씩 추가하여 시료를 채취해야 합니다.', '아파트 도배 평수는 일반적으로 분양 평수에 2.5를 곱하여 계산합니다.']\n"
          ]
        },
        {
          "output_type": "stream",
          "name": "stderr",
          "text": [
            "Setting `pad_token_id` to `eos_token_id`:2 for open-end generation.\n"
          ]
        },
        {
          "output_type": "stream",
          "name": "stdout",
          "text": [
            "['고습도로 인해 도배지에 얼룩이 발생하는 것은 일반적인 문제입니다. 습기 관리를 통해 공간 내 적정 습도를 유지하고, 필요에 따라 제습기나 환풍기를 이용하여 습도를 조절하는 것이 중요합니다. 또한, 얼룩이 발생한 부분을 건조시키고 물질을 제거하여 표면을 깨끗하게 유지하는 것이 좋습니다.', '건물의 구조적 결함은 석고수정을 유발할 수 있습니다.', '대리석 타일은 열전도율이 높아 난방비를 절감할 수 있는 장점이 있습니다.', '외단열 시공 시 외부 환경 조건이 중요한 이유는 외단열 시공 후 건물 내부 온도와 습도를 안정적으로 유지하기 위해서는 외부 온도와 습도에 대한 고려가 필요하기 때문입니다.']\n"
          ]
        },
        {
          "output_type": "stream",
          "name": "stderr",
          "text": [
            "Setting `pad_token_id` to `eos_token_id`:2 for open-end generation.\n"
          ]
        },
        {
          "output_type": "stream",
          "name": "stdout",
          "text": [
            "['스탠드 조명은 이동이 가능하고 조명의 위치를 자유롭게 변경할 수 있는 장점이 있습니다. 다만, 스탠드 조명은 공간 전체를 밝히지 않고 특정 부분을 강조하는 데 사용되며, 조명의 위치에 따라 조명의 밝기와 방향이 달라질 수 있습니다.', '실크벽지의 얼룩을 지우는 방법은 주방세제를 물과 함께 걸레에 묻혀 부드럽게 닦아내는 것입니다. 만약 이 방법으로도 얼룩이 사라지지 않는다면 전문 가구 청소제를 이용하여 신중하게 시도해 볼 수 있습니다.', '부적절한 설치로 인해 제품의 품질이 영향을 받을 수 있습니다. 제품을 올바르게 설치하지 않으면 제대로 작동하지 않거나 빠르게 파괴될 수 있습니다.', '차음재의 성능은 투과손실, 투과시간, 투과음량 등을 기준으로 평가됩니다. 투과손실은 소음이 차음재를 통과할 때 손실되는 소음의 비율을 의미하며, 투과시간은 소음이 차음재를 통과하는 시간을 의미하고, 투과음량은 소음의 양을 의미합니다.']\n"
          ]
        },
        {
          "output_type": "stream",
          "name": "stderr",
          "text": [
            "Setting `pad_token_id` to `eos_token_id`:2 for open-end generation.\n"
          ]
        },
        {
          "output_type": "stream",
          "name": "stdout",
          "text": [
            "['라돈을 제외한 공동주택의 실내공기질 측정시료는 100세대일 때 3개 세대(저층부, 중층부, 고층부)를 기본으로 하며, 100세대가 증가할 때마다 1세대씩 추가하여 최대 20세대까지 시료를 채취하게 됩니다.', '마감재의 하자 여부를 판단하는 방법은 설계도서와의 일치 여부, 기능상의 문제, 미관상의 문제, 그리고 안전상의 문제 여부를 고려하여 종합적으로 판단해야 합니다.', '실크벽지의 얼룩을 제거하려면 주방세제를 물과 함께 걸레에 묻혀 부드럽게 닦아내는 것이 좋습니다. 만약 이 방법으로도 얼룩이 사라지지 않는다면 전문 가구 청소제를 이용하여 신중하게 시도해 볼 수 있습니다.', '페인트 처리 시 양에 따라 페인트 처리 시간이 달라질 수 있습니다. 일반적으로 페인트 처리 시간은 제조사의 권장 시간을 따르는 것이 좋습니다. 페인트 종류에 따라 완전 건조 시간이 다르기 때문에 해당 페인트의 사용설명서를 참고하여 페인트 처리 시간을 확인하는 것이 좋습니다.']\n"
          ]
        },
        {
          "output_type": "stream",
          "name": "stderr",
          "text": [
            "Setting `pad_token_id` to `eos_token_id`:2 for open-end generation.\n"
          ]
        },
        {
          "output_type": "stream",
          "name": "stdout",
          "text": [
            "['건설 산업은 건물, 도로, 다리, 터널, 댐 등의 건축물과 토목구조물을 건설하는 산업을 의미합니다.', '토목이란 목재, 철재, 토석 등을 사용하여 도로, 교량, 항만, 제방, 철도, 건물, 상하수도 등을 건설하는 공사를 의미합니다.', '제진구조는 지진이 발생했을 때 건물이 받는 지진 에너지를 최소화하기 위해 설치된 구조물이나 시스템을 의미합니다.', '중목구조는 건물을 지지하기 위해 중앙에 큰 기둥(중목)을 설치하고 그 주변에 보(보근)를 배열하는 구조 방식입니다. 이 방식은 기중-보 방식과 유사하지만 구조용 목재로 큰 각재를 사용하여 건축한다는 것이 차이점입니다.']\n"
          ]
        },
        {
          "output_type": "stream",
          "name": "stderr",
          "text": [
            "Setting `pad_token_id` to `eos_token_id`:2 for open-end generation.\n"
          ]
        },
        {
          "output_type": "stream",
          "name": "stdout",
          "text": [
            "['작은 공간의 홈오피스에 원목사이딩을 사용할 때 고려해야 할 단점은 가격대가 높고 관리가 어려우며 습기에 약해 뒤틀림, 부서짐, 수축/팽창이 발생할 수 있다는 점입니다.\\n\\n이러한 단점을 극복하기 위해서는 적절한 방수 처리와 주기적인 보수가 필요합니다. 또한, 공간 활용을 고려하여 가구 배치와 조명 조절을 통해 작은 공간을 효과적으로 활용할 수 있습니다.', '알루미늄징크은 시공이 잘못될 경우 울음 현상이 발생하고 리얼징크보다 가격이 비싼 것이 단점입니다.', '아이소핑크는 습기에 강하고 곰팡이 및 세균 증식을 막을 수 있으며 단열재 중에서 열전도율이 가장 낮고 시공이 간편하다는 점이 장점입니다.', '겨울철 도배 작업 시 실내 온도가 낮으면 도배 접착제의 건조가 느려지고 제대로 작동하지 않을 수 있습니다. 따라서 적정한 온도를 유지하여 작업하는 것이 중요합니다.']\n"
          ]
        },
        {
          "output_type": "stream",
          "name": "stderr",
          "text": [
            "Setting `pad_token_id` to `eos_token_id`:2 for open-end generation.\n"
          ]
        },
        {
          "output_type": "stream",
          "name": "stdout",
          "text": [
            "['철골구조는 화재에 대한 내화성이 약하여 붕괴의 위험이 있습니다. 이를 해결하기 위해 벽돌, 콘크리트 또는 석고보드와 같은 내화성 구조물을 사용하여 화재에 의한 파손을 예방하는 것이 일반적입니다.', '벽돌구조는 건물의 벽체와 기초 등을 벽돌과 모르타르로 쌓아 만드는 건축 방식을 말합니다. 이는 조적식 구조의 기본이며, 블록, 석재, 타일 등을 섞어 사용하기도 합니다.', '석구조는 석재로 쌓아 올리는 건축 구조를 의미합니다. 석구조는 풍압력, 지진력, 그리고 기타 인위적 횡력에 대해 극히 취약하기 때문에 고층 건물에는 부적합하며 보강구조로 설계해야 합니다.', '기둥-보 구조 방식은 건물을 지탱하는 기둥과 이를 연결하는 보로 구성된 건축 방식입니다.']\n"
          ]
        },
        {
          "output_type": "stream",
          "name": "stderr",
          "text": [
            "Setting `pad_token_id` to `eos_token_id`:2 for open-end generation.\n"
          ]
        },
        {
          "output_type": "stream",
          "name": "stdout",
          "text": [
            "['포세린 타일은 시공 방법에 따라 하자 발생률이 높고 오염에 취약하다는 단점이 있습니다.', '셀룰로오스는 정밀한 시공 능력이 필요하다는 단점이 있습니다.', '부드러운 욕실 인테리어를 위해 연한 파스텔 컬러, 부드러운 조명, 그리고 자연적인 소재를 활용하세요.', '반려동물을 위한 바닥재로는 미끄럼 방지 기능이 있는 바닥재가 있습니다.']\n"
          ]
        },
        {
          "output_type": "stream",
          "name": "stderr",
          "text": [
            "Setting `pad_token_id` to `eos_token_id`:2 for open-end generation.\n"
          ]
        },
        {
          "output_type": "stream",
          "name": "stdout",
          "text": [
            "['팬던트 라이트는 천장에 길게 늘어뜨린 전선에 전구를 부착한 조명을 의미합니다.', '바닥재를 선택할 때는 사용 공간의 특성, 가구와의 조화, 청소와 유지보수 편의성, 내구성 및 방수성 등을 고려해야 합니다.', '속건형 유성 발수제는 도장된 표면에 용제가 증발하여 유성계를 형성하고, 이를 통해 발수효과를 발휘하는 제품입니다. 이 제품은 도장 후 용제가 증발되면서 발수효과를 지속적으로 유지할 수 있어, 다양한 재료와 표면에 사용됩니다. 이는 특히 건축물 외벽 및 지붕 등 수분으로부터 보호할 필요가 있는 부분에 유용한 제품입니다.', '주방은 식탁이 있는 다이닝 공간과 음식을 조리하는 조리대에 따라 추천하는 조명이 달라집니다. 식탁에는 팬던트 조명을 설치하여 식사하는 사람들 간의 집중도를 높여줄 수 있습니다. 또한 조리대에는 눈에 피로가 없을 정도로 밝게 하는 것이 중요합니다. 적정 조도는 조리 공간은 200lux를 기준으로 150~300lux, 식탁은 100lux를 기준으로 60~150lux가 적절합니다.']\n"
          ]
        },
        {
          "output_type": "stream",
          "name": "stderr",
          "text": [
            "Setting `pad_token_id` to `eos_token_id`:2 for open-end generation.\n"
          ]
        },
        {
          "output_type": "stream",
          "name": "stdout",
          "text": [
            "['생기 넘치는 식물과 아트워크를 함께 활용하는 것은 공간에 생기와 아름다움을 더해주는 효과가 있습니다. 식물은 자연스러운 느낌을 주고, 아트워크는 공간에 독특한 분위기를 불어넣어 아름다운 인테리어를 완성해줍니다.', '밀풀은 유통기한이 짧고 풀자국이 남을 수 있다는 단점이 있습니다.', '철근콘크리트 구조는 콘크리트의 압축 강도를 활용하면서도 인장 응력에 대한 취약점을 보완하기 위해 철근을 사용하는 구조입니다. 이러한 구조는 내구성, 내화 및 내진 성능이 우수하며, 철근의 사용으로 콘크리트의 인장응력 약점을 보완할 수 있습니다.', '통나무구조 방식은 내력벽이 원형 또는 각형의 통나무로 구성되고, 나머지 바닥이나 지붕 구조는 2x4 경량 목구조와 유사한 방식으로 짓는 구조입니다.']\n"
          ]
        },
        {
          "output_type": "stream",
          "name": "stderr",
          "text": [
            "Setting `pad_token_id` to `eos_token_id`:2 for open-end generation.\n"
          ]
        },
        {
          "output_type": "stream",
          "name": "stdout",
          "text": [
            "['공명형 흡음재는 소리가 특정 주파수에서 공명하여 소리를 소멸시키는 구조로, 이는 소리의 특성에 따라 적용 범위가 제한되기 때문입니다.', '결로가 발생하는 원인은 높은 습도와 차가운 표면온도입니다. 이러한 조건이 지속되면 물방울이 형성되고 이어서 발생하는 물기는 건물의 손상과 곰팡이 등을 유발할 수 있습니다.', '베란다를 활용하여 야외 라운지를 만들려면 편안한 가구, 식물, 그리고 편안한 패드를 추가하세요.', '페인트 작업 시 유해물질을 최소화하기 위해서는 적절한 환기 시설을 설치하고, 마스크와 같은 개인보호구를 착용하는 것이 중요합니다. 또한, 환경부는 휘발성유기화합물의 위험에 대비해 실내에서는 유성페인트 사용을 금지하고, 수성페인트를 사용하는 것을 권장하고 있습니다.']\n"
          ]
        },
        {
          "output_type": "stream",
          "name": "stderr",
          "text": [
            "Setting `pad_token_id` to `eos_token_id`:2 for open-end generation.\n"
          ]
        },
        {
          "output_type": "stream",
          "name": "stdout",
          "text": [
            "['흡음재 중 판 진동형은 벽과 일정 간격을 두고 얇고 통기성이 없는 판을 설치하여 소리가 전달될 때 판이 진동하여 마찰에 의해 소리가 소멸되는 흡음재입니다.', '점토벽돌은 유지보수가 쉽고 내구성이 뛰어나며, 고벽돌이나 전벽돌에 비해 비교적 저렴하며 흙이 기본 재료로 사용되어 친환경적이라는 점이 장점입니다.', '도료는 단색이며 부드러운 마감을 원할 때 유용하며, 벽지는 다양한 패턴과 텍스처를 추가하여 공간에 풍부한 느낌을 주는 장점이 있습니다.', '강화마루는 합성수지를 기반으로 하고 나무 섬유, 목재 섬유, 석재 섬유 등을 첨가한 것을 의미합니다.']\n"
          ]
        },
        {
          "output_type": "stream",
          "name": "stderr",
          "text": [
            "Setting `pad_token_id` to `eos_token_id`:2 for open-end generation.\n"
          ]
        },
        {
          "output_type": "stream",
          "name": "stdout",
          "text": [
            "['징크판넬의 단점은 다른 징크에 비해 수명이 짧은 편이며, 시공이 잘못될 경우 녹슬기 쉽다는 점입니다.', '벽장 부위 결로의 원인은 타공하자가 발생한 벽면에 습기가 침투하여 결로가 발생하는 것입니다. 타공하자가 심할 경우 습기가 침투하여 벽면에 응축되어 결로가 발생할 수 있습니다.', '스마트홈 시스템을 설치할 때 보안은 매우 중요한 부분입니다. 먼저, 강력한 비밀번호와 두 단계 인증을 사용하여 계정 보안을 강화해야 합니다. 둘째, 스마트홈 장치들의 소프트웨어를 항상 최신 상태로 유지하며, 보안 패치를 정기적으로 설치하여 보안 취약점을 최대한 줄이는 것이 좋습니다. 셋째, Wi-Fi 네트워크에 WPA3와 같은 강력한 암호화를 사용하고, 필요한 경우 VPN을 고려하여 안전한 네트워크 연결을 유지해야 합니다. 마지막으로, 스마트��', '물 누수로 인한 곰팡이와 곰팡이 냄새를 제거하는 방법은 물 누수 부분을 수리하고, 곰팡이를 제거하고 곰팡이 방지 페인트를 사용하여 곰팡이 재생장을 방지하고 냄새를 제거하는 것입니다.']\n"
          ]
        },
        {
          "output_type": "stream",
          "name": "stderr",
          "text": [
            "Setting `pad_token_id` to `eos_token_id`:2 for open-end generation.\n"
          ]
        },
        {
          "output_type": "stream",
          "name": "stdout",
          "text": [
            "['펫테리어는 반려동물과 함께 살아가는 가정을 위해 주거 환경과 반려동물의 생활환경을 고려하여 조화롭게 꾸미는 것을 의미합니다.', '도배지를 작게 자르면 도배지 끝 부분에 장력이 커지게 되어 몰딩과의 틈새가 발생할 수 있습니다.', '높은 습도로 인해 도배풀의 접착력이 떨어지면 도배지 패턴이 이어지지 않을 수 있습니다.', '알러지가 있는 사람은 표면이 먼지나 알러지 유발물질이 적게 축적되는 매끄럽고 평평한 벽지를 선택하는 것이 좋습니다. 이는 청소가 쉽고 유지보수가 용이하여 알러지 반응을 최소화하는 데 도움이 됩니다.']\n"
          ]
        },
        {
          "output_type": "stream",
          "name": "stderr",
          "text": [
            "Setting `pad_token_id` to `eos_token_id`:2 for open-end generation.\n"
          ]
        },
        {
          "output_type": "stream",
          "name": "stdout",
          "text": [
            "['아파트 도배평수는 일반적으로 아파트 평수에 3.5를 곱하여 계산합니다. 따라서, 아파트 평수가 30평이라면 도배평수는 30평 * 3.5 = 105평이 됩니다. 이는 도배할 벽 및 천장의 면적과 관련된 비용을 계산하는 데 도움을 줄 수 있습니다.\\n\\n소화기 설치 시 주의해야 할 점은 소화기 종류에 따라 설치 간격이 달라지므로 사용 설명서를 참고하고, 소화기를 설치한 후에는 유지보수와 정기적인 점검이 필요합니다.', '마감재의 하자 여부를 판단하는 방법은 설계도서와의 일치 여부, 기능상의 문제, 미관상의 문제, 그리고 안전상의 문제 여부를 고려하여 종합적으로 판단해야 합니다.', '라돈은 지반과 암석 등에서 나오는 강심도 자연 방사성 물질입니다. 공동주택의 실내 라돈을 측정하는 방법은 최저층에서 측정하며, 공동주택의 총 세대수가 100세대일 때는 3세대를 측정하고, 그 이후 100세대가 증가할 때마다 1세대씩 추가하여 최대 12세대까지 시료를 채취합니다.', '이산화탄소 소화기는 B, C급 화재에 사용되며, 높은 압력으로 압축 액화된 이산화탄소(CO2)를 단단한 철제 용기에 넣어 만들어진 소화기입니다. 물을 뿌리면 안 되는 화재에 효과적이며, 소화 과정에서 냉각 효과와 질식 효과가 큰데 있습니다.']\n"
          ]
        },
        {
          "output_type": "stream",
          "name": "stderr",
          "text": [
            "Setting `pad_token_id` to `eos_token_id`:2 for open-end generation.\n"
          ]
        },
        {
          "output_type": "stream",
          "name": "stdout",
          "text": [
            "['분말 소화기는 탄산수소 나트륨 분말을 사용하여 불을 질식 소화시키는 소화기입니다.', '면진장치는 지반에서 오는 진동 에너지를 흡수하여 건물에 전달되는 진동을 최소화해 주는 진동 격리장치입니다.', '면진구조는 지진이나 지반의 이동으로 인한 건물의 피해를 최소화하기 위해 지반과 건물을 분리시키는 방법을 의미합니다.', '외단열 시공은 내단열 시공에 비해 단열효과가 좋고, 면적확보가 용이하다는 장점이 있습니다.']\n"
          ]
        },
        {
          "output_type": "stream",
          "name": "stderr",
          "text": [
            "Setting `pad_token_id` to `eos_token_id`:2 for open-end generation.\n"
          ]
        },
        {
          "output_type": "stream",
          "name": "stdout",
          "text": [
            "['외단열 시공은 내단열 시공에 비해 단열재를 건물 외부에 설치하여 열을 차단하는 방법입니다. 내단열 시공은 건물 내부에 단열재를 설치하여 열을 차단하는 방법입니다.', '가장 인기 있는 바닥재는 대리석 타일입니다. 가장 비싼 바닥재는 대리석 타일입니다.', '포세린 타일은 밀도와 강도가 뛰어나고 변형이 적고 반영구적이라는 장점이 있습니다. 또한, 내구성이 뛰어나고 흡수율이 낮아 물에 대한 저항력을 가지며, 각종 화학물질 및 열에 대한 저항성이 뛰어나다는 장점을 가지고 있습니다.', '중목구조는 건물을 지지하기 위해 중앙에 큰 기둥(중목)을 설치하고 그 주변에 보(보근)를 배열하는 구조 방식입니다. 이 방식은 기중-보 방식과 유사하지만 구조용 목재로 큰 각재를 사용하여 건축한다는 것이 차이점입니다.']\n"
          ]
        },
        {
          "output_type": "stream",
          "name": "stderr",
          "text": [
            "Setting `pad_token_id` to `eos_token_id`:2 for open-end generation.\n"
          ]
        },
        {
          "output_type": "stream",
          "name": "stdout",
          "text": [
            "['철근콘크리트 구조는 콘크리트의 압축 강도를 활용하면서도 인장 응력에 대한 취약점을 보완하기 위해 철근을 사용하는 구조입니다. 이러한 구조는 내구성, 내화 및 내진 성능이 우수하며, 철근의 사용으로 콘크리트의 인장응력 약점을 보완할 수 있습니다.', '일반적으로 도배지는 도배평수에 5를 나눈 값만큼 필요합니다. 예를 들어, 32평 아파트의 경우 도배평수는 80평(32*2.5)이며, 5로 나눈 값인 16롤만큼 필요합니다. 하지만 작업자의 숙련도, 작업환경, 집 구조 등에 따라 실제 필요한 양은 달라질 수 있습니다.', '벽에 구멍을 막는 가장 효과적인 방법은 합성 먼지나 석고를 사용하여 구멍을 메우고, 필요에 따라 패팅을 적용하는 것입니다.', '경질우레탄폼은 폴리소시아노레이트(Polyisocyanurate, PIR)를 단열소재로 사용하여 기존 폴리우레탄(Polyurethane, PUR)의 장점을 유지하면서 자기 소화성, 내열성, 저연성 등이 개선된 특징을 가지고 있습니다. 이로써 작은 두께로도 건축물의 에너지 절약 설계를 충족하며, 열전도를 완벽하게 차단하는 탁월한 기능을 가지고 있습니다.']\n"
          ]
        },
        {
          "output_type": "stream",
          "name": "stderr",
          "text": [
            "Setting `pad_token_id` to `eos_token_id`:2 for open-end generation.\n"
          ]
        },
        {
          "output_type": "stream",
          "name": "stdout",
          "text": [
            "['질석벽지는 아트월이나 현관 입구에 많이 사용되는 이유는 질감이 풍부하고 광택이 많아 고급스러운 분위기를 연출할 수 있기 때문입니다.', '시트 방수공사는 외단열 공법을 통해 에너지를 절약할 수 있는 장점이 있습니다.', '내진설계에서 안정성이 높은 순서로는 내진구조, 제진구조, 면진구조 순으로 안정성이 높습니다.', '내진구조란 지진이 발생했을 때 건물이나 다른 시설물이 붕괴되지 않도록 설계된 구조를 의미합니다. 내진벽과 같은 부재를 설치하여 건물을 보다 견고하게 만들어 지진에 대비하는 것이 내진구조의 목적입니다.']\n"
          ]
        },
        {
          "output_type": "stream",
          "name": "stderr",
          "text": [
            "Setting `pad_token_id` to `eos_token_id`:2 for open-end generation.\n"
          ]
        },
        {
          "output_type": "stream",
          "name": "stdout",
          "text": [
            "['분말 소화기를 사용할 때 주의할 점은 압력계의 눈금 위치가 초록색에 있는지 확인하고, 받침대를 사용하여 소화기 부식을 방지하고, 한 달에 한 번 흔들어 분말이 굳어짐을 방지하고, 직사광선이나 고온 다습한 장소를 피하고, 사용 후 내부 약제를 완전히 제거하는 것입니다.', '아파트 도배 평수는 일반적으로 분양 평수에 2.5를 곱하여 계산합니다.', '압출법 보온판은 습기에 강하고 곰팡이 및 세균 증식을 막을 수 있는 것이 가장 큰 장점입니다.', '평지붕의 누수 문제를 방지하기 위해 수성 벽체용 탄성 방수 도료를 사용하는 것은 효과적입니다. 이 도료는 벽체에 바르고 방수 기능을 제공하여 누수를 방지하고 벽체를 보호하는 역할을 합니다.']\n",
            "['석고수정은 건물 구조적 결함, 지진, 외부 충격 등이 원인이 될 수 있습니다.', '새집증후군을 해결하려면 천연 소재와 포름알데히드 처리를 하지 않은 자재를 사용하고, 창문을 열어 자연스럽게 환기를 유지하며, 새로 이사하기 전에는 실내 난방 온도를 30도 이상으로 8시간 정도 유지하여 휘발성 유기물질을 제거해야 합니다.', '카페트의 기대수명은 일반적으로 6년입니다.', '오리지널징크는 다양한 패턴과 디자인을 적용할 수 있다는 것이 장점입니다.']\n"
          ]
        }
      ]
    },
    {
      "cell_type": "markdown",
      "source": [
        "## 후처리 및 제출 파일(TEXT/VECTOR) 생성"
      ],
      "metadata": {
        "id": "acKiMJRJBDNp"
      }
    },
    {
      "cell_type": "code",
      "source": [
        "test_llm"
      ],
      "metadata": {
        "colab": {
          "base_uri": "https://localhost:8080/"
        },
        "id": "OHXXnisUbAvl",
        "outputId": "f7eb007a-6136-4e9b-8fc5-5b85712ab6a1"
      },
      "execution_count": null,
      "outputs": [
        {
          "output_type": "execute_result",
          "data": {
            "text/plain": [
              "Dataset({\n",
              "    features: ['id', '질문', '질문_split', 'encoded', 'reference_Q', 'reference_text', 'chat_sample', 'chat_num', 'decoded_llm'],\n",
              "    num_rows: 196\n",
              "})"
            ]
          },
          "metadata": {},
          "execution_count": 17
        }
      ]
    },
    {
      "cell_type": "code",
      "source": [
        "def extract_ans(batch):\n",
        "    sen_mo = SentenceTransformer('distiluse-base-multilingual-cased-v1')\n",
        "    ans = sen_mo.encode(batch['decoded_llm'])\n",
        "    return {'ans': ans}\n",
        "\n",
        "def post_process(test_llm, submission):\n",
        "\n",
        "    test_result = test_llm.to_pandas()\n",
        "    test_result = test_result.groupby('id')['decoded_llm'].agg(lambda x: ' '.join(x)).reset_index()\n",
        "    test_result_dataset = Dataset.from_pandas(test_result)\n",
        "    test_result_dataset = test_result_dataset.map(extract_ans, batched=True, batch_size=64)\n",
        "\n",
        "    #submission.iloc[:,1:] = test_result_dataset['ans'] # 1. Submission 추론이 원래 대회 규칙 대로\n",
        "    submission.iloc[:,1:] = test_result_dataset['decoded_llm'] # 2. Submission 추론이 TEXT 형태로\n",
        "\n",
        "    submission.to_csv('./data/final_submmit.csv', index=False)\n",
        "\n",
        "    return submission\n"
      ],
      "metadata": {
        "id": "opiO8KNFBH_u"
      },
      "execution_count": null,
      "outputs": []
    },
    {
      "cell_type": "code",
      "source": [
        "post_process(test_llm, pd.read_csv('./data/sample_submission.csv', encoding='utf-8'))"
      ],
      "metadata": {
        "colab": {
          "base_uri": "https://localhost:8080/",
          "height": 49,
          "referenced_widgets": [
            "faa4a7211fc14acbb2360f7127fb16fb",
            "8542cc3310aa40eea702912ded6fd8e3",
            "726ae1f8c08b455f9b29778f93fa2d33",
            "06f3595af23b428bb6a487f734471757",
            "bde7aef0b9aa48be882571c35d52e27f",
            "d026b17c54a94633bb3a1a9e3a171921",
            "9a77d520af3a461096380c415f39aa13",
            "03f74b00a5934fab9511a272992a6589",
            "71b172c43a51456cb5aa1d492070f8a2",
            "0ecb178d27a544199b4c8d746396242a",
            "95a7ca6996d4470990ef549edf72c22d"
          ]
        },
        "id": "31gbhLmoBl3w",
        "outputId": "c3df1ffd-bc3e-4a95-c5d4-1c0500b660e5"
      },
      "execution_count": null,
      "outputs": [
        {
          "output_type": "display_data",
          "data": {
            "text/plain": [
              "Map:   0%|          | 0/130 [00:00<?, ? examples/s]"
            ],
            "application/vnd.jupyter.widget-view+json": {
              "version_major": 2,
              "version_minor": 0,
              "model_id": "faa4a7211fc14acbb2360f7127fb16fb"
            }
          },
          "metadata": {}
        }
      ]
    }
  ],
  "metadata": {
    "accelerator": "GPU",
    "colab": {
      "gpuType": "A100",
      "machine_shape": "hm",
      "provenance": [],
      "collapsed_sections": [
        "htHs9v-Oflm8",
        "iVmfqB16uf-3",
        "99AN7Gb-A2zN",
        "EryU45QHlYtj",
        "acKiMJRJBDNp"
      ]
    },
    "kernelspec": {
      "display_name": "Python 3",
      "name": "python3"
    },
    "language_info": {
      "name": "python"
    },
    "widgets": {
      "application/vnd.jupyter.widget-state+json": {
        "e77c43bf25784aa79af1065606abade7": {
          "model_module": "@jupyter-widgets/controls",
          "model_name": "HBoxModel",
          "model_module_version": "1.5.0",
          "state": {
            "_dom_classes": [],
            "_model_module": "@jupyter-widgets/controls",
            "_model_module_version": "1.5.0",
            "_model_name": "HBoxModel",
            "_view_count": null,
            "_view_module": "@jupyter-widgets/controls",
            "_view_module_version": "1.5.0",
            "_view_name": "HBoxView",
            "box_style": "",
            "children": [
              "IPY_MODEL_078ac5968f494dd78fab11ceb1dfee78",
              "IPY_MODEL_d87162916b704574bf4b8d09d8c9fa3d",
              "IPY_MODEL_f8f05add45784abf8e4774f359e1b36d"
            ],
            "layout": "IPY_MODEL_fe97a7ac263247dd8c4c1c0110dd062a"
          }
        },
        "078ac5968f494dd78fab11ceb1dfee78": {
          "model_module": "@jupyter-widgets/controls",
          "model_name": "HTMLModel",
          "model_module_version": "1.5.0",
          "state": {
            "_dom_classes": [],
            "_model_module": "@jupyter-widgets/controls",
            "_model_module_version": "1.5.0",
            "_model_name": "HTMLModel",
            "_view_count": null,
            "_view_module": "@jupyter-widgets/controls",
            "_view_module_version": "1.5.0",
            "_view_name": "HTMLView",
            "description": "",
            "description_tooltip": null,
            "layout": "IPY_MODEL_aaa2114d74a14ba2ac32161beb7fbc17",
            "placeholder": "​",
            "style": "IPY_MODEL_ce5f032683f8412f9e364c9f9c320228",
            "value": "config.json: 100%"
          }
        },
        "d87162916b704574bf4b8d09d8c9fa3d": {
          "model_module": "@jupyter-widgets/controls",
          "model_name": "FloatProgressModel",
          "model_module_version": "1.5.0",
          "state": {
            "_dom_classes": [],
            "_model_module": "@jupyter-widgets/controls",
            "_model_module_version": "1.5.0",
            "_model_name": "FloatProgressModel",
            "_view_count": null,
            "_view_module": "@jupyter-widgets/controls",
            "_view_module_version": "1.5.0",
            "_view_name": "ProgressView",
            "bar_style": "success",
            "description": "",
            "description_tooltip": null,
            "layout": "IPY_MODEL_7c50952ab4f141fead025dbba837f400",
            "max": 624,
            "min": 0,
            "orientation": "horizontal",
            "style": "IPY_MODEL_26cfa70ce58843f48cebd1189056fae5",
            "value": 624
          }
        },
        "f8f05add45784abf8e4774f359e1b36d": {
          "model_module": "@jupyter-widgets/controls",
          "model_name": "HTMLModel",
          "model_module_version": "1.5.0",
          "state": {
            "_dom_classes": [],
            "_model_module": "@jupyter-widgets/controls",
            "_model_module_version": "1.5.0",
            "_model_name": "HTMLModel",
            "_view_count": null,
            "_view_module": "@jupyter-widgets/controls",
            "_view_module_version": "1.5.0",
            "_view_name": "HTMLView",
            "description": "",
            "description_tooltip": null,
            "layout": "IPY_MODEL_aedf0f2b8f3a469ca0d9a1aaa44535ea",
            "placeholder": "​",
            "style": "IPY_MODEL_9b1a2353cea7491480d96db293136580",
            "value": " 624/624 [00:00&lt;00:00, 38.0kB/s]"
          }
        },
        "fe97a7ac263247dd8c4c1c0110dd062a": {
          "model_module": "@jupyter-widgets/base",
          "model_name": "LayoutModel",
          "model_module_version": "1.2.0",
          "state": {
            "_model_module": "@jupyter-widgets/base",
            "_model_module_version": "1.2.0",
            "_model_name": "LayoutModel",
            "_view_count": null,
            "_view_module": "@jupyter-widgets/base",
            "_view_module_version": "1.2.0",
            "_view_name": "LayoutView",
            "align_content": null,
            "align_items": null,
            "align_self": null,
            "border": null,
            "bottom": null,
            "display": null,
            "flex": null,
            "flex_flow": null,
            "grid_area": null,
            "grid_auto_columns": null,
            "grid_auto_flow": null,
            "grid_auto_rows": null,
            "grid_column": null,
            "grid_gap": null,
            "grid_row": null,
            "grid_template_areas": null,
            "grid_template_columns": null,
            "grid_template_rows": null,
            "height": null,
            "justify_content": null,
            "justify_items": null,
            "left": null,
            "margin": null,
            "max_height": null,
            "max_width": null,
            "min_height": null,
            "min_width": null,
            "object_fit": null,
            "object_position": null,
            "order": null,
            "overflow": null,
            "overflow_x": null,
            "overflow_y": null,
            "padding": null,
            "right": null,
            "top": null,
            "visibility": null,
            "width": null
          }
        },
        "aaa2114d74a14ba2ac32161beb7fbc17": {
          "model_module": "@jupyter-widgets/base",
          "model_name": "LayoutModel",
          "model_module_version": "1.2.0",
          "state": {
            "_model_module": "@jupyter-widgets/base",
            "_model_module_version": "1.2.0",
            "_model_name": "LayoutModel",
            "_view_count": null,
            "_view_module": "@jupyter-widgets/base",
            "_view_module_version": "1.2.0",
            "_view_name": "LayoutView",
            "align_content": null,
            "align_items": null,
            "align_self": null,
            "border": null,
            "bottom": null,
            "display": null,
            "flex": null,
            "flex_flow": null,
            "grid_area": null,
            "grid_auto_columns": null,
            "grid_auto_flow": null,
            "grid_auto_rows": null,
            "grid_column": null,
            "grid_gap": null,
            "grid_row": null,
            "grid_template_areas": null,
            "grid_template_columns": null,
            "grid_template_rows": null,
            "height": null,
            "justify_content": null,
            "justify_items": null,
            "left": null,
            "margin": null,
            "max_height": null,
            "max_width": null,
            "min_height": null,
            "min_width": null,
            "object_fit": null,
            "object_position": null,
            "order": null,
            "overflow": null,
            "overflow_x": null,
            "overflow_y": null,
            "padding": null,
            "right": null,
            "top": null,
            "visibility": null,
            "width": null
          }
        },
        "ce5f032683f8412f9e364c9f9c320228": {
          "model_module": "@jupyter-widgets/controls",
          "model_name": "DescriptionStyleModel",
          "model_module_version": "1.5.0",
          "state": {
            "_model_module": "@jupyter-widgets/controls",
            "_model_module_version": "1.5.0",
            "_model_name": "DescriptionStyleModel",
            "_view_count": null,
            "_view_module": "@jupyter-widgets/base",
            "_view_module_version": "1.2.0",
            "_view_name": "StyleView",
            "description_width": ""
          }
        },
        "7c50952ab4f141fead025dbba837f400": {
          "model_module": "@jupyter-widgets/base",
          "model_name": "LayoutModel",
          "model_module_version": "1.2.0",
          "state": {
            "_model_module": "@jupyter-widgets/base",
            "_model_module_version": "1.2.0",
            "_model_name": "LayoutModel",
            "_view_count": null,
            "_view_module": "@jupyter-widgets/base",
            "_view_module_version": "1.2.0",
            "_view_name": "LayoutView",
            "align_content": null,
            "align_items": null,
            "align_self": null,
            "border": null,
            "bottom": null,
            "display": null,
            "flex": null,
            "flex_flow": null,
            "grid_area": null,
            "grid_auto_columns": null,
            "grid_auto_flow": null,
            "grid_auto_rows": null,
            "grid_column": null,
            "grid_gap": null,
            "grid_row": null,
            "grid_template_areas": null,
            "grid_template_columns": null,
            "grid_template_rows": null,
            "height": null,
            "justify_content": null,
            "justify_items": null,
            "left": null,
            "margin": null,
            "max_height": null,
            "max_width": null,
            "min_height": null,
            "min_width": null,
            "object_fit": null,
            "object_position": null,
            "order": null,
            "overflow": null,
            "overflow_x": null,
            "overflow_y": null,
            "padding": null,
            "right": null,
            "top": null,
            "visibility": null,
            "width": null
          }
        },
        "26cfa70ce58843f48cebd1189056fae5": {
          "model_module": "@jupyter-widgets/controls",
          "model_name": "ProgressStyleModel",
          "model_module_version": "1.5.0",
          "state": {
            "_model_module": "@jupyter-widgets/controls",
            "_model_module_version": "1.5.0",
            "_model_name": "ProgressStyleModel",
            "_view_count": null,
            "_view_module": "@jupyter-widgets/base",
            "_view_module_version": "1.2.0",
            "_view_name": "StyleView",
            "bar_color": null,
            "description_width": ""
          }
        },
        "aedf0f2b8f3a469ca0d9a1aaa44535ea": {
          "model_module": "@jupyter-widgets/base",
          "model_name": "LayoutModel",
          "model_module_version": "1.2.0",
          "state": {
            "_model_module": "@jupyter-widgets/base",
            "_model_module_version": "1.2.0",
            "_model_name": "LayoutModel",
            "_view_count": null,
            "_view_module": "@jupyter-widgets/base",
            "_view_module_version": "1.2.0",
            "_view_name": "LayoutView",
            "align_content": null,
            "align_items": null,
            "align_self": null,
            "border": null,
            "bottom": null,
            "display": null,
            "flex": null,
            "flex_flow": null,
            "grid_area": null,
            "grid_auto_columns": null,
            "grid_auto_flow": null,
            "grid_auto_rows": null,
            "grid_column": null,
            "grid_gap": null,
            "grid_row": null,
            "grid_template_areas": null,
            "grid_template_columns": null,
            "grid_template_rows": null,
            "height": null,
            "justify_content": null,
            "justify_items": null,
            "left": null,
            "margin": null,
            "max_height": null,
            "max_width": null,
            "min_height": null,
            "min_width": null,
            "object_fit": null,
            "object_position": null,
            "order": null,
            "overflow": null,
            "overflow_x": null,
            "overflow_y": null,
            "padding": null,
            "right": null,
            "top": null,
            "visibility": null,
            "width": null
          }
        },
        "9b1a2353cea7491480d96db293136580": {
          "model_module": "@jupyter-widgets/controls",
          "model_name": "DescriptionStyleModel",
          "model_module_version": "1.5.0",
          "state": {
            "_model_module": "@jupyter-widgets/controls",
            "_model_module_version": "1.5.0",
            "_model_name": "DescriptionStyleModel",
            "_view_count": null,
            "_view_module": "@jupyter-widgets/base",
            "_view_module_version": "1.2.0",
            "_view_name": "StyleView",
            "description_width": ""
          }
        },
        "9bfaba45c0d84bb7903fea55bd4abbb6": {
          "model_module": "@jupyter-widgets/controls",
          "model_name": "HBoxModel",
          "model_module_version": "1.5.0",
          "state": {
            "_dom_classes": [],
            "_model_module": "@jupyter-widgets/controls",
            "_model_module_version": "1.5.0",
            "_model_name": "HBoxModel",
            "_view_count": null,
            "_view_module": "@jupyter-widgets/controls",
            "_view_module_version": "1.5.0",
            "_view_name": "HBoxView",
            "box_style": "",
            "children": [
              "IPY_MODEL_e41af7849a2a4158823cbceca5010430",
              "IPY_MODEL_b78cff8e78f14b13a1bd9ffe8af1e3f0",
              "IPY_MODEL_17ca41fd6f664f16945b536eacb003d2"
            ],
            "layout": "IPY_MODEL_39216b1dab394c7fb1c70f58ea6b7787"
          }
        },
        "e41af7849a2a4158823cbceca5010430": {
          "model_module": "@jupyter-widgets/controls",
          "model_name": "HTMLModel",
          "model_module_version": "1.5.0",
          "state": {
            "_dom_classes": [],
            "_model_module": "@jupyter-widgets/controls",
            "_model_module_version": "1.5.0",
            "_model_name": "HTMLModel",
            "_view_count": null,
            "_view_module": "@jupyter-widgets/controls",
            "_view_module_version": "1.5.0",
            "_view_name": "HTMLView",
            "description": "",
            "description_tooltip": null,
            "layout": "IPY_MODEL_23f2748e78664432a20adfa8fc409f46",
            "placeholder": "​",
            "style": "IPY_MODEL_806dac9674c741b98f7285bc12285f76",
            "value": "pytorch_model.bin.index.json: 100%"
          }
        },
        "b78cff8e78f14b13a1bd9ffe8af1e3f0": {
          "model_module": "@jupyter-widgets/controls",
          "model_name": "FloatProgressModel",
          "model_module_version": "1.5.0",
          "state": {
            "_dom_classes": [],
            "_model_module": "@jupyter-widgets/controls",
            "_model_module_version": "1.5.0",
            "_model_name": "FloatProgressModel",
            "_view_count": null,
            "_view_module": "@jupyter-widgets/controls",
            "_view_module_version": "1.5.0",
            "_view_name": "ProgressView",
            "bar_style": "success",
            "description": "",
            "description_tooltip": null,
            "layout": "IPY_MODEL_db4c0d9b49d4483591b08f5f11232b85",
            "max": 23950,
            "min": 0,
            "orientation": "horizontal",
            "style": "IPY_MODEL_d37fba88076744169d166938af6e67a5",
            "value": 23950
          }
        },
        "17ca41fd6f664f16945b536eacb003d2": {
          "model_module": "@jupyter-widgets/controls",
          "model_name": "HTMLModel",
          "model_module_version": "1.5.0",
          "state": {
            "_dom_classes": [],
            "_model_module": "@jupyter-widgets/controls",
            "_model_module_version": "1.5.0",
            "_model_name": "HTMLModel",
            "_view_count": null,
            "_view_module": "@jupyter-widgets/controls",
            "_view_module_version": "1.5.0",
            "_view_name": "HTMLView",
            "description": "",
            "description_tooltip": null,
            "layout": "IPY_MODEL_e582dfc20fc54c8e9a5a85aee22a028e",
            "placeholder": "​",
            "style": "IPY_MODEL_9d96e8760d9f483bb6795b8bb40193f1",
            "value": " 23.9k/23.9k [00:00&lt;00:00, 1.84MB/s]"
          }
        },
        "39216b1dab394c7fb1c70f58ea6b7787": {
          "model_module": "@jupyter-widgets/base",
          "model_name": "LayoutModel",
          "model_module_version": "1.2.0",
          "state": {
            "_model_module": "@jupyter-widgets/base",
            "_model_module_version": "1.2.0",
            "_model_name": "LayoutModel",
            "_view_count": null,
            "_view_module": "@jupyter-widgets/base",
            "_view_module_version": "1.2.0",
            "_view_name": "LayoutView",
            "align_content": null,
            "align_items": null,
            "align_self": null,
            "border": null,
            "bottom": null,
            "display": null,
            "flex": null,
            "flex_flow": null,
            "grid_area": null,
            "grid_auto_columns": null,
            "grid_auto_flow": null,
            "grid_auto_rows": null,
            "grid_column": null,
            "grid_gap": null,
            "grid_row": null,
            "grid_template_areas": null,
            "grid_template_columns": null,
            "grid_template_rows": null,
            "height": null,
            "justify_content": null,
            "justify_items": null,
            "left": null,
            "margin": null,
            "max_height": null,
            "max_width": null,
            "min_height": null,
            "min_width": null,
            "object_fit": null,
            "object_position": null,
            "order": null,
            "overflow": null,
            "overflow_x": null,
            "overflow_y": null,
            "padding": null,
            "right": null,
            "top": null,
            "visibility": null,
            "width": null
          }
        },
        "23f2748e78664432a20adfa8fc409f46": {
          "model_module": "@jupyter-widgets/base",
          "model_name": "LayoutModel",
          "model_module_version": "1.2.0",
          "state": {
            "_model_module": "@jupyter-widgets/base",
            "_model_module_version": "1.2.0",
            "_model_name": "LayoutModel",
            "_view_count": null,
            "_view_module": "@jupyter-widgets/base",
            "_view_module_version": "1.2.0",
            "_view_name": "LayoutView",
            "align_content": null,
            "align_items": null,
            "align_self": null,
            "border": null,
            "bottom": null,
            "display": null,
            "flex": null,
            "flex_flow": null,
            "grid_area": null,
            "grid_auto_columns": null,
            "grid_auto_flow": null,
            "grid_auto_rows": null,
            "grid_column": null,
            "grid_gap": null,
            "grid_row": null,
            "grid_template_areas": null,
            "grid_template_columns": null,
            "grid_template_rows": null,
            "height": null,
            "justify_content": null,
            "justify_items": null,
            "left": null,
            "margin": null,
            "max_height": null,
            "max_width": null,
            "min_height": null,
            "min_width": null,
            "object_fit": null,
            "object_position": null,
            "order": null,
            "overflow": null,
            "overflow_x": null,
            "overflow_y": null,
            "padding": null,
            "right": null,
            "top": null,
            "visibility": null,
            "width": null
          }
        },
        "806dac9674c741b98f7285bc12285f76": {
          "model_module": "@jupyter-widgets/controls",
          "model_name": "DescriptionStyleModel",
          "model_module_version": "1.5.0",
          "state": {
            "_model_module": "@jupyter-widgets/controls",
            "_model_module_version": "1.5.0",
            "_model_name": "DescriptionStyleModel",
            "_view_count": null,
            "_view_module": "@jupyter-widgets/base",
            "_view_module_version": "1.2.0",
            "_view_name": "StyleView",
            "description_width": ""
          }
        },
        "db4c0d9b49d4483591b08f5f11232b85": {
          "model_module": "@jupyter-widgets/base",
          "model_name": "LayoutModel",
          "model_module_version": "1.2.0",
          "state": {
            "_model_module": "@jupyter-widgets/base",
            "_model_module_version": "1.2.0",
            "_model_name": "LayoutModel",
            "_view_count": null,
            "_view_module": "@jupyter-widgets/base",
            "_view_module_version": "1.2.0",
            "_view_name": "LayoutView",
            "align_content": null,
            "align_items": null,
            "align_self": null,
            "border": null,
            "bottom": null,
            "display": null,
            "flex": null,
            "flex_flow": null,
            "grid_area": null,
            "grid_auto_columns": null,
            "grid_auto_flow": null,
            "grid_auto_rows": null,
            "grid_column": null,
            "grid_gap": null,
            "grid_row": null,
            "grid_template_areas": null,
            "grid_template_columns": null,
            "grid_template_rows": null,
            "height": null,
            "justify_content": null,
            "justify_items": null,
            "left": null,
            "margin": null,
            "max_height": null,
            "max_width": null,
            "min_height": null,
            "min_width": null,
            "object_fit": null,
            "object_position": null,
            "order": null,
            "overflow": null,
            "overflow_x": null,
            "overflow_y": null,
            "padding": null,
            "right": null,
            "top": null,
            "visibility": null,
            "width": null
          }
        },
        "d37fba88076744169d166938af6e67a5": {
          "model_module": "@jupyter-widgets/controls",
          "model_name": "ProgressStyleModel",
          "model_module_version": "1.5.0",
          "state": {
            "_model_module": "@jupyter-widgets/controls",
            "_model_module_version": "1.5.0",
            "_model_name": "ProgressStyleModel",
            "_view_count": null,
            "_view_module": "@jupyter-widgets/base",
            "_view_module_version": "1.2.0",
            "_view_name": "StyleView",
            "bar_color": null,
            "description_width": ""
          }
        },
        "e582dfc20fc54c8e9a5a85aee22a028e": {
          "model_module": "@jupyter-widgets/base",
          "model_name": "LayoutModel",
          "model_module_version": "1.2.0",
          "state": {
            "_model_module": "@jupyter-widgets/base",
            "_model_module_version": "1.2.0",
            "_model_name": "LayoutModel",
            "_view_count": null,
            "_view_module": "@jupyter-widgets/base",
            "_view_module_version": "1.2.0",
            "_view_name": "LayoutView",
            "align_content": null,
            "align_items": null,
            "align_self": null,
            "border": null,
            "bottom": null,
            "display": null,
            "flex": null,
            "flex_flow": null,
            "grid_area": null,
            "grid_auto_columns": null,
            "grid_auto_flow": null,
            "grid_auto_rows": null,
            "grid_column": null,
            "grid_gap": null,
            "grid_row": null,
            "grid_template_areas": null,
            "grid_template_columns": null,
            "grid_template_rows": null,
            "height": null,
            "justify_content": null,
            "justify_items": null,
            "left": null,
            "margin": null,
            "max_height": null,
            "max_width": null,
            "min_height": null,
            "min_width": null,
            "object_fit": null,
            "object_position": null,
            "order": null,
            "overflow": null,
            "overflow_x": null,
            "overflow_y": null,
            "padding": null,
            "right": null,
            "top": null,
            "visibility": null,
            "width": null
          }
        },
        "9d96e8760d9f483bb6795b8bb40193f1": {
          "model_module": "@jupyter-widgets/controls",
          "model_name": "DescriptionStyleModel",
          "model_module_version": "1.5.0",
          "state": {
            "_model_module": "@jupyter-widgets/controls",
            "_model_module_version": "1.5.0",
            "_model_name": "DescriptionStyleModel",
            "_view_count": null,
            "_view_module": "@jupyter-widgets/base",
            "_view_module_version": "1.2.0",
            "_view_name": "StyleView",
            "description_width": ""
          }
        },
        "a740d5d5fbe44a27bde24b94930f57a8": {
          "model_module": "@jupyter-widgets/controls",
          "model_name": "HBoxModel",
          "model_module_version": "1.5.0",
          "state": {
            "_dom_classes": [],
            "_model_module": "@jupyter-widgets/controls",
            "_model_module_version": "1.5.0",
            "_model_name": "HBoxModel",
            "_view_count": null,
            "_view_module": "@jupyter-widgets/controls",
            "_view_module_version": "1.5.0",
            "_view_name": "HBoxView",
            "box_style": "",
            "children": [
              "IPY_MODEL_32c5f2f9e54141b78bfac100436cea2e",
              "IPY_MODEL_846d93479cbe4c1eb8ba843d25da91d5",
              "IPY_MODEL_5256010147bc4820a505b0f83b93c2be"
            ],
            "layout": "IPY_MODEL_9ebc7b0a76f343ecbd830ae54c04ada0"
          }
        },
        "32c5f2f9e54141b78bfac100436cea2e": {
          "model_module": "@jupyter-widgets/controls",
          "model_name": "HTMLModel",
          "model_module_version": "1.5.0",
          "state": {
            "_dom_classes": [],
            "_model_module": "@jupyter-widgets/controls",
            "_model_module_version": "1.5.0",
            "_model_name": "HTMLModel",
            "_view_count": null,
            "_view_module": "@jupyter-widgets/controls",
            "_view_module_version": "1.5.0",
            "_view_name": "HTMLView",
            "description": "",
            "description_tooltip": null,
            "layout": "IPY_MODEL_5d114b3a44064c228b59f31ab0913765",
            "placeholder": "​",
            "style": "IPY_MODEL_b86e2096cbc24b009daf5a8267be47dc",
            "value": "Downloading shards: 100%"
          }
        },
        "846d93479cbe4c1eb8ba843d25da91d5": {
          "model_module": "@jupyter-widgets/controls",
          "model_name": "FloatProgressModel",
          "model_module_version": "1.5.0",
          "state": {
            "_dom_classes": [],
            "_model_module": "@jupyter-widgets/controls",
            "_model_module_version": "1.5.0",
            "_model_name": "FloatProgressModel",
            "_view_count": null,
            "_view_module": "@jupyter-widgets/controls",
            "_view_module_version": "1.5.0",
            "_view_name": "ProgressView",
            "bar_style": "success",
            "description": "",
            "description_tooltip": null,
            "layout": "IPY_MODEL_8b1ca8dc78944fef8361159c5848df87",
            "max": 2,
            "min": 0,
            "orientation": "horizontal",
            "style": "IPY_MODEL_b74b8bb5e2764d54b10125e3d8cb26d0",
            "value": 2
          }
        },
        "5256010147bc4820a505b0f83b93c2be": {
          "model_module": "@jupyter-widgets/controls",
          "model_name": "HTMLModel",
          "model_module_version": "1.5.0",
          "state": {
            "_dom_classes": [],
            "_model_module": "@jupyter-widgets/controls",
            "_model_module_version": "1.5.0",
            "_model_name": "HTMLModel",
            "_view_count": null,
            "_view_module": "@jupyter-widgets/controls",
            "_view_module_version": "1.5.0",
            "_view_name": "HTMLView",
            "description": "",
            "description_tooltip": null,
            "layout": "IPY_MODEL_3eb6435e375e4c7387821f839a9501f5",
            "placeholder": "​",
            "style": "IPY_MODEL_a4f98b73609b46d78fddf8f86f7161e9",
            "value": " 2/2 [08:21&lt;00:00, 208.59s/it]"
          }
        },
        "9ebc7b0a76f343ecbd830ae54c04ada0": {
          "model_module": "@jupyter-widgets/base",
          "model_name": "LayoutModel",
          "model_module_version": "1.2.0",
          "state": {
            "_model_module": "@jupyter-widgets/base",
            "_model_module_version": "1.2.0",
            "_model_name": "LayoutModel",
            "_view_count": null,
            "_view_module": "@jupyter-widgets/base",
            "_view_module_version": "1.2.0",
            "_view_name": "LayoutView",
            "align_content": null,
            "align_items": null,
            "align_self": null,
            "border": null,
            "bottom": null,
            "display": null,
            "flex": null,
            "flex_flow": null,
            "grid_area": null,
            "grid_auto_columns": null,
            "grid_auto_flow": null,
            "grid_auto_rows": null,
            "grid_column": null,
            "grid_gap": null,
            "grid_row": null,
            "grid_template_areas": null,
            "grid_template_columns": null,
            "grid_template_rows": null,
            "height": null,
            "justify_content": null,
            "justify_items": null,
            "left": null,
            "margin": null,
            "max_height": null,
            "max_width": null,
            "min_height": null,
            "min_width": null,
            "object_fit": null,
            "object_position": null,
            "order": null,
            "overflow": null,
            "overflow_x": null,
            "overflow_y": null,
            "padding": null,
            "right": null,
            "top": null,
            "visibility": null,
            "width": null
          }
        },
        "5d114b3a44064c228b59f31ab0913765": {
          "model_module": "@jupyter-widgets/base",
          "model_name": "LayoutModel",
          "model_module_version": "1.2.0",
          "state": {
            "_model_module": "@jupyter-widgets/base",
            "_model_module_version": "1.2.0",
            "_model_name": "LayoutModel",
            "_view_count": null,
            "_view_module": "@jupyter-widgets/base",
            "_view_module_version": "1.2.0",
            "_view_name": "LayoutView",
            "align_content": null,
            "align_items": null,
            "align_self": null,
            "border": null,
            "bottom": null,
            "display": null,
            "flex": null,
            "flex_flow": null,
            "grid_area": null,
            "grid_auto_columns": null,
            "grid_auto_flow": null,
            "grid_auto_rows": null,
            "grid_column": null,
            "grid_gap": null,
            "grid_row": null,
            "grid_template_areas": null,
            "grid_template_columns": null,
            "grid_template_rows": null,
            "height": null,
            "justify_content": null,
            "justify_items": null,
            "left": null,
            "margin": null,
            "max_height": null,
            "max_width": null,
            "min_height": null,
            "min_width": null,
            "object_fit": null,
            "object_position": null,
            "order": null,
            "overflow": null,
            "overflow_x": null,
            "overflow_y": null,
            "padding": null,
            "right": null,
            "top": null,
            "visibility": null,
            "width": null
          }
        },
        "b86e2096cbc24b009daf5a8267be47dc": {
          "model_module": "@jupyter-widgets/controls",
          "model_name": "DescriptionStyleModel",
          "model_module_version": "1.5.0",
          "state": {
            "_model_module": "@jupyter-widgets/controls",
            "_model_module_version": "1.5.0",
            "_model_name": "DescriptionStyleModel",
            "_view_count": null,
            "_view_module": "@jupyter-widgets/base",
            "_view_module_version": "1.2.0",
            "_view_name": "StyleView",
            "description_width": ""
          }
        },
        "8b1ca8dc78944fef8361159c5848df87": {
          "model_module": "@jupyter-widgets/base",
          "model_name": "LayoutModel",
          "model_module_version": "1.2.0",
          "state": {
            "_model_module": "@jupyter-widgets/base",
            "_model_module_version": "1.2.0",
            "_model_name": "LayoutModel",
            "_view_count": null,
            "_view_module": "@jupyter-widgets/base",
            "_view_module_version": "1.2.0",
            "_view_name": "LayoutView",
            "align_content": null,
            "align_items": null,
            "align_self": null,
            "border": null,
            "bottom": null,
            "display": null,
            "flex": null,
            "flex_flow": null,
            "grid_area": null,
            "grid_auto_columns": null,
            "grid_auto_flow": null,
            "grid_auto_rows": null,
            "grid_column": null,
            "grid_gap": null,
            "grid_row": null,
            "grid_template_areas": null,
            "grid_template_columns": null,
            "grid_template_rows": null,
            "height": null,
            "justify_content": null,
            "justify_items": null,
            "left": null,
            "margin": null,
            "max_height": null,
            "max_width": null,
            "min_height": null,
            "min_width": null,
            "object_fit": null,
            "object_position": null,
            "order": null,
            "overflow": null,
            "overflow_x": null,
            "overflow_y": null,
            "padding": null,
            "right": null,
            "top": null,
            "visibility": null,
            "width": null
          }
        },
        "b74b8bb5e2764d54b10125e3d8cb26d0": {
          "model_module": "@jupyter-widgets/controls",
          "model_name": "ProgressStyleModel",
          "model_module_version": "1.5.0",
          "state": {
            "_model_module": "@jupyter-widgets/controls",
            "_model_module_version": "1.5.0",
            "_model_name": "ProgressStyleModel",
            "_view_count": null,
            "_view_module": "@jupyter-widgets/base",
            "_view_module_version": "1.2.0",
            "_view_name": "StyleView",
            "bar_color": null,
            "description_width": ""
          }
        },
        "3eb6435e375e4c7387821f839a9501f5": {
          "model_module": "@jupyter-widgets/base",
          "model_name": "LayoutModel",
          "model_module_version": "1.2.0",
          "state": {
            "_model_module": "@jupyter-widgets/base",
            "_model_module_version": "1.2.0",
            "_model_name": "LayoutModel",
            "_view_count": null,
            "_view_module": "@jupyter-widgets/base",
            "_view_module_version": "1.2.0",
            "_view_name": "LayoutView",
            "align_content": null,
            "align_items": null,
            "align_self": null,
            "border": null,
            "bottom": null,
            "display": null,
            "flex": null,
            "flex_flow": null,
            "grid_area": null,
            "grid_auto_columns": null,
            "grid_auto_flow": null,
            "grid_auto_rows": null,
            "grid_column": null,
            "grid_gap": null,
            "grid_row": null,
            "grid_template_areas": null,
            "grid_template_columns": null,
            "grid_template_rows": null,
            "height": null,
            "justify_content": null,
            "justify_items": null,
            "left": null,
            "margin": null,
            "max_height": null,
            "max_width": null,
            "min_height": null,
            "min_width": null,
            "object_fit": null,
            "object_position": null,
            "order": null,
            "overflow": null,
            "overflow_x": null,
            "overflow_y": null,
            "padding": null,
            "right": null,
            "top": null,
            "visibility": null,
            "width": null
          }
        },
        "a4f98b73609b46d78fddf8f86f7161e9": {
          "model_module": "@jupyter-widgets/controls",
          "model_name": "DescriptionStyleModel",
          "model_module_version": "1.5.0",
          "state": {
            "_model_module": "@jupyter-widgets/controls",
            "_model_module_version": "1.5.0",
            "_model_name": "DescriptionStyleModel",
            "_view_count": null,
            "_view_module": "@jupyter-widgets/base",
            "_view_module_version": "1.2.0",
            "_view_name": "StyleView",
            "description_width": ""
          }
        },
        "10b59aeae8ed4b419245c36390ef5a03": {
          "model_module": "@jupyter-widgets/controls",
          "model_name": "HBoxModel",
          "model_module_version": "1.5.0",
          "state": {
            "_dom_classes": [],
            "_model_module": "@jupyter-widgets/controls",
            "_model_module_version": "1.5.0",
            "_model_name": "HBoxModel",
            "_view_count": null,
            "_view_module": "@jupyter-widgets/controls",
            "_view_module_version": "1.5.0",
            "_view_name": "HBoxView",
            "box_style": "",
            "children": [
              "IPY_MODEL_413618364dcb4f4dabba0c83a091251a",
              "IPY_MODEL_0106c5fda4ca49d7b1e6d5ce0e3b16f0",
              "IPY_MODEL_0e6b1a8cef144ac3906eee0c10c03caf"
            ],
            "layout": "IPY_MODEL_f33a30b1100a494d8cf61ac4033e8555"
          }
        },
        "413618364dcb4f4dabba0c83a091251a": {
          "model_module": "@jupyter-widgets/controls",
          "model_name": "HTMLModel",
          "model_module_version": "1.5.0",
          "state": {
            "_dom_classes": [],
            "_model_module": "@jupyter-widgets/controls",
            "_model_module_version": "1.5.0",
            "_model_name": "HTMLModel",
            "_view_count": null,
            "_view_module": "@jupyter-widgets/controls",
            "_view_module_version": "1.5.0",
            "_view_name": "HTMLView",
            "description": "",
            "description_tooltip": null,
            "layout": "IPY_MODEL_d09af2540074403aa7253f871432e77f",
            "placeholder": "​",
            "style": "IPY_MODEL_7e68e5295c9f47cdbb3958aa4a16dbe2",
            "value": "pytorch_model-00001-of-00002.bin: 100%"
          }
        },
        "0106c5fda4ca49d7b1e6d5ce0e3b16f0": {
          "model_module": "@jupyter-widgets/controls",
          "model_name": "FloatProgressModel",
          "model_module_version": "1.5.0",
          "state": {
            "_dom_classes": [],
            "_model_module": "@jupyter-widgets/controls",
            "_model_module_version": "1.5.0",
            "_model_name": "FloatProgressModel",
            "_view_count": null,
            "_view_module": "@jupyter-widgets/controls",
            "_view_module_version": "1.5.0",
            "_view_name": "ProgressView",
            "bar_style": "success",
            "description": "",
            "description_tooltip": null,
            "layout": "IPY_MODEL_a3e4f0c5ba4f447c9ea20bd01e0148a0",
            "max": 9943028531,
            "min": 0,
            "orientation": "horizontal",
            "style": "IPY_MODEL_ae2679b7d17f4c6c96051b38a29b07ad",
            "value": 9943028531
          }
        },
        "0e6b1a8cef144ac3906eee0c10c03caf": {
          "model_module": "@jupyter-widgets/controls",
          "model_name": "HTMLModel",
          "model_module_version": "1.5.0",
          "state": {
            "_dom_classes": [],
            "_model_module": "@jupyter-widgets/controls",
            "_model_module_version": "1.5.0",
            "_model_name": "HTMLModel",
            "_view_count": null,
            "_view_module": "@jupyter-widgets/controls",
            "_view_module_version": "1.5.0",
            "_view_name": "HTMLView",
            "description": "",
            "description_tooltip": null,
            "layout": "IPY_MODEL_e6855780c7ce4aa5a3c9193fcb31938a",
            "placeholder": "​",
            "style": "IPY_MODEL_b42fc29f11c24881a8be3e31169a714d",
            "value": " 9.94G/9.94G [08:09&lt;00:00, 20.3MB/s]"
          }
        },
        "f33a30b1100a494d8cf61ac4033e8555": {
          "model_module": "@jupyter-widgets/base",
          "model_name": "LayoutModel",
          "model_module_version": "1.2.0",
          "state": {
            "_model_module": "@jupyter-widgets/base",
            "_model_module_version": "1.2.0",
            "_model_name": "LayoutModel",
            "_view_count": null,
            "_view_module": "@jupyter-widgets/base",
            "_view_module_version": "1.2.0",
            "_view_name": "LayoutView",
            "align_content": null,
            "align_items": null,
            "align_self": null,
            "border": null,
            "bottom": null,
            "display": null,
            "flex": null,
            "flex_flow": null,
            "grid_area": null,
            "grid_auto_columns": null,
            "grid_auto_flow": null,
            "grid_auto_rows": null,
            "grid_column": null,
            "grid_gap": null,
            "grid_row": null,
            "grid_template_areas": null,
            "grid_template_columns": null,
            "grid_template_rows": null,
            "height": null,
            "justify_content": null,
            "justify_items": null,
            "left": null,
            "margin": null,
            "max_height": null,
            "max_width": null,
            "min_height": null,
            "min_width": null,
            "object_fit": null,
            "object_position": null,
            "order": null,
            "overflow": null,
            "overflow_x": null,
            "overflow_y": null,
            "padding": null,
            "right": null,
            "top": null,
            "visibility": null,
            "width": null
          }
        },
        "d09af2540074403aa7253f871432e77f": {
          "model_module": "@jupyter-widgets/base",
          "model_name": "LayoutModel",
          "model_module_version": "1.2.0",
          "state": {
            "_model_module": "@jupyter-widgets/base",
            "_model_module_version": "1.2.0",
            "_model_name": "LayoutModel",
            "_view_count": null,
            "_view_module": "@jupyter-widgets/base",
            "_view_module_version": "1.2.0",
            "_view_name": "LayoutView",
            "align_content": null,
            "align_items": null,
            "align_self": null,
            "border": null,
            "bottom": null,
            "display": null,
            "flex": null,
            "flex_flow": null,
            "grid_area": null,
            "grid_auto_columns": null,
            "grid_auto_flow": null,
            "grid_auto_rows": null,
            "grid_column": null,
            "grid_gap": null,
            "grid_row": null,
            "grid_template_areas": null,
            "grid_template_columns": null,
            "grid_template_rows": null,
            "height": null,
            "justify_content": null,
            "justify_items": null,
            "left": null,
            "margin": null,
            "max_height": null,
            "max_width": null,
            "min_height": null,
            "min_width": null,
            "object_fit": null,
            "object_position": null,
            "order": null,
            "overflow": null,
            "overflow_x": null,
            "overflow_y": null,
            "padding": null,
            "right": null,
            "top": null,
            "visibility": null,
            "width": null
          }
        },
        "7e68e5295c9f47cdbb3958aa4a16dbe2": {
          "model_module": "@jupyter-widgets/controls",
          "model_name": "DescriptionStyleModel",
          "model_module_version": "1.5.0",
          "state": {
            "_model_module": "@jupyter-widgets/controls",
            "_model_module_version": "1.5.0",
            "_model_name": "DescriptionStyleModel",
            "_view_count": null,
            "_view_module": "@jupyter-widgets/base",
            "_view_module_version": "1.2.0",
            "_view_name": "StyleView",
            "description_width": ""
          }
        },
        "a3e4f0c5ba4f447c9ea20bd01e0148a0": {
          "model_module": "@jupyter-widgets/base",
          "model_name": "LayoutModel",
          "model_module_version": "1.2.0",
          "state": {
            "_model_module": "@jupyter-widgets/base",
            "_model_module_version": "1.2.0",
            "_model_name": "LayoutModel",
            "_view_count": null,
            "_view_module": "@jupyter-widgets/base",
            "_view_module_version": "1.2.0",
            "_view_name": "LayoutView",
            "align_content": null,
            "align_items": null,
            "align_self": null,
            "border": null,
            "bottom": null,
            "display": null,
            "flex": null,
            "flex_flow": null,
            "grid_area": null,
            "grid_auto_columns": null,
            "grid_auto_flow": null,
            "grid_auto_rows": null,
            "grid_column": null,
            "grid_gap": null,
            "grid_row": null,
            "grid_template_areas": null,
            "grid_template_columns": null,
            "grid_template_rows": null,
            "height": null,
            "justify_content": null,
            "justify_items": null,
            "left": null,
            "margin": null,
            "max_height": null,
            "max_width": null,
            "min_height": null,
            "min_width": null,
            "object_fit": null,
            "object_position": null,
            "order": null,
            "overflow": null,
            "overflow_x": null,
            "overflow_y": null,
            "padding": null,
            "right": null,
            "top": null,
            "visibility": null,
            "width": null
          }
        },
        "ae2679b7d17f4c6c96051b38a29b07ad": {
          "model_module": "@jupyter-widgets/controls",
          "model_name": "ProgressStyleModel",
          "model_module_version": "1.5.0",
          "state": {
            "_model_module": "@jupyter-widgets/controls",
            "_model_module_version": "1.5.0",
            "_model_name": "ProgressStyleModel",
            "_view_count": null,
            "_view_module": "@jupyter-widgets/base",
            "_view_module_version": "1.2.0",
            "_view_name": "StyleView",
            "bar_color": null,
            "description_width": ""
          }
        },
        "e6855780c7ce4aa5a3c9193fcb31938a": {
          "model_module": "@jupyter-widgets/base",
          "model_name": "LayoutModel",
          "model_module_version": "1.2.0",
          "state": {
            "_model_module": "@jupyter-widgets/base",
            "_model_module_version": "1.2.0",
            "_model_name": "LayoutModel",
            "_view_count": null,
            "_view_module": "@jupyter-widgets/base",
            "_view_module_version": "1.2.0",
            "_view_name": "LayoutView",
            "align_content": null,
            "align_items": null,
            "align_self": null,
            "border": null,
            "bottom": null,
            "display": null,
            "flex": null,
            "flex_flow": null,
            "grid_area": null,
            "grid_auto_columns": null,
            "grid_auto_flow": null,
            "grid_auto_rows": null,
            "grid_column": null,
            "grid_gap": null,
            "grid_row": null,
            "grid_template_areas": null,
            "grid_template_columns": null,
            "grid_template_rows": null,
            "height": null,
            "justify_content": null,
            "justify_items": null,
            "left": null,
            "margin": null,
            "max_height": null,
            "max_width": null,
            "min_height": null,
            "min_width": null,
            "object_fit": null,
            "object_position": null,
            "order": null,
            "overflow": null,
            "overflow_x": null,
            "overflow_y": null,
            "padding": null,
            "right": null,
            "top": null,
            "visibility": null,
            "width": null
          }
        },
        "b42fc29f11c24881a8be3e31169a714d": {
          "model_module": "@jupyter-widgets/controls",
          "model_name": "DescriptionStyleModel",
          "model_module_version": "1.5.0",
          "state": {
            "_model_module": "@jupyter-widgets/controls",
            "_model_module_version": "1.5.0",
            "_model_name": "DescriptionStyleModel",
            "_view_count": null,
            "_view_module": "@jupyter-widgets/base",
            "_view_module_version": "1.2.0",
            "_view_name": "StyleView",
            "description_width": ""
          }
        },
        "eabfbe01fb5840ca90809375c5bd97da": {
          "model_module": "@jupyter-widgets/controls",
          "model_name": "HBoxModel",
          "model_module_version": "1.5.0",
          "state": {
            "_dom_classes": [],
            "_model_module": "@jupyter-widgets/controls",
            "_model_module_version": "1.5.0",
            "_model_name": "HBoxModel",
            "_view_count": null,
            "_view_module": "@jupyter-widgets/controls",
            "_view_module_version": "1.5.0",
            "_view_name": "HBoxView",
            "box_style": "",
            "children": [
              "IPY_MODEL_091846841415465496483f84cdd10808",
              "IPY_MODEL_a64fd538244048538c70d8b100ed31fd",
              "IPY_MODEL_804c3df7ecfa406bbef4a91458ecbe38"
            ],
            "layout": "IPY_MODEL_8f98cd5713a44e729b6c3ca0068b9682"
          }
        },
        "091846841415465496483f84cdd10808": {
          "model_module": "@jupyter-widgets/controls",
          "model_name": "HTMLModel",
          "model_module_version": "1.5.0",
          "state": {
            "_dom_classes": [],
            "_model_module": "@jupyter-widgets/controls",
            "_model_module_version": "1.5.0",
            "_model_name": "HTMLModel",
            "_view_count": null,
            "_view_module": "@jupyter-widgets/controls",
            "_view_module_version": "1.5.0",
            "_view_name": "HTMLView",
            "description": "",
            "description_tooltip": null,
            "layout": "IPY_MODEL_9383f07397bc474599ee7c6969992c25",
            "placeholder": "​",
            "style": "IPY_MODEL_61cac0ec9ab24e1dae13b1d5c8672c5e",
            "value": "pytorch_model-00002-of-00002.bin: 100%"
          }
        },
        "a64fd538244048538c70d8b100ed31fd": {
          "model_module": "@jupyter-widgets/controls",
          "model_name": "FloatProgressModel",
          "model_module_version": "1.5.0",
          "state": {
            "_dom_classes": [],
            "_model_module": "@jupyter-widgets/controls",
            "_model_module_version": "1.5.0",
            "_model_name": "FloatProgressModel",
            "_view_count": null,
            "_view_module": "@jupyter-widgets/controls",
            "_view_module_version": "1.5.0",
            "_view_name": "ProgressView",
            "bar_style": "success",
            "description": "",
            "description_tooltip": null,
            "layout": "IPY_MODEL_5c6d03f6a9da44fab149efba990fa190",
            "max": 4540536134,
            "min": 0,
            "orientation": "horizontal",
            "style": "IPY_MODEL_4f00d8bbeebd4c6c8e6d5e591008828f",
            "value": 4540536134
          }
        },
        "804c3df7ecfa406bbef4a91458ecbe38": {
          "model_module": "@jupyter-widgets/controls",
          "model_name": "HTMLModel",
          "model_module_version": "1.5.0",
          "state": {
            "_dom_classes": [],
            "_model_module": "@jupyter-widgets/controls",
            "_model_module_version": "1.5.0",
            "_model_name": "HTMLModel",
            "_view_count": null,
            "_view_module": "@jupyter-widgets/controls",
            "_view_module_version": "1.5.0",
            "_view_name": "HTMLView",
            "description": "",
            "description_tooltip": null,
            "layout": "IPY_MODEL_d1561d5f29174744a2c10e2dab5b87b4",
            "placeholder": "​",
            "style": "IPY_MODEL_6681aff75e6849ceafb125992cc71648",
            "value": " 4.54G/4.54G [00:10&lt;00:00, 436MB/s]"
          }
        },
        "8f98cd5713a44e729b6c3ca0068b9682": {
          "model_module": "@jupyter-widgets/base",
          "model_name": "LayoutModel",
          "model_module_version": "1.2.0",
          "state": {
            "_model_module": "@jupyter-widgets/base",
            "_model_module_version": "1.2.0",
            "_model_name": "LayoutModel",
            "_view_count": null,
            "_view_module": "@jupyter-widgets/base",
            "_view_module_version": "1.2.0",
            "_view_name": "LayoutView",
            "align_content": null,
            "align_items": null,
            "align_self": null,
            "border": null,
            "bottom": null,
            "display": null,
            "flex": null,
            "flex_flow": null,
            "grid_area": null,
            "grid_auto_columns": null,
            "grid_auto_flow": null,
            "grid_auto_rows": null,
            "grid_column": null,
            "grid_gap": null,
            "grid_row": null,
            "grid_template_areas": null,
            "grid_template_columns": null,
            "grid_template_rows": null,
            "height": null,
            "justify_content": null,
            "justify_items": null,
            "left": null,
            "margin": null,
            "max_height": null,
            "max_width": null,
            "min_height": null,
            "min_width": null,
            "object_fit": null,
            "object_position": null,
            "order": null,
            "overflow": null,
            "overflow_x": null,
            "overflow_y": null,
            "padding": null,
            "right": null,
            "top": null,
            "visibility": null,
            "width": null
          }
        },
        "9383f07397bc474599ee7c6969992c25": {
          "model_module": "@jupyter-widgets/base",
          "model_name": "LayoutModel",
          "model_module_version": "1.2.0",
          "state": {
            "_model_module": "@jupyter-widgets/base",
            "_model_module_version": "1.2.0",
            "_model_name": "LayoutModel",
            "_view_count": null,
            "_view_module": "@jupyter-widgets/base",
            "_view_module_version": "1.2.0",
            "_view_name": "LayoutView",
            "align_content": null,
            "align_items": null,
            "align_self": null,
            "border": null,
            "bottom": null,
            "display": null,
            "flex": null,
            "flex_flow": null,
            "grid_area": null,
            "grid_auto_columns": null,
            "grid_auto_flow": null,
            "grid_auto_rows": null,
            "grid_column": null,
            "grid_gap": null,
            "grid_row": null,
            "grid_template_areas": null,
            "grid_template_columns": null,
            "grid_template_rows": null,
            "height": null,
            "justify_content": null,
            "justify_items": null,
            "left": null,
            "margin": null,
            "max_height": null,
            "max_width": null,
            "min_height": null,
            "min_width": null,
            "object_fit": null,
            "object_position": null,
            "order": null,
            "overflow": null,
            "overflow_x": null,
            "overflow_y": null,
            "padding": null,
            "right": null,
            "top": null,
            "visibility": null,
            "width": null
          }
        },
        "61cac0ec9ab24e1dae13b1d5c8672c5e": {
          "model_module": "@jupyter-widgets/controls",
          "model_name": "DescriptionStyleModel",
          "model_module_version": "1.5.0",
          "state": {
            "_model_module": "@jupyter-widgets/controls",
            "_model_module_version": "1.5.0",
            "_model_name": "DescriptionStyleModel",
            "_view_count": null,
            "_view_module": "@jupyter-widgets/base",
            "_view_module_version": "1.2.0",
            "_view_name": "StyleView",
            "description_width": ""
          }
        },
        "5c6d03f6a9da44fab149efba990fa190": {
          "model_module": "@jupyter-widgets/base",
          "model_name": "LayoutModel",
          "model_module_version": "1.2.0",
          "state": {
            "_model_module": "@jupyter-widgets/base",
            "_model_module_version": "1.2.0",
            "_model_name": "LayoutModel",
            "_view_count": null,
            "_view_module": "@jupyter-widgets/base",
            "_view_module_version": "1.2.0",
            "_view_name": "LayoutView",
            "align_content": null,
            "align_items": null,
            "align_self": null,
            "border": null,
            "bottom": null,
            "display": null,
            "flex": null,
            "flex_flow": null,
            "grid_area": null,
            "grid_auto_columns": null,
            "grid_auto_flow": null,
            "grid_auto_rows": null,
            "grid_column": null,
            "grid_gap": null,
            "grid_row": null,
            "grid_template_areas": null,
            "grid_template_columns": null,
            "grid_template_rows": null,
            "height": null,
            "justify_content": null,
            "justify_items": null,
            "left": null,
            "margin": null,
            "max_height": null,
            "max_width": null,
            "min_height": null,
            "min_width": null,
            "object_fit": null,
            "object_position": null,
            "order": null,
            "overflow": null,
            "overflow_x": null,
            "overflow_y": null,
            "padding": null,
            "right": null,
            "top": null,
            "visibility": null,
            "width": null
          }
        },
        "4f00d8bbeebd4c6c8e6d5e591008828f": {
          "model_module": "@jupyter-widgets/controls",
          "model_name": "ProgressStyleModel",
          "model_module_version": "1.5.0",
          "state": {
            "_model_module": "@jupyter-widgets/controls",
            "_model_module_version": "1.5.0",
            "_model_name": "ProgressStyleModel",
            "_view_count": null,
            "_view_module": "@jupyter-widgets/base",
            "_view_module_version": "1.2.0",
            "_view_name": "StyleView",
            "bar_color": null,
            "description_width": ""
          }
        },
        "d1561d5f29174744a2c10e2dab5b87b4": {
          "model_module": "@jupyter-widgets/base",
          "model_name": "LayoutModel",
          "model_module_version": "1.2.0",
          "state": {
            "_model_module": "@jupyter-widgets/base",
            "_model_module_version": "1.2.0",
            "_model_name": "LayoutModel",
            "_view_count": null,
            "_view_module": "@jupyter-widgets/base",
            "_view_module_version": "1.2.0",
            "_view_name": "LayoutView",
            "align_content": null,
            "align_items": null,
            "align_self": null,
            "border": null,
            "bottom": null,
            "display": null,
            "flex": null,
            "flex_flow": null,
            "grid_area": null,
            "grid_auto_columns": null,
            "grid_auto_flow": null,
            "grid_auto_rows": null,
            "grid_column": null,
            "grid_gap": null,
            "grid_row": null,
            "grid_template_areas": null,
            "grid_template_columns": null,
            "grid_template_rows": null,
            "height": null,
            "justify_content": null,
            "justify_items": null,
            "left": null,
            "margin": null,
            "max_height": null,
            "max_width": null,
            "min_height": null,
            "min_width": null,
            "object_fit": null,
            "object_position": null,
            "order": null,
            "overflow": null,
            "overflow_x": null,
            "overflow_y": null,
            "padding": null,
            "right": null,
            "top": null,
            "visibility": null,
            "width": null
          }
        },
        "6681aff75e6849ceafb125992cc71648": {
          "model_module": "@jupyter-widgets/controls",
          "model_name": "DescriptionStyleModel",
          "model_module_version": "1.5.0",
          "state": {
            "_model_module": "@jupyter-widgets/controls",
            "_model_module_version": "1.5.0",
            "_model_name": "DescriptionStyleModel",
            "_view_count": null,
            "_view_module": "@jupyter-widgets/base",
            "_view_module_version": "1.2.0",
            "_view_name": "StyleView",
            "description_width": ""
          }
        },
        "a8e8c831577a40f3bb44cc3fc63badae": {
          "model_module": "@jupyter-widgets/controls",
          "model_name": "HBoxModel",
          "model_module_version": "1.5.0",
          "state": {
            "_dom_classes": [],
            "_model_module": "@jupyter-widgets/controls",
            "_model_module_version": "1.5.0",
            "_model_name": "HBoxModel",
            "_view_count": null,
            "_view_module": "@jupyter-widgets/controls",
            "_view_module_version": "1.5.0",
            "_view_name": "HBoxView",
            "box_style": "",
            "children": [
              "IPY_MODEL_23c4250a72dd4c85859c01ad91a5bd5e",
              "IPY_MODEL_29d748ec45614693aade7ae212a268df",
              "IPY_MODEL_abb7b21711af4c689d6524db57e999c5"
            ],
            "layout": "IPY_MODEL_9562a23517374e288b521e8db4c9ddaf"
          }
        },
        "23c4250a72dd4c85859c01ad91a5bd5e": {
          "model_module": "@jupyter-widgets/controls",
          "model_name": "HTMLModel",
          "model_module_version": "1.5.0",
          "state": {
            "_dom_classes": [],
            "_model_module": "@jupyter-widgets/controls",
            "_model_module_version": "1.5.0",
            "_model_name": "HTMLModel",
            "_view_count": null,
            "_view_module": "@jupyter-widgets/controls",
            "_view_module_version": "1.5.0",
            "_view_name": "HTMLView",
            "description": "",
            "description_tooltip": null,
            "layout": "IPY_MODEL_795b68478b814c88a1fd64297854dd9c",
            "placeholder": "​",
            "style": "IPY_MODEL_3843078b921c40728aa29134b9df8bb9",
            "value": "Loading checkpoint shards: 100%"
          }
        },
        "29d748ec45614693aade7ae212a268df": {
          "model_module": "@jupyter-widgets/controls",
          "model_name": "FloatProgressModel",
          "model_module_version": "1.5.0",
          "state": {
            "_dom_classes": [],
            "_model_module": "@jupyter-widgets/controls",
            "_model_module_version": "1.5.0",
            "_model_name": "FloatProgressModel",
            "_view_count": null,
            "_view_module": "@jupyter-widgets/controls",
            "_view_module_version": "1.5.0",
            "_view_name": "ProgressView",
            "bar_style": "success",
            "description": "",
            "description_tooltip": null,
            "layout": "IPY_MODEL_09392743656641919b3617566a751f8c",
            "max": 2,
            "min": 0,
            "orientation": "horizontal",
            "style": "IPY_MODEL_d58f871b0d76433a9e3c30615ba3beea",
            "value": 2
          }
        },
        "abb7b21711af4c689d6524db57e999c5": {
          "model_module": "@jupyter-widgets/controls",
          "model_name": "HTMLModel",
          "model_module_version": "1.5.0",
          "state": {
            "_dom_classes": [],
            "_model_module": "@jupyter-widgets/controls",
            "_model_module_version": "1.5.0",
            "_model_name": "HTMLModel",
            "_view_count": null,
            "_view_module": "@jupyter-widgets/controls",
            "_view_module_version": "1.5.0",
            "_view_name": "HTMLView",
            "description": "",
            "description_tooltip": null,
            "layout": "IPY_MODEL_286b935433154f0693f78c609aa27645",
            "placeholder": "​",
            "style": "IPY_MODEL_4604ab2cc0544e8696aa9bc6e371577e",
            "value": " 2/2 [00:07&lt;00:00,  3.36s/it]"
          }
        },
        "9562a23517374e288b521e8db4c9ddaf": {
          "model_module": "@jupyter-widgets/base",
          "model_name": "LayoutModel",
          "model_module_version": "1.2.0",
          "state": {
            "_model_module": "@jupyter-widgets/base",
            "_model_module_version": "1.2.0",
            "_model_name": "LayoutModel",
            "_view_count": null,
            "_view_module": "@jupyter-widgets/base",
            "_view_module_version": "1.2.0",
            "_view_name": "LayoutView",
            "align_content": null,
            "align_items": null,
            "align_self": null,
            "border": null,
            "bottom": null,
            "display": null,
            "flex": null,
            "flex_flow": null,
            "grid_area": null,
            "grid_auto_columns": null,
            "grid_auto_flow": null,
            "grid_auto_rows": null,
            "grid_column": null,
            "grid_gap": null,
            "grid_row": null,
            "grid_template_areas": null,
            "grid_template_columns": null,
            "grid_template_rows": null,
            "height": null,
            "justify_content": null,
            "justify_items": null,
            "left": null,
            "margin": null,
            "max_height": null,
            "max_width": null,
            "min_height": null,
            "min_width": null,
            "object_fit": null,
            "object_position": null,
            "order": null,
            "overflow": null,
            "overflow_x": null,
            "overflow_y": null,
            "padding": null,
            "right": null,
            "top": null,
            "visibility": null,
            "width": null
          }
        },
        "795b68478b814c88a1fd64297854dd9c": {
          "model_module": "@jupyter-widgets/base",
          "model_name": "LayoutModel",
          "model_module_version": "1.2.0",
          "state": {
            "_model_module": "@jupyter-widgets/base",
            "_model_module_version": "1.2.0",
            "_model_name": "LayoutModel",
            "_view_count": null,
            "_view_module": "@jupyter-widgets/base",
            "_view_module_version": "1.2.0",
            "_view_name": "LayoutView",
            "align_content": null,
            "align_items": null,
            "align_self": null,
            "border": null,
            "bottom": null,
            "display": null,
            "flex": null,
            "flex_flow": null,
            "grid_area": null,
            "grid_auto_columns": null,
            "grid_auto_flow": null,
            "grid_auto_rows": null,
            "grid_column": null,
            "grid_gap": null,
            "grid_row": null,
            "grid_template_areas": null,
            "grid_template_columns": null,
            "grid_template_rows": null,
            "height": null,
            "justify_content": null,
            "justify_items": null,
            "left": null,
            "margin": null,
            "max_height": null,
            "max_width": null,
            "min_height": null,
            "min_width": null,
            "object_fit": null,
            "object_position": null,
            "order": null,
            "overflow": null,
            "overflow_x": null,
            "overflow_y": null,
            "padding": null,
            "right": null,
            "top": null,
            "visibility": null,
            "width": null
          }
        },
        "3843078b921c40728aa29134b9df8bb9": {
          "model_module": "@jupyter-widgets/controls",
          "model_name": "DescriptionStyleModel",
          "model_module_version": "1.5.0",
          "state": {
            "_model_module": "@jupyter-widgets/controls",
            "_model_module_version": "1.5.0",
            "_model_name": "DescriptionStyleModel",
            "_view_count": null,
            "_view_module": "@jupyter-widgets/base",
            "_view_module_version": "1.2.0",
            "_view_name": "StyleView",
            "description_width": ""
          }
        },
        "09392743656641919b3617566a751f8c": {
          "model_module": "@jupyter-widgets/base",
          "model_name": "LayoutModel",
          "model_module_version": "1.2.0",
          "state": {
            "_model_module": "@jupyter-widgets/base",
            "_model_module_version": "1.2.0",
            "_model_name": "LayoutModel",
            "_view_count": null,
            "_view_module": "@jupyter-widgets/base",
            "_view_module_version": "1.2.0",
            "_view_name": "LayoutView",
            "align_content": null,
            "align_items": null,
            "align_self": null,
            "border": null,
            "bottom": null,
            "display": null,
            "flex": null,
            "flex_flow": null,
            "grid_area": null,
            "grid_auto_columns": null,
            "grid_auto_flow": null,
            "grid_auto_rows": null,
            "grid_column": null,
            "grid_gap": null,
            "grid_row": null,
            "grid_template_areas": null,
            "grid_template_columns": null,
            "grid_template_rows": null,
            "height": null,
            "justify_content": null,
            "justify_items": null,
            "left": null,
            "margin": null,
            "max_height": null,
            "max_width": null,
            "min_height": null,
            "min_width": null,
            "object_fit": null,
            "object_position": null,
            "order": null,
            "overflow": null,
            "overflow_x": null,
            "overflow_y": null,
            "padding": null,
            "right": null,
            "top": null,
            "visibility": null,
            "width": null
          }
        },
        "d58f871b0d76433a9e3c30615ba3beea": {
          "model_module": "@jupyter-widgets/controls",
          "model_name": "ProgressStyleModel",
          "model_module_version": "1.5.0",
          "state": {
            "_model_module": "@jupyter-widgets/controls",
            "_model_module_version": "1.5.0",
            "_model_name": "ProgressStyleModel",
            "_view_count": null,
            "_view_module": "@jupyter-widgets/base",
            "_view_module_version": "1.2.0",
            "_view_name": "StyleView",
            "bar_color": null,
            "description_width": ""
          }
        },
        "286b935433154f0693f78c609aa27645": {
          "model_module": "@jupyter-widgets/base",
          "model_name": "LayoutModel",
          "model_module_version": "1.2.0",
          "state": {
            "_model_module": "@jupyter-widgets/base",
            "_model_module_version": "1.2.0",
            "_model_name": "LayoutModel",
            "_view_count": null,
            "_view_module": "@jupyter-widgets/base",
            "_view_module_version": "1.2.0",
            "_view_name": "LayoutView",
            "align_content": null,
            "align_items": null,
            "align_self": null,
            "border": null,
            "bottom": null,
            "display": null,
            "flex": null,
            "flex_flow": null,
            "grid_area": null,
            "grid_auto_columns": null,
            "grid_auto_flow": null,
            "grid_auto_rows": null,
            "grid_column": null,
            "grid_gap": null,
            "grid_row": null,
            "grid_template_areas": null,
            "grid_template_columns": null,
            "grid_template_rows": null,
            "height": null,
            "justify_content": null,
            "justify_items": null,
            "left": null,
            "margin": null,
            "max_height": null,
            "max_width": null,
            "min_height": null,
            "min_width": null,
            "object_fit": null,
            "object_position": null,
            "order": null,
            "overflow": null,
            "overflow_x": null,
            "overflow_y": null,
            "padding": null,
            "right": null,
            "top": null,
            "visibility": null,
            "width": null
          }
        },
        "4604ab2cc0544e8696aa9bc6e371577e": {
          "model_module": "@jupyter-widgets/controls",
          "model_name": "DescriptionStyleModel",
          "model_module_version": "1.5.0",
          "state": {
            "_model_module": "@jupyter-widgets/controls",
            "_model_module_version": "1.5.0",
            "_model_name": "DescriptionStyleModel",
            "_view_count": null,
            "_view_module": "@jupyter-widgets/base",
            "_view_module_version": "1.2.0",
            "_view_name": "StyleView",
            "description_width": ""
          }
        },
        "ef469caf9f5044aeb39f6a30e0ff5cfd": {
          "model_module": "@jupyter-widgets/controls",
          "model_name": "HBoxModel",
          "model_module_version": "1.5.0",
          "state": {
            "_dom_classes": [],
            "_model_module": "@jupyter-widgets/controls",
            "_model_module_version": "1.5.0",
            "_model_name": "HBoxModel",
            "_view_count": null,
            "_view_module": "@jupyter-widgets/controls",
            "_view_module_version": "1.5.0",
            "_view_name": "HBoxView",
            "box_style": "",
            "children": [
              "IPY_MODEL_7cad3950272e4b77ba1b04d3d4dbd9ff",
              "IPY_MODEL_8eac22cfaaa64499a31270ae67d5db15",
              "IPY_MODEL_9a709a0f8122416cb6c5b4184fd430f1"
            ],
            "layout": "IPY_MODEL_36b8906850454be78f9d9b26612d9d20"
          }
        },
        "7cad3950272e4b77ba1b04d3d4dbd9ff": {
          "model_module": "@jupyter-widgets/controls",
          "model_name": "HTMLModel",
          "model_module_version": "1.5.0",
          "state": {
            "_dom_classes": [],
            "_model_module": "@jupyter-widgets/controls",
            "_model_module_version": "1.5.0",
            "_model_name": "HTMLModel",
            "_view_count": null,
            "_view_module": "@jupyter-widgets/controls",
            "_view_module_version": "1.5.0",
            "_view_name": "HTMLView",
            "description": "",
            "description_tooltip": null,
            "layout": "IPY_MODEL_a7894b68b2d84b8da4ab271f1f157e64",
            "placeholder": "​",
            "style": "IPY_MODEL_07455249647c400cb6fd456e855c4b10",
            "value": "generation_config.json: 100%"
          }
        },
        "8eac22cfaaa64499a31270ae67d5db15": {
          "model_module": "@jupyter-widgets/controls",
          "model_name": "FloatProgressModel",
          "model_module_version": "1.5.0",
          "state": {
            "_dom_classes": [],
            "_model_module": "@jupyter-widgets/controls",
            "_model_module_version": "1.5.0",
            "_model_name": "FloatProgressModel",
            "_view_count": null,
            "_view_module": "@jupyter-widgets/controls",
            "_view_module_version": "1.5.0",
            "_view_name": "ProgressView",
            "bar_style": "success",
            "description": "",
            "description_tooltip": null,
            "layout": "IPY_MODEL_2cf45262ba41421dbab05ff31bf48d7c",
            "max": 111,
            "min": 0,
            "orientation": "horizontal",
            "style": "IPY_MODEL_67ba6210081246d983ac0ccdd2437cb2",
            "value": 111
          }
        },
        "9a709a0f8122416cb6c5b4184fd430f1": {
          "model_module": "@jupyter-widgets/controls",
          "model_name": "HTMLModel",
          "model_module_version": "1.5.0",
          "state": {
            "_dom_classes": [],
            "_model_module": "@jupyter-widgets/controls",
            "_model_module_version": "1.5.0",
            "_model_name": "HTMLModel",
            "_view_count": null,
            "_view_module": "@jupyter-widgets/controls",
            "_view_module_version": "1.5.0",
            "_view_name": "HTMLView",
            "description": "",
            "description_tooltip": null,
            "layout": "IPY_MODEL_26a45c68f14245c0b1611f0059019e77",
            "placeholder": "​",
            "style": "IPY_MODEL_6c4fe93633684e7e9eba20af32bc5045",
            "value": " 111/111 [00:00&lt;00:00, 10.8kB/s]"
          }
        },
        "36b8906850454be78f9d9b26612d9d20": {
          "model_module": "@jupyter-widgets/base",
          "model_name": "LayoutModel",
          "model_module_version": "1.2.0",
          "state": {
            "_model_module": "@jupyter-widgets/base",
            "_model_module_version": "1.2.0",
            "_model_name": "LayoutModel",
            "_view_count": null,
            "_view_module": "@jupyter-widgets/base",
            "_view_module_version": "1.2.0",
            "_view_name": "LayoutView",
            "align_content": null,
            "align_items": null,
            "align_self": null,
            "border": null,
            "bottom": null,
            "display": null,
            "flex": null,
            "flex_flow": null,
            "grid_area": null,
            "grid_auto_columns": null,
            "grid_auto_flow": null,
            "grid_auto_rows": null,
            "grid_column": null,
            "grid_gap": null,
            "grid_row": null,
            "grid_template_areas": null,
            "grid_template_columns": null,
            "grid_template_rows": null,
            "height": null,
            "justify_content": null,
            "justify_items": null,
            "left": null,
            "margin": null,
            "max_height": null,
            "max_width": null,
            "min_height": null,
            "min_width": null,
            "object_fit": null,
            "object_position": null,
            "order": null,
            "overflow": null,
            "overflow_x": null,
            "overflow_y": null,
            "padding": null,
            "right": null,
            "top": null,
            "visibility": null,
            "width": null
          }
        },
        "a7894b68b2d84b8da4ab271f1f157e64": {
          "model_module": "@jupyter-widgets/base",
          "model_name": "LayoutModel",
          "model_module_version": "1.2.0",
          "state": {
            "_model_module": "@jupyter-widgets/base",
            "_model_module_version": "1.2.0",
            "_model_name": "LayoutModel",
            "_view_count": null,
            "_view_module": "@jupyter-widgets/base",
            "_view_module_version": "1.2.0",
            "_view_name": "LayoutView",
            "align_content": null,
            "align_items": null,
            "align_self": null,
            "border": null,
            "bottom": null,
            "display": null,
            "flex": null,
            "flex_flow": null,
            "grid_area": null,
            "grid_auto_columns": null,
            "grid_auto_flow": null,
            "grid_auto_rows": null,
            "grid_column": null,
            "grid_gap": null,
            "grid_row": null,
            "grid_template_areas": null,
            "grid_template_columns": null,
            "grid_template_rows": null,
            "height": null,
            "justify_content": null,
            "justify_items": null,
            "left": null,
            "margin": null,
            "max_height": null,
            "max_width": null,
            "min_height": null,
            "min_width": null,
            "object_fit": null,
            "object_position": null,
            "order": null,
            "overflow": null,
            "overflow_x": null,
            "overflow_y": null,
            "padding": null,
            "right": null,
            "top": null,
            "visibility": null,
            "width": null
          }
        },
        "07455249647c400cb6fd456e855c4b10": {
          "model_module": "@jupyter-widgets/controls",
          "model_name": "DescriptionStyleModel",
          "model_module_version": "1.5.0",
          "state": {
            "_model_module": "@jupyter-widgets/controls",
            "_model_module_version": "1.5.0",
            "_model_name": "DescriptionStyleModel",
            "_view_count": null,
            "_view_module": "@jupyter-widgets/base",
            "_view_module_version": "1.2.0",
            "_view_name": "StyleView",
            "description_width": ""
          }
        },
        "2cf45262ba41421dbab05ff31bf48d7c": {
          "model_module": "@jupyter-widgets/base",
          "model_name": "LayoutModel",
          "model_module_version": "1.2.0",
          "state": {
            "_model_module": "@jupyter-widgets/base",
            "_model_module_version": "1.2.0",
            "_model_name": "LayoutModel",
            "_view_count": null,
            "_view_module": "@jupyter-widgets/base",
            "_view_module_version": "1.2.0",
            "_view_name": "LayoutView",
            "align_content": null,
            "align_items": null,
            "align_self": null,
            "border": null,
            "bottom": null,
            "display": null,
            "flex": null,
            "flex_flow": null,
            "grid_area": null,
            "grid_auto_columns": null,
            "grid_auto_flow": null,
            "grid_auto_rows": null,
            "grid_column": null,
            "grid_gap": null,
            "grid_row": null,
            "grid_template_areas": null,
            "grid_template_columns": null,
            "grid_template_rows": null,
            "height": null,
            "justify_content": null,
            "justify_items": null,
            "left": null,
            "margin": null,
            "max_height": null,
            "max_width": null,
            "min_height": null,
            "min_width": null,
            "object_fit": null,
            "object_position": null,
            "order": null,
            "overflow": null,
            "overflow_x": null,
            "overflow_y": null,
            "padding": null,
            "right": null,
            "top": null,
            "visibility": null,
            "width": null
          }
        },
        "67ba6210081246d983ac0ccdd2437cb2": {
          "model_module": "@jupyter-widgets/controls",
          "model_name": "ProgressStyleModel",
          "model_module_version": "1.5.0",
          "state": {
            "_model_module": "@jupyter-widgets/controls",
            "_model_module_version": "1.5.0",
            "_model_name": "ProgressStyleModel",
            "_view_count": null,
            "_view_module": "@jupyter-widgets/base",
            "_view_module_version": "1.2.0",
            "_view_name": "StyleView",
            "bar_color": null,
            "description_width": ""
          }
        },
        "26a45c68f14245c0b1611f0059019e77": {
          "model_module": "@jupyter-widgets/base",
          "model_name": "LayoutModel",
          "model_module_version": "1.2.0",
          "state": {
            "_model_module": "@jupyter-widgets/base",
            "_model_module_version": "1.2.0",
            "_model_name": "LayoutModel",
            "_view_count": null,
            "_view_module": "@jupyter-widgets/base",
            "_view_module_version": "1.2.0",
            "_view_name": "LayoutView",
            "align_content": null,
            "align_items": null,
            "align_self": null,
            "border": null,
            "bottom": null,
            "display": null,
            "flex": null,
            "flex_flow": null,
            "grid_area": null,
            "grid_auto_columns": null,
            "grid_auto_flow": null,
            "grid_auto_rows": null,
            "grid_column": null,
            "grid_gap": null,
            "grid_row": null,
            "grid_template_areas": null,
            "grid_template_columns": null,
            "grid_template_rows": null,
            "height": null,
            "justify_content": null,
            "justify_items": null,
            "left": null,
            "margin": null,
            "max_height": null,
            "max_width": null,
            "min_height": null,
            "min_width": null,
            "object_fit": null,
            "object_position": null,
            "order": null,
            "overflow": null,
            "overflow_x": null,
            "overflow_y": null,
            "padding": null,
            "right": null,
            "top": null,
            "visibility": null,
            "width": null
          }
        },
        "6c4fe93633684e7e9eba20af32bc5045": {
          "model_module": "@jupyter-widgets/controls",
          "model_name": "DescriptionStyleModel",
          "model_module_version": "1.5.0",
          "state": {
            "_model_module": "@jupyter-widgets/controls",
            "_model_module_version": "1.5.0",
            "_model_name": "DescriptionStyleModel",
            "_view_count": null,
            "_view_module": "@jupyter-widgets/base",
            "_view_module_version": "1.2.0",
            "_view_name": "StyleView",
            "description_width": ""
          }
        },
        "a52dd1fa6c9c416aa483c1b60e858ee6": {
          "model_module": "@jupyter-widgets/controls",
          "model_name": "HBoxModel",
          "model_module_version": "1.5.0",
          "state": {
            "_dom_classes": [],
            "_model_module": "@jupyter-widgets/controls",
            "_model_module_version": "1.5.0",
            "_model_name": "HBoxModel",
            "_view_count": null,
            "_view_module": "@jupyter-widgets/controls",
            "_view_module_version": "1.5.0",
            "_view_name": "HBoxView",
            "box_style": "",
            "children": [
              "IPY_MODEL_b883d8d39bfe45a495abba64de29124f",
              "IPY_MODEL_8409dc8981274e40a1ae2893d0a7cc9a",
              "IPY_MODEL_780ae309fd3b4fafb34bcde5fb817c0a"
            ],
            "layout": "IPY_MODEL_ec0a60b9437f4fde99984a96133f5865"
          }
        },
        "b883d8d39bfe45a495abba64de29124f": {
          "model_module": "@jupyter-widgets/controls",
          "model_name": "HTMLModel",
          "model_module_version": "1.5.0",
          "state": {
            "_dom_classes": [],
            "_model_module": "@jupyter-widgets/controls",
            "_model_module_version": "1.5.0",
            "_model_name": "HTMLModel",
            "_view_count": null,
            "_view_module": "@jupyter-widgets/controls",
            "_view_module_version": "1.5.0",
            "_view_name": "HTMLView",
            "description": "",
            "description_tooltip": null,
            "layout": "IPY_MODEL_7b56816a996d49dc95861a016beb3b8b",
            "placeholder": "​",
            "style": "IPY_MODEL_bc30e7cae53848288b2d5a15091807c1",
            "value": "tokenizer_config.json: 100%"
          }
        },
        "8409dc8981274e40a1ae2893d0a7cc9a": {
          "model_module": "@jupyter-widgets/controls",
          "model_name": "FloatProgressModel",
          "model_module_version": "1.5.0",
          "state": {
            "_dom_classes": [],
            "_model_module": "@jupyter-widgets/controls",
            "_model_module_version": "1.5.0",
            "_model_name": "FloatProgressModel",
            "_view_count": null,
            "_view_module": "@jupyter-widgets/controls",
            "_view_module_version": "1.5.0",
            "_view_name": "ProgressView",
            "bar_style": "success",
            "description": "",
            "description_tooltip": null,
            "layout": "IPY_MODEL_0118c420cf3243d09e9b7d700853397d",
            "max": 1672,
            "min": 0,
            "orientation": "horizontal",
            "style": "IPY_MODEL_324724c79ba14f12938e856ba3ec7a21",
            "value": 1672
          }
        },
        "780ae309fd3b4fafb34bcde5fb817c0a": {
          "model_module": "@jupyter-widgets/controls",
          "model_name": "HTMLModel",
          "model_module_version": "1.5.0",
          "state": {
            "_dom_classes": [],
            "_model_module": "@jupyter-widgets/controls",
            "_model_module_version": "1.5.0",
            "_model_name": "HTMLModel",
            "_view_count": null,
            "_view_module": "@jupyter-widgets/controls",
            "_view_module_version": "1.5.0",
            "_view_name": "HTMLView",
            "description": "",
            "description_tooltip": null,
            "layout": "IPY_MODEL_d20afba071204a1293bf1582b73abcdf",
            "placeholder": "​",
            "style": "IPY_MODEL_67d051bd961149a4a7bc94fdf9038b27",
            "value": " 1.67k/1.67k [00:00&lt;00:00, 151kB/s]"
          }
        },
        "ec0a60b9437f4fde99984a96133f5865": {
          "model_module": "@jupyter-widgets/base",
          "model_name": "LayoutModel",
          "model_module_version": "1.2.0",
          "state": {
            "_model_module": "@jupyter-widgets/base",
            "_model_module_version": "1.2.0",
            "_model_name": "LayoutModel",
            "_view_count": null,
            "_view_module": "@jupyter-widgets/base",
            "_view_module_version": "1.2.0",
            "_view_name": "LayoutView",
            "align_content": null,
            "align_items": null,
            "align_self": null,
            "border": null,
            "bottom": null,
            "display": null,
            "flex": null,
            "flex_flow": null,
            "grid_area": null,
            "grid_auto_columns": null,
            "grid_auto_flow": null,
            "grid_auto_rows": null,
            "grid_column": null,
            "grid_gap": null,
            "grid_row": null,
            "grid_template_areas": null,
            "grid_template_columns": null,
            "grid_template_rows": null,
            "height": null,
            "justify_content": null,
            "justify_items": null,
            "left": null,
            "margin": null,
            "max_height": null,
            "max_width": null,
            "min_height": null,
            "min_width": null,
            "object_fit": null,
            "object_position": null,
            "order": null,
            "overflow": null,
            "overflow_x": null,
            "overflow_y": null,
            "padding": null,
            "right": null,
            "top": null,
            "visibility": null,
            "width": null
          }
        },
        "7b56816a996d49dc95861a016beb3b8b": {
          "model_module": "@jupyter-widgets/base",
          "model_name": "LayoutModel",
          "model_module_version": "1.2.0",
          "state": {
            "_model_module": "@jupyter-widgets/base",
            "_model_module_version": "1.2.0",
            "_model_name": "LayoutModel",
            "_view_count": null,
            "_view_module": "@jupyter-widgets/base",
            "_view_module_version": "1.2.0",
            "_view_name": "LayoutView",
            "align_content": null,
            "align_items": null,
            "align_self": null,
            "border": null,
            "bottom": null,
            "display": null,
            "flex": null,
            "flex_flow": null,
            "grid_area": null,
            "grid_auto_columns": null,
            "grid_auto_flow": null,
            "grid_auto_rows": null,
            "grid_column": null,
            "grid_gap": null,
            "grid_row": null,
            "grid_template_areas": null,
            "grid_template_columns": null,
            "grid_template_rows": null,
            "height": null,
            "justify_content": null,
            "justify_items": null,
            "left": null,
            "margin": null,
            "max_height": null,
            "max_width": null,
            "min_height": null,
            "min_width": null,
            "object_fit": null,
            "object_position": null,
            "order": null,
            "overflow": null,
            "overflow_x": null,
            "overflow_y": null,
            "padding": null,
            "right": null,
            "top": null,
            "visibility": null,
            "width": null
          }
        },
        "bc30e7cae53848288b2d5a15091807c1": {
          "model_module": "@jupyter-widgets/controls",
          "model_name": "DescriptionStyleModel",
          "model_module_version": "1.5.0",
          "state": {
            "_model_module": "@jupyter-widgets/controls",
            "_model_module_version": "1.5.0",
            "_model_name": "DescriptionStyleModel",
            "_view_count": null,
            "_view_module": "@jupyter-widgets/base",
            "_view_module_version": "1.2.0",
            "_view_name": "StyleView",
            "description_width": ""
          }
        },
        "0118c420cf3243d09e9b7d700853397d": {
          "model_module": "@jupyter-widgets/base",
          "model_name": "LayoutModel",
          "model_module_version": "1.2.0",
          "state": {
            "_model_module": "@jupyter-widgets/base",
            "_model_module_version": "1.2.0",
            "_model_name": "LayoutModel",
            "_view_count": null,
            "_view_module": "@jupyter-widgets/base",
            "_view_module_version": "1.2.0",
            "_view_name": "LayoutView",
            "align_content": null,
            "align_items": null,
            "align_self": null,
            "border": null,
            "bottom": null,
            "display": null,
            "flex": null,
            "flex_flow": null,
            "grid_area": null,
            "grid_auto_columns": null,
            "grid_auto_flow": null,
            "grid_auto_rows": null,
            "grid_column": null,
            "grid_gap": null,
            "grid_row": null,
            "grid_template_areas": null,
            "grid_template_columns": null,
            "grid_template_rows": null,
            "height": null,
            "justify_content": null,
            "justify_items": null,
            "left": null,
            "margin": null,
            "max_height": null,
            "max_width": null,
            "min_height": null,
            "min_width": null,
            "object_fit": null,
            "object_position": null,
            "order": null,
            "overflow": null,
            "overflow_x": null,
            "overflow_y": null,
            "padding": null,
            "right": null,
            "top": null,
            "visibility": null,
            "width": null
          }
        },
        "324724c79ba14f12938e856ba3ec7a21": {
          "model_module": "@jupyter-widgets/controls",
          "model_name": "ProgressStyleModel",
          "model_module_version": "1.5.0",
          "state": {
            "_model_module": "@jupyter-widgets/controls",
            "_model_module_version": "1.5.0",
            "_model_name": "ProgressStyleModel",
            "_view_count": null,
            "_view_module": "@jupyter-widgets/base",
            "_view_module_version": "1.2.0",
            "_view_name": "StyleView",
            "bar_color": null,
            "description_width": ""
          }
        },
        "d20afba071204a1293bf1582b73abcdf": {
          "model_module": "@jupyter-widgets/base",
          "model_name": "LayoutModel",
          "model_module_version": "1.2.0",
          "state": {
            "_model_module": "@jupyter-widgets/base",
            "_model_module_version": "1.2.0",
            "_model_name": "LayoutModel",
            "_view_count": null,
            "_view_module": "@jupyter-widgets/base",
            "_view_module_version": "1.2.0",
            "_view_name": "LayoutView",
            "align_content": null,
            "align_items": null,
            "align_self": null,
            "border": null,
            "bottom": null,
            "display": null,
            "flex": null,
            "flex_flow": null,
            "grid_area": null,
            "grid_auto_columns": null,
            "grid_auto_flow": null,
            "grid_auto_rows": null,
            "grid_column": null,
            "grid_gap": null,
            "grid_row": null,
            "grid_template_areas": null,
            "grid_template_columns": null,
            "grid_template_rows": null,
            "height": null,
            "justify_content": null,
            "justify_items": null,
            "left": null,
            "margin": null,
            "max_height": null,
            "max_width": null,
            "min_height": null,
            "min_width": null,
            "object_fit": null,
            "object_position": null,
            "order": null,
            "overflow": null,
            "overflow_x": null,
            "overflow_y": null,
            "padding": null,
            "right": null,
            "top": null,
            "visibility": null,
            "width": null
          }
        },
        "67d051bd961149a4a7bc94fdf9038b27": {
          "model_module": "@jupyter-widgets/controls",
          "model_name": "DescriptionStyleModel",
          "model_module_version": "1.5.0",
          "state": {
            "_model_module": "@jupyter-widgets/controls",
            "_model_module_version": "1.5.0",
            "_model_name": "DescriptionStyleModel",
            "_view_count": null,
            "_view_module": "@jupyter-widgets/base",
            "_view_module_version": "1.2.0",
            "_view_name": "StyleView",
            "description_width": ""
          }
        },
        "0ca2fd73a28846929ead53e66d924ea0": {
          "model_module": "@jupyter-widgets/controls",
          "model_name": "HBoxModel",
          "model_module_version": "1.5.0",
          "state": {
            "_dom_classes": [],
            "_model_module": "@jupyter-widgets/controls",
            "_model_module_version": "1.5.0",
            "_model_name": "HBoxModel",
            "_view_count": null,
            "_view_module": "@jupyter-widgets/controls",
            "_view_module_version": "1.5.0",
            "_view_name": "HBoxView",
            "box_style": "",
            "children": [
              "IPY_MODEL_85447d8b850447c2b4d26a09613903a7",
              "IPY_MODEL_eaf25eaf25604423b994759e9a9c69cf",
              "IPY_MODEL_7c649e37351b42ffb809a5578ba77d91"
            ],
            "layout": "IPY_MODEL_8349cf7bcd8c4fd6bba90b259d1601c7"
          }
        },
        "85447d8b850447c2b4d26a09613903a7": {
          "model_module": "@jupyter-widgets/controls",
          "model_name": "HTMLModel",
          "model_module_version": "1.5.0",
          "state": {
            "_dom_classes": [],
            "_model_module": "@jupyter-widgets/controls",
            "_model_module_version": "1.5.0",
            "_model_name": "HTMLModel",
            "_view_count": null,
            "_view_module": "@jupyter-widgets/controls",
            "_view_module_version": "1.5.0",
            "_view_name": "HTMLView",
            "description": "",
            "description_tooltip": null,
            "layout": "IPY_MODEL_3ea3b79b0a0a45e29391f1900ec623b3",
            "placeholder": "​",
            "style": "IPY_MODEL_204dd56fdc4b489fbf2ec807effdc329",
            "value": "tokenizer.model: 100%"
          }
        },
        "eaf25eaf25604423b994759e9a9c69cf": {
          "model_module": "@jupyter-widgets/controls",
          "model_name": "FloatProgressModel",
          "model_module_version": "1.5.0",
          "state": {
            "_dom_classes": [],
            "_model_module": "@jupyter-widgets/controls",
            "_model_module_version": "1.5.0",
            "_model_name": "FloatProgressModel",
            "_view_count": null,
            "_view_module": "@jupyter-widgets/controls",
            "_view_module_version": "1.5.0",
            "_view_name": "ProgressView",
            "bar_style": "success",
            "description": "",
            "description_tooltip": null,
            "layout": "IPY_MODEL_83cbaacf735941df8f005d56b2d238bb",
            "max": 493443,
            "min": 0,
            "orientation": "horizontal",
            "style": "IPY_MODEL_b9931c0c602c4a758183e3c5405a8b0f",
            "value": 493443
          }
        },
        "7c649e37351b42ffb809a5578ba77d91": {
          "model_module": "@jupyter-widgets/controls",
          "model_name": "HTMLModel",
          "model_module_version": "1.5.0",
          "state": {
            "_dom_classes": [],
            "_model_module": "@jupyter-widgets/controls",
            "_model_module_version": "1.5.0",
            "_model_name": "HTMLModel",
            "_view_count": null,
            "_view_module": "@jupyter-widgets/controls",
            "_view_module_version": "1.5.0",
            "_view_name": "HTMLView",
            "description": "",
            "description_tooltip": null,
            "layout": "IPY_MODEL_06ab20d9442c4a27a5580793cd35f51e",
            "placeholder": "​",
            "style": "IPY_MODEL_da2b156dd34041b59107817aafb1065c",
            "value": " 493k/493k [00:00&lt;00:00, 39.4MB/s]"
          }
        },
        "8349cf7bcd8c4fd6bba90b259d1601c7": {
          "model_module": "@jupyter-widgets/base",
          "model_name": "LayoutModel",
          "model_module_version": "1.2.0",
          "state": {
            "_model_module": "@jupyter-widgets/base",
            "_model_module_version": "1.2.0",
            "_model_name": "LayoutModel",
            "_view_count": null,
            "_view_module": "@jupyter-widgets/base",
            "_view_module_version": "1.2.0",
            "_view_name": "LayoutView",
            "align_content": null,
            "align_items": null,
            "align_self": null,
            "border": null,
            "bottom": null,
            "display": null,
            "flex": null,
            "flex_flow": null,
            "grid_area": null,
            "grid_auto_columns": null,
            "grid_auto_flow": null,
            "grid_auto_rows": null,
            "grid_column": null,
            "grid_gap": null,
            "grid_row": null,
            "grid_template_areas": null,
            "grid_template_columns": null,
            "grid_template_rows": null,
            "height": null,
            "justify_content": null,
            "justify_items": null,
            "left": null,
            "margin": null,
            "max_height": null,
            "max_width": null,
            "min_height": null,
            "min_width": null,
            "object_fit": null,
            "object_position": null,
            "order": null,
            "overflow": null,
            "overflow_x": null,
            "overflow_y": null,
            "padding": null,
            "right": null,
            "top": null,
            "visibility": null,
            "width": null
          }
        },
        "3ea3b79b0a0a45e29391f1900ec623b3": {
          "model_module": "@jupyter-widgets/base",
          "model_name": "LayoutModel",
          "model_module_version": "1.2.0",
          "state": {
            "_model_module": "@jupyter-widgets/base",
            "_model_module_version": "1.2.0",
            "_model_name": "LayoutModel",
            "_view_count": null,
            "_view_module": "@jupyter-widgets/base",
            "_view_module_version": "1.2.0",
            "_view_name": "LayoutView",
            "align_content": null,
            "align_items": null,
            "align_self": null,
            "border": null,
            "bottom": null,
            "display": null,
            "flex": null,
            "flex_flow": null,
            "grid_area": null,
            "grid_auto_columns": null,
            "grid_auto_flow": null,
            "grid_auto_rows": null,
            "grid_column": null,
            "grid_gap": null,
            "grid_row": null,
            "grid_template_areas": null,
            "grid_template_columns": null,
            "grid_template_rows": null,
            "height": null,
            "justify_content": null,
            "justify_items": null,
            "left": null,
            "margin": null,
            "max_height": null,
            "max_width": null,
            "min_height": null,
            "min_width": null,
            "object_fit": null,
            "object_position": null,
            "order": null,
            "overflow": null,
            "overflow_x": null,
            "overflow_y": null,
            "padding": null,
            "right": null,
            "top": null,
            "visibility": null,
            "width": null
          }
        },
        "204dd56fdc4b489fbf2ec807effdc329": {
          "model_module": "@jupyter-widgets/controls",
          "model_name": "DescriptionStyleModel",
          "model_module_version": "1.5.0",
          "state": {
            "_model_module": "@jupyter-widgets/controls",
            "_model_module_version": "1.5.0",
            "_model_name": "DescriptionStyleModel",
            "_view_count": null,
            "_view_module": "@jupyter-widgets/base",
            "_view_module_version": "1.2.0",
            "_view_name": "StyleView",
            "description_width": ""
          }
        },
        "83cbaacf735941df8f005d56b2d238bb": {
          "model_module": "@jupyter-widgets/base",
          "model_name": "LayoutModel",
          "model_module_version": "1.2.0",
          "state": {
            "_model_module": "@jupyter-widgets/base",
            "_model_module_version": "1.2.0",
            "_model_name": "LayoutModel",
            "_view_count": null,
            "_view_module": "@jupyter-widgets/base",
            "_view_module_version": "1.2.0",
            "_view_name": "LayoutView",
            "align_content": null,
            "align_items": null,
            "align_self": null,
            "border": null,
            "bottom": null,
            "display": null,
            "flex": null,
            "flex_flow": null,
            "grid_area": null,
            "grid_auto_columns": null,
            "grid_auto_flow": null,
            "grid_auto_rows": null,
            "grid_column": null,
            "grid_gap": null,
            "grid_row": null,
            "grid_template_areas": null,
            "grid_template_columns": null,
            "grid_template_rows": null,
            "height": null,
            "justify_content": null,
            "justify_items": null,
            "left": null,
            "margin": null,
            "max_height": null,
            "max_width": null,
            "min_height": null,
            "min_width": null,
            "object_fit": null,
            "object_position": null,
            "order": null,
            "overflow": null,
            "overflow_x": null,
            "overflow_y": null,
            "padding": null,
            "right": null,
            "top": null,
            "visibility": null,
            "width": null
          }
        },
        "b9931c0c602c4a758183e3c5405a8b0f": {
          "model_module": "@jupyter-widgets/controls",
          "model_name": "ProgressStyleModel",
          "model_module_version": "1.5.0",
          "state": {
            "_model_module": "@jupyter-widgets/controls",
            "_model_module_version": "1.5.0",
            "_model_name": "ProgressStyleModel",
            "_view_count": null,
            "_view_module": "@jupyter-widgets/base",
            "_view_module_version": "1.2.0",
            "_view_name": "StyleView",
            "bar_color": null,
            "description_width": ""
          }
        },
        "06ab20d9442c4a27a5580793cd35f51e": {
          "model_module": "@jupyter-widgets/base",
          "model_name": "LayoutModel",
          "model_module_version": "1.2.0",
          "state": {
            "_model_module": "@jupyter-widgets/base",
            "_model_module_version": "1.2.0",
            "_model_name": "LayoutModel",
            "_view_count": null,
            "_view_module": "@jupyter-widgets/base",
            "_view_module_version": "1.2.0",
            "_view_name": "LayoutView",
            "align_content": null,
            "align_items": null,
            "align_self": null,
            "border": null,
            "bottom": null,
            "display": null,
            "flex": null,
            "flex_flow": null,
            "grid_area": null,
            "grid_auto_columns": null,
            "grid_auto_flow": null,
            "grid_auto_rows": null,
            "grid_column": null,
            "grid_gap": null,
            "grid_row": null,
            "grid_template_areas": null,
            "grid_template_columns": null,
            "grid_template_rows": null,
            "height": null,
            "justify_content": null,
            "justify_items": null,
            "left": null,
            "margin": null,
            "max_height": null,
            "max_width": null,
            "min_height": null,
            "min_width": null,
            "object_fit": null,
            "object_position": null,
            "order": null,
            "overflow": null,
            "overflow_x": null,
            "overflow_y": null,
            "padding": null,
            "right": null,
            "top": null,
            "visibility": null,
            "width": null
          }
        },
        "da2b156dd34041b59107817aafb1065c": {
          "model_module": "@jupyter-widgets/controls",
          "model_name": "DescriptionStyleModel",
          "model_module_version": "1.5.0",
          "state": {
            "_model_module": "@jupyter-widgets/controls",
            "_model_module_version": "1.5.0",
            "_model_name": "DescriptionStyleModel",
            "_view_count": null,
            "_view_module": "@jupyter-widgets/base",
            "_view_module_version": "1.2.0",
            "_view_name": "StyleView",
            "description_width": ""
          }
        },
        "9cf1ba4faf034678aa2a1bf910844ce5": {
          "model_module": "@jupyter-widgets/controls",
          "model_name": "HBoxModel",
          "model_module_version": "1.5.0",
          "state": {
            "_dom_classes": [],
            "_model_module": "@jupyter-widgets/controls",
            "_model_module_version": "1.5.0",
            "_model_name": "HBoxModel",
            "_view_count": null,
            "_view_module": "@jupyter-widgets/controls",
            "_view_module_version": "1.5.0",
            "_view_name": "HBoxView",
            "box_style": "",
            "children": [
              "IPY_MODEL_58bacee0562f475298c8fd9281577545",
              "IPY_MODEL_29800551f3eb466aaa104473b340ce35",
              "IPY_MODEL_53172e887cf2440f9bb6110c18dc18c5"
            ],
            "layout": "IPY_MODEL_61082aceae0545b8b7ee3082a6d99c3a"
          }
        },
        "58bacee0562f475298c8fd9281577545": {
          "model_module": "@jupyter-widgets/controls",
          "model_name": "HTMLModel",
          "model_module_version": "1.5.0",
          "state": {
            "_dom_classes": [],
            "_model_module": "@jupyter-widgets/controls",
            "_model_module_version": "1.5.0",
            "_model_name": "HTMLModel",
            "_view_count": null,
            "_view_module": "@jupyter-widgets/controls",
            "_view_module_version": "1.5.0",
            "_view_name": "HTMLView",
            "description": "",
            "description_tooltip": null,
            "layout": "IPY_MODEL_9c57cad802e7434eb501146188985974",
            "placeholder": "​",
            "style": "IPY_MODEL_b001fc7a99654a14bc70d5321baf24c3",
            "value": "added_tokens.json: 100%"
          }
        },
        "29800551f3eb466aaa104473b340ce35": {
          "model_module": "@jupyter-widgets/controls",
          "model_name": "FloatProgressModel",
          "model_module_version": "1.5.0",
          "state": {
            "_dom_classes": [],
            "_model_module": "@jupyter-widgets/controls",
            "_model_module_version": "1.5.0",
            "_model_name": "FloatProgressModel",
            "_view_count": null,
            "_view_module": "@jupyter-widgets/controls",
            "_view_module_version": "1.5.0",
            "_view_name": "ProgressView",
            "bar_style": "success",
            "description": "",
            "description_tooltip": null,
            "layout": "IPY_MODEL_89b7b5779d914c15896042150b18eb36",
            "max": 42,
            "min": 0,
            "orientation": "horizontal",
            "style": "IPY_MODEL_10706003ac6a48f6b3bb9dbc01e79fc7",
            "value": 42
          }
        },
        "53172e887cf2440f9bb6110c18dc18c5": {
          "model_module": "@jupyter-widgets/controls",
          "model_name": "HTMLModel",
          "model_module_version": "1.5.0",
          "state": {
            "_dom_classes": [],
            "_model_module": "@jupyter-widgets/controls",
            "_model_module_version": "1.5.0",
            "_model_name": "HTMLModel",
            "_view_count": null,
            "_view_module": "@jupyter-widgets/controls",
            "_view_module_version": "1.5.0",
            "_view_name": "HTMLView",
            "description": "",
            "description_tooltip": null,
            "layout": "IPY_MODEL_68d50b4ee5754bbc931f177b51ee7219",
            "placeholder": "​",
            "style": "IPY_MODEL_57012beffdbd4c0d8bea9259c1f959ba",
            "value": " 42.0/42.0 [00:00&lt;00:00, 3.80kB/s]"
          }
        },
        "61082aceae0545b8b7ee3082a6d99c3a": {
          "model_module": "@jupyter-widgets/base",
          "model_name": "LayoutModel",
          "model_module_version": "1.2.0",
          "state": {
            "_model_module": "@jupyter-widgets/base",
            "_model_module_version": "1.2.0",
            "_model_name": "LayoutModel",
            "_view_count": null,
            "_view_module": "@jupyter-widgets/base",
            "_view_module_version": "1.2.0",
            "_view_name": "LayoutView",
            "align_content": null,
            "align_items": null,
            "align_self": null,
            "border": null,
            "bottom": null,
            "display": null,
            "flex": null,
            "flex_flow": null,
            "grid_area": null,
            "grid_auto_columns": null,
            "grid_auto_flow": null,
            "grid_auto_rows": null,
            "grid_column": null,
            "grid_gap": null,
            "grid_row": null,
            "grid_template_areas": null,
            "grid_template_columns": null,
            "grid_template_rows": null,
            "height": null,
            "justify_content": null,
            "justify_items": null,
            "left": null,
            "margin": null,
            "max_height": null,
            "max_width": null,
            "min_height": null,
            "min_width": null,
            "object_fit": null,
            "object_position": null,
            "order": null,
            "overflow": null,
            "overflow_x": null,
            "overflow_y": null,
            "padding": null,
            "right": null,
            "top": null,
            "visibility": null,
            "width": null
          }
        },
        "9c57cad802e7434eb501146188985974": {
          "model_module": "@jupyter-widgets/base",
          "model_name": "LayoutModel",
          "model_module_version": "1.2.0",
          "state": {
            "_model_module": "@jupyter-widgets/base",
            "_model_module_version": "1.2.0",
            "_model_name": "LayoutModel",
            "_view_count": null,
            "_view_module": "@jupyter-widgets/base",
            "_view_module_version": "1.2.0",
            "_view_name": "LayoutView",
            "align_content": null,
            "align_items": null,
            "align_self": null,
            "border": null,
            "bottom": null,
            "display": null,
            "flex": null,
            "flex_flow": null,
            "grid_area": null,
            "grid_auto_columns": null,
            "grid_auto_flow": null,
            "grid_auto_rows": null,
            "grid_column": null,
            "grid_gap": null,
            "grid_row": null,
            "grid_template_areas": null,
            "grid_template_columns": null,
            "grid_template_rows": null,
            "height": null,
            "justify_content": null,
            "justify_items": null,
            "left": null,
            "margin": null,
            "max_height": null,
            "max_width": null,
            "min_height": null,
            "min_width": null,
            "object_fit": null,
            "object_position": null,
            "order": null,
            "overflow": null,
            "overflow_x": null,
            "overflow_y": null,
            "padding": null,
            "right": null,
            "top": null,
            "visibility": null,
            "width": null
          }
        },
        "b001fc7a99654a14bc70d5321baf24c3": {
          "model_module": "@jupyter-widgets/controls",
          "model_name": "DescriptionStyleModel",
          "model_module_version": "1.5.0",
          "state": {
            "_model_module": "@jupyter-widgets/controls",
            "_model_module_version": "1.5.0",
            "_model_name": "DescriptionStyleModel",
            "_view_count": null,
            "_view_module": "@jupyter-widgets/base",
            "_view_module_version": "1.2.0",
            "_view_name": "StyleView",
            "description_width": ""
          }
        },
        "89b7b5779d914c15896042150b18eb36": {
          "model_module": "@jupyter-widgets/base",
          "model_name": "LayoutModel",
          "model_module_version": "1.2.0",
          "state": {
            "_model_module": "@jupyter-widgets/base",
            "_model_module_version": "1.2.0",
            "_model_name": "LayoutModel",
            "_view_count": null,
            "_view_module": "@jupyter-widgets/base",
            "_view_module_version": "1.2.0",
            "_view_name": "LayoutView",
            "align_content": null,
            "align_items": null,
            "align_self": null,
            "border": null,
            "bottom": null,
            "display": null,
            "flex": null,
            "flex_flow": null,
            "grid_area": null,
            "grid_auto_columns": null,
            "grid_auto_flow": null,
            "grid_auto_rows": null,
            "grid_column": null,
            "grid_gap": null,
            "grid_row": null,
            "grid_template_areas": null,
            "grid_template_columns": null,
            "grid_template_rows": null,
            "height": null,
            "justify_content": null,
            "justify_items": null,
            "left": null,
            "margin": null,
            "max_height": null,
            "max_width": null,
            "min_height": null,
            "min_width": null,
            "object_fit": null,
            "object_position": null,
            "order": null,
            "overflow": null,
            "overflow_x": null,
            "overflow_y": null,
            "padding": null,
            "right": null,
            "top": null,
            "visibility": null,
            "width": null
          }
        },
        "10706003ac6a48f6b3bb9dbc01e79fc7": {
          "model_module": "@jupyter-widgets/controls",
          "model_name": "ProgressStyleModel",
          "model_module_version": "1.5.0",
          "state": {
            "_model_module": "@jupyter-widgets/controls",
            "_model_module_version": "1.5.0",
            "_model_name": "ProgressStyleModel",
            "_view_count": null,
            "_view_module": "@jupyter-widgets/base",
            "_view_module_version": "1.2.0",
            "_view_name": "StyleView",
            "bar_color": null,
            "description_width": ""
          }
        },
        "68d50b4ee5754bbc931f177b51ee7219": {
          "model_module": "@jupyter-widgets/base",
          "model_name": "LayoutModel",
          "model_module_version": "1.2.0",
          "state": {
            "_model_module": "@jupyter-widgets/base",
            "_model_module_version": "1.2.0",
            "_model_name": "LayoutModel",
            "_view_count": null,
            "_view_module": "@jupyter-widgets/base",
            "_view_module_version": "1.2.0",
            "_view_name": "LayoutView",
            "align_content": null,
            "align_items": null,
            "align_self": null,
            "border": null,
            "bottom": null,
            "display": null,
            "flex": null,
            "flex_flow": null,
            "grid_area": null,
            "grid_auto_columns": null,
            "grid_auto_flow": null,
            "grid_auto_rows": null,
            "grid_column": null,
            "grid_gap": null,
            "grid_row": null,
            "grid_template_areas": null,
            "grid_template_columns": null,
            "grid_template_rows": null,
            "height": null,
            "justify_content": null,
            "justify_items": null,
            "left": null,
            "margin": null,
            "max_height": null,
            "max_width": null,
            "min_height": null,
            "min_width": null,
            "object_fit": null,
            "object_position": null,
            "order": null,
            "overflow": null,
            "overflow_x": null,
            "overflow_y": null,
            "padding": null,
            "right": null,
            "top": null,
            "visibility": null,
            "width": null
          }
        },
        "57012beffdbd4c0d8bea9259c1f959ba": {
          "model_module": "@jupyter-widgets/controls",
          "model_name": "DescriptionStyleModel",
          "model_module_version": "1.5.0",
          "state": {
            "_model_module": "@jupyter-widgets/controls",
            "_model_module_version": "1.5.0",
            "_model_name": "DescriptionStyleModel",
            "_view_count": null,
            "_view_module": "@jupyter-widgets/base",
            "_view_module_version": "1.2.0",
            "_view_name": "StyleView",
            "description_width": ""
          }
        },
        "6d6dde3ba1494d97a02450040aac3fde": {
          "model_module": "@jupyter-widgets/controls",
          "model_name": "HBoxModel",
          "model_module_version": "1.5.0",
          "state": {
            "_dom_classes": [],
            "_model_module": "@jupyter-widgets/controls",
            "_model_module_version": "1.5.0",
            "_model_name": "HBoxModel",
            "_view_count": null,
            "_view_module": "@jupyter-widgets/controls",
            "_view_module_version": "1.5.0",
            "_view_name": "HBoxView",
            "box_style": "",
            "children": [
              "IPY_MODEL_6821dca69db34e63b6255844036d2ff7",
              "IPY_MODEL_118716014daa43c7bcc3012941f4bbad",
              "IPY_MODEL_59a9c87497944e0a846312a7ed34a09a"
            ],
            "layout": "IPY_MODEL_3c5dfe61e6714434a1fbff11ad97c469"
          }
        },
        "6821dca69db34e63b6255844036d2ff7": {
          "model_module": "@jupyter-widgets/controls",
          "model_name": "HTMLModel",
          "model_module_version": "1.5.0",
          "state": {
            "_dom_classes": [],
            "_model_module": "@jupyter-widgets/controls",
            "_model_module_version": "1.5.0",
            "_model_name": "HTMLModel",
            "_view_count": null,
            "_view_module": "@jupyter-widgets/controls",
            "_view_module_version": "1.5.0",
            "_view_name": "HTMLView",
            "description": "",
            "description_tooltip": null,
            "layout": "IPY_MODEL_61c507f2c4e440e98bea31c5c3725575",
            "placeholder": "​",
            "style": "IPY_MODEL_583f547e5e0d42b68ce5db237f46c1ac",
            "value": "special_tokens_map.json: 100%"
          }
        },
        "118716014daa43c7bcc3012941f4bbad": {
          "model_module": "@jupyter-widgets/controls",
          "model_name": "FloatProgressModel",
          "model_module_version": "1.5.0",
          "state": {
            "_dom_classes": [],
            "_model_module": "@jupyter-widgets/controls",
            "_model_module_version": "1.5.0",
            "_model_name": "FloatProgressModel",
            "_view_count": null,
            "_view_module": "@jupyter-widgets/controls",
            "_view_module_version": "1.5.0",
            "_view_name": "ProgressView",
            "bar_style": "success",
            "description": "",
            "description_tooltip": null,
            "layout": "IPY_MODEL_546b81bf43bd43d18232dacbd815e59a",
            "max": 168,
            "min": 0,
            "orientation": "horizontal",
            "style": "IPY_MODEL_709ce181fff8435eba157deb80fe217f",
            "value": 168
          }
        },
        "59a9c87497944e0a846312a7ed34a09a": {
          "model_module": "@jupyter-widgets/controls",
          "model_name": "HTMLModel",
          "model_module_version": "1.5.0",
          "state": {
            "_dom_classes": [],
            "_model_module": "@jupyter-widgets/controls",
            "_model_module_version": "1.5.0",
            "_model_name": "HTMLModel",
            "_view_count": null,
            "_view_module": "@jupyter-widgets/controls",
            "_view_module_version": "1.5.0",
            "_view_name": "HTMLView",
            "description": "",
            "description_tooltip": null,
            "layout": "IPY_MODEL_b691de681ef24e3cb6e0b388f7590c33",
            "placeholder": "​",
            "style": "IPY_MODEL_626830b44d5842efb0bea707d204cf51",
            "value": " 168/168 [00:00&lt;00:00, 15.8kB/s]"
          }
        },
        "3c5dfe61e6714434a1fbff11ad97c469": {
          "model_module": "@jupyter-widgets/base",
          "model_name": "LayoutModel",
          "model_module_version": "1.2.0",
          "state": {
            "_model_module": "@jupyter-widgets/base",
            "_model_module_version": "1.2.0",
            "_model_name": "LayoutModel",
            "_view_count": null,
            "_view_module": "@jupyter-widgets/base",
            "_view_module_version": "1.2.0",
            "_view_name": "LayoutView",
            "align_content": null,
            "align_items": null,
            "align_self": null,
            "border": null,
            "bottom": null,
            "display": null,
            "flex": null,
            "flex_flow": null,
            "grid_area": null,
            "grid_auto_columns": null,
            "grid_auto_flow": null,
            "grid_auto_rows": null,
            "grid_column": null,
            "grid_gap": null,
            "grid_row": null,
            "grid_template_areas": null,
            "grid_template_columns": null,
            "grid_template_rows": null,
            "height": null,
            "justify_content": null,
            "justify_items": null,
            "left": null,
            "margin": null,
            "max_height": null,
            "max_width": null,
            "min_height": null,
            "min_width": null,
            "object_fit": null,
            "object_position": null,
            "order": null,
            "overflow": null,
            "overflow_x": null,
            "overflow_y": null,
            "padding": null,
            "right": null,
            "top": null,
            "visibility": null,
            "width": null
          }
        },
        "61c507f2c4e440e98bea31c5c3725575": {
          "model_module": "@jupyter-widgets/base",
          "model_name": "LayoutModel",
          "model_module_version": "1.2.0",
          "state": {
            "_model_module": "@jupyter-widgets/base",
            "_model_module_version": "1.2.0",
            "_model_name": "LayoutModel",
            "_view_count": null,
            "_view_module": "@jupyter-widgets/base",
            "_view_module_version": "1.2.0",
            "_view_name": "LayoutView",
            "align_content": null,
            "align_items": null,
            "align_self": null,
            "border": null,
            "bottom": null,
            "display": null,
            "flex": null,
            "flex_flow": null,
            "grid_area": null,
            "grid_auto_columns": null,
            "grid_auto_flow": null,
            "grid_auto_rows": null,
            "grid_column": null,
            "grid_gap": null,
            "grid_row": null,
            "grid_template_areas": null,
            "grid_template_columns": null,
            "grid_template_rows": null,
            "height": null,
            "justify_content": null,
            "justify_items": null,
            "left": null,
            "margin": null,
            "max_height": null,
            "max_width": null,
            "min_height": null,
            "min_width": null,
            "object_fit": null,
            "object_position": null,
            "order": null,
            "overflow": null,
            "overflow_x": null,
            "overflow_y": null,
            "padding": null,
            "right": null,
            "top": null,
            "visibility": null,
            "width": null
          }
        },
        "583f547e5e0d42b68ce5db237f46c1ac": {
          "model_module": "@jupyter-widgets/controls",
          "model_name": "DescriptionStyleModel",
          "model_module_version": "1.5.0",
          "state": {
            "_model_module": "@jupyter-widgets/controls",
            "_model_module_version": "1.5.0",
            "_model_name": "DescriptionStyleModel",
            "_view_count": null,
            "_view_module": "@jupyter-widgets/base",
            "_view_module_version": "1.2.0",
            "_view_name": "StyleView",
            "description_width": ""
          }
        },
        "546b81bf43bd43d18232dacbd815e59a": {
          "model_module": "@jupyter-widgets/base",
          "model_name": "LayoutModel",
          "model_module_version": "1.2.0",
          "state": {
            "_model_module": "@jupyter-widgets/base",
            "_model_module_version": "1.2.0",
            "_model_name": "LayoutModel",
            "_view_count": null,
            "_view_module": "@jupyter-widgets/base",
            "_view_module_version": "1.2.0",
            "_view_name": "LayoutView",
            "align_content": null,
            "align_items": null,
            "align_self": null,
            "border": null,
            "bottom": null,
            "display": null,
            "flex": null,
            "flex_flow": null,
            "grid_area": null,
            "grid_auto_columns": null,
            "grid_auto_flow": null,
            "grid_auto_rows": null,
            "grid_column": null,
            "grid_gap": null,
            "grid_row": null,
            "grid_template_areas": null,
            "grid_template_columns": null,
            "grid_template_rows": null,
            "height": null,
            "justify_content": null,
            "justify_items": null,
            "left": null,
            "margin": null,
            "max_height": null,
            "max_width": null,
            "min_height": null,
            "min_width": null,
            "object_fit": null,
            "object_position": null,
            "order": null,
            "overflow": null,
            "overflow_x": null,
            "overflow_y": null,
            "padding": null,
            "right": null,
            "top": null,
            "visibility": null,
            "width": null
          }
        },
        "709ce181fff8435eba157deb80fe217f": {
          "model_module": "@jupyter-widgets/controls",
          "model_name": "ProgressStyleModel",
          "model_module_version": "1.5.0",
          "state": {
            "_model_module": "@jupyter-widgets/controls",
            "_model_module_version": "1.5.0",
            "_model_name": "ProgressStyleModel",
            "_view_count": null,
            "_view_module": "@jupyter-widgets/base",
            "_view_module_version": "1.2.0",
            "_view_name": "StyleView",
            "bar_color": null,
            "description_width": ""
          }
        },
        "b691de681ef24e3cb6e0b388f7590c33": {
          "model_module": "@jupyter-widgets/base",
          "model_name": "LayoutModel",
          "model_module_version": "1.2.0",
          "state": {
            "_model_module": "@jupyter-widgets/base",
            "_model_module_version": "1.2.0",
            "_model_name": "LayoutModel",
            "_view_count": null,
            "_view_module": "@jupyter-widgets/base",
            "_view_module_version": "1.2.0",
            "_view_name": "LayoutView",
            "align_content": null,
            "align_items": null,
            "align_self": null,
            "border": null,
            "bottom": null,
            "display": null,
            "flex": null,
            "flex_flow": null,
            "grid_area": null,
            "grid_auto_columns": null,
            "grid_auto_flow": null,
            "grid_auto_rows": null,
            "grid_column": null,
            "grid_gap": null,
            "grid_row": null,
            "grid_template_areas": null,
            "grid_template_columns": null,
            "grid_template_rows": null,
            "height": null,
            "justify_content": null,
            "justify_items": null,
            "left": null,
            "margin": null,
            "max_height": null,
            "max_width": null,
            "min_height": null,
            "min_width": null,
            "object_fit": null,
            "object_position": null,
            "order": null,
            "overflow": null,
            "overflow_x": null,
            "overflow_y": null,
            "padding": null,
            "right": null,
            "top": null,
            "visibility": null,
            "width": null
          }
        },
        "626830b44d5842efb0bea707d204cf51": {
          "model_module": "@jupyter-widgets/controls",
          "model_name": "DescriptionStyleModel",
          "model_module_version": "1.5.0",
          "state": {
            "_model_module": "@jupyter-widgets/controls",
            "_model_module_version": "1.5.0",
            "_model_name": "DescriptionStyleModel",
            "_view_count": null,
            "_view_module": "@jupyter-widgets/base",
            "_view_module_version": "1.2.0",
            "_view_name": "StyleView",
            "description_width": ""
          }
        },
        "e4ff39931fa441338930547844d09dc7": {
          "model_module": "@jupyter-widgets/controls",
          "model_name": "HBoxModel",
          "model_module_version": "1.5.0",
          "state": {
            "_dom_classes": [],
            "_model_module": "@jupyter-widgets/controls",
            "_model_module_version": "1.5.0",
            "_model_name": "HBoxModel",
            "_view_count": null,
            "_view_module": "@jupyter-widgets/controls",
            "_view_module_version": "1.5.0",
            "_view_name": "HBoxView",
            "box_style": "",
            "children": [
              "IPY_MODEL_19da0762921e43fea5b828f0c15a1e81",
              "IPY_MODEL_61f5a8f392e943c0bd711af530cf8617",
              "IPY_MODEL_f06b8aff9bff4b5499da4c5cd7b0b5bf"
            ],
            "layout": "IPY_MODEL_70e7e0ee97cf4a8bb12af91c7acd8cf4"
          }
        },
        "19da0762921e43fea5b828f0c15a1e81": {
          "model_module": "@jupyter-widgets/controls",
          "model_name": "HTMLModel",
          "model_module_version": "1.5.0",
          "state": {
            "_dom_classes": [],
            "_model_module": "@jupyter-widgets/controls",
            "_model_module_version": "1.5.0",
            "_model_name": "HTMLModel",
            "_view_count": null,
            "_view_module": "@jupyter-widgets/controls",
            "_view_module_version": "1.5.0",
            "_view_name": "HTMLView",
            "description": "",
            "description_tooltip": null,
            "layout": "IPY_MODEL_7552beb0c1104c4fb3c864dbd26b9c76",
            "placeholder": "​",
            "style": "IPY_MODEL_d19b5ff7d7df47849948b3492566967a",
            "value": "Map: 100%"
          }
        },
        "61f5a8f392e943c0bd711af530cf8617": {
          "model_module": "@jupyter-widgets/controls",
          "model_name": "FloatProgressModel",
          "model_module_version": "1.5.0",
          "state": {
            "_dom_classes": [],
            "_model_module": "@jupyter-widgets/controls",
            "_model_module_version": "1.5.0",
            "_model_name": "FloatProgressModel",
            "_view_count": null,
            "_view_module": "@jupyter-widgets/controls",
            "_view_module_version": "1.5.0",
            "_view_name": "ProgressView",
            "bar_style": "success",
            "description": "",
            "description_tooltip": null,
            "layout": "IPY_MODEL_3d0cd64adb154932ac162610f4c4558b",
            "max": 196,
            "min": 0,
            "orientation": "horizontal",
            "style": "IPY_MODEL_75365bca364648939ca35f12e8a63f36",
            "value": 196
          }
        },
        "f06b8aff9bff4b5499da4c5cd7b0b5bf": {
          "model_module": "@jupyter-widgets/controls",
          "model_name": "HTMLModel",
          "model_module_version": "1.5.0",
          "state": {
            "_dom_classes": [],
            "_model_module": "@jupyter-widgets/controls",
            "_model_module_version": "1.5.0",
            "_model_name": "HTMLModel",
            "_view_count": null,
            "_view_module": "@jupyter-widgets/controls",
            "_view_module_version": "1.5.0",
            "_view_name": "HTMLView",
            "description": "",
            "description_tooltip": null,
            "layout": "IPY_MODEL_ac1644d098194533be30b077396cebf6",
            "placeholder": "​",
            "style": "IPY_MODEL_ed394e9512a34230a7f216052cd8fbd4",
            "value": " 196/196 [20:47&lt;00:00,  5.70s/ examples]"
          }
        },
        "70e7e0ee97cf4a8bb12af91c7acd8cf4": {
          "model_module": "@jupyter-widgets/base",
          "model_name": "LayoutModel",
          "model_module_version": "1.2.0",
          "state": {
            "_model_module": "@jupyter-widgets/base",
            "_model_module_version": "1.2.0",
            "_model_name": "LayoutModel",
            "_view_count": null,
            "_view_module": "@jupyter-widgets/base",
            "_view_module_version": "1.2.0",
            "_view_name": "LayoutView",
            "align_content": null,
            "align_items": null,
            "align_self": null,
            "border": null,
            "bottom": null,
            "display": null,
            "flex": null,
            "flex_flow": null,
            "grid_area": null,
            "grid_auto_columns": null,
            "grid_auto_flow": null,
            "grid_auto_rows": null,
            "grid_column": null,
            "grid_gap": null,
            "grid_row": null,
            "grid_template_areas": null,
            "grid_template_columns": null,
            "grid_template_rows": null,
            "height": null,
            "justify_content": null,
            "justify_items": null,
            "left": null,
            "margin": null,
            "max_height": null,
            "max_width": null,
            "min_height": null,
            "min_width": null,
            "object_fit": null,
            "object_position": null,
            "order": null,
            "overflow": null,
            "overflow_x": null,
            "overflow_y": null,
            "padding": null,
            "right": null,
            "top": null,
            "visibility": null,
            "width": null
          }
        },
        "7552beb0c1104c4fb3c864dbd26b9c76": {
          "model_module": "@jupyter-widgets/base",
          "model_name": "LayoutModel",
          "model_module_version": "1.2.0",
          "state": {
            "_model_module": "@jupyter-widgets/base",
            "_model_module_version": "1.2.0",
            "_model_name": "LayoutModel",
            "_view_count": null,
            "_view_module": "@jupyter-widgets/base",
            "_view_module_version": "1.2.0",
            "_view_name": "LayoutView",
            "align_content": null,
            "align_items": null,
            "align_self": null,
            "border": null,
            "bottom": null,
            "display": null,
            "flex": null,
            "flex_flow": null,
            "grid_area": null,
            "grid_auto_columns": null,
            "grid_auto_flow": null,
            "grid_auto_rows": null,
            "grid_column": null,
            "grid_gap": null,
            "grid_row": null,
            "grid_template_areas": null,
            "grid_template_columns": null,
            "grid_template_rows": null,
            "height": null,
            "justify_content": null,
            "justify_items": null,
            "left": null,
            "margin": null,
            "max_height": null,
            "max_width": null,
            "min_height": null,
            "min_width": null,
            "object_fit": null,
            "object_position": null,
            "order": null,
            "overflow": null,
            "overflow_x": null,
            "overflow_y": null,
            "padding": null,
            "right": null,
            "top": null,
            "visibility": null,
            "width": null
          }
        },
        "d19b5ff7d7df47849948b3492566967a": {
          "model_module": "@jupyter-widgets/controls",
          "model_name": "DescriptionStyleModel",
          "model_module_version": "1.5.0",
          "state": {
            "_model_module": "@jupyter-widgets/controls",
            "_model_module_version": "1.5.0",
            "_model_name": "DescriptionStyleModel",
            "_view_count": null,
            "_view_module": "@jupyter-widgets/base",
            "_view_module_version": "1.2.0",
            "_view_name": "StyleView",
            "description_width": ""
          }
        },
        "3d0cd64adb154932ac162610f4c4558b": {
          "model_module": "@jupyter-widgets/base",
          "model_name": "LayoutModel",
          "model_module_version": "1.2.0",
          "state": {
            "_model_module": "@jupyter-widgets/base",
            "_model_module_version": "1.2.0",
            "_model_name": "LayoutModel",
            "_view_count": null,
            "_view_module": "@jupyter-widgets/base",
            "_view_module_version": "1.2.0",
            "_view_name": "LayoutView",
            "align_content": null,
            "align_items": null,
            "align_self": null,
            "border": null,
            "bottom": null,
            "display": null,
            "flex": null,
            "flex_flow": null,
            "grid_area": null,
            "grid_auto_columns": null,
            "grid_auto_flow": null,
            "grid_auto_rows": null,
            "grid_column": null,
            "grid_gap": null,
            "grid_row": null,
            "grid_template_areas": null,
            "grid_template_columns": null,
            "grid_template_rows": null,
            "height": null,
            "justify_content": null,
            "justify_items": null,
            "left": null,
            "margin": null,
            "max_height": null,
            "max_width": null,
            "min_height": null,
            "min_width": null,
            "object_fit": null,
            "object_position": null,
            "order": null,
            "overflow": null,
            "overflow_x": null,
            "overflow_y": null,
            "padding": null,
            "right": null,
            "top": null,
            "visibility": null,
            "width": null
          }
        },
        "75365bca364648939ca35f12e8a63f36": {
          "model_module": "@jupyter-widgets/controls",
          "model_name": "ProgressStyleModel",
          "model_module_version": "1.5.0",
          "state": {
            "_model_module": "@jupyter-widgets/controls",
            "_model_module_version": "1.5.0",
            "_model_name": "ProgressStyleModel",
            "_view_count": null,
            "_view_module": "@jupyter-widgets/base",
            "_view_module_version": "1.2.0",
            "_view_name": "StyleView",
            "bar_color": null,
            "description_width": ""
          }
        },
        "ac1644d098194533be30b077396cebf6": {
          "model_module": "@jupyter-widgets/base",
          "model_name": "LayoutModel",
          "model_module_version": "1.2.0",
          "state": {
            "_model_module": "@jupyter-widgets/base",
            "_model_module_version": "1.2.0",
            "_model_name": "LayoutModel",
            "_view_count": null,
            "_view_module": "@jupyter-widgets/base",
            "_view_module_version": "1.2.0",
            "_view_name": "LayoutView",
            "align_content": null,
            "align_items": null,
            "align_self": null,
            "border": null,
            "bottom": null,
            "display": null,
            "flex": null,
            "flex_flow": null,
            "grid_area": null,
            "grid_auto_columns": null,
            "grid_auto_flow": null,
            "grid_auto_rows": null,
            "grid_column": null,
            "grid_gap": null,
            "grid_row": null,
            "grid_template_areas": null,
            "grid_template_columns": null,
            "grid_template_rows": null,
            "height": null,
            "justify_content": null,
            "justify_items": null,
            "left": null,
            "margin": null,
            "max_height": null,
            "max_width": null,
            "min_height": null,
            "min_width": null,
            "object_fit": null,
            "object_position": null,
            "order": null,
            "overflow": null,
            "overflow_x": null,
            "overflow_y": null,
            "padding": null,
            "right": null,
            "top": null,
            "visibility": null,
            "width": null
          }
        },
        "ed394e9512a34230a7f216052cd8fbd4": {
          "model_module": "@jupyter-widgets/controls",
          "model_name": "DescriptionStyleModel",
          "model_module_version": "1.5.0",
          "state": {
            "_model_module": "@jupyter-widgets/controls",
            "_model_module_version": "1.5.0",
            "_model_name": "DescriptionStyleModel",
            "_view_count": null,
            "_view_module": "@jupyter-widgets/base",
            "_view_module_version": "1.2.0",
            "_view_name": "StyleView",
            "description_width": ""
          }
        },
        "faa4a7211fc14acbb2360f7127fb16fb": {
          "model_module": "@jupyter-widgets/controls",
          "model_name": "HBoxModel",
          "model_module_version": "1.5.0",
          "state": {
            "_dom_classes": [],
            "_model_module": "@jupyter-widgets/controls",
            "_model_module_version": "1.5.0",
            "_model_name": "HBoxModel",
            "_view_count": null,
            "_view_module": "@jupyter-widgets/controls",
            "_view_module_version": "1.5.0",
            "_view_name": "HBoxView",
            "box_style": "",
            "children": [
              "IPY_MODEL_8542cc3310aa40eea702912ded6fd8e3",
              "IPY_MODEL_726ae1f8c08b455f9b29778f93fa2d33",
              "IPY_MODEL_06f3595af23b428bb6a487f734471757"
            ],
            "layout": "IPY_MODEL_bde7aef0b9aa48be882571c35d52e27f"
          }
        },
        "8542cc3310aa40eea702912ded6fd8e3": {
          "model_module": "@jupyter-widgets/controls",
          "model_name": "HTMLModel",
          "model_module_version": "1.5.0",
          "state": {
            "_dom_classes": [],
            "_model_module": "@jupyter-widgets/controls",
            "_model_module_version": "1.5.0",
            "_model_name": "HTMLModel",
            "_view_count": null,
            "_view_module": "@jupyter-widgets/controls",
            "_view_module_version": "1.5.0",
            "_view_name": "HTMLView",
            "description": "",
            "description_tooltip": null,
            "layout": "IPY_MODEL_d026b17c54a94633bb3a1a9e3a171921",
            "placeholder": "​",
            "style": "IPY_MODEL_9a77d520af3a461096380c415f39aa13",
            "value": "Map: 100%"
          }
        },
        "726ae1f8c08b455f9b29778f93fa2d33": {
          "model_module": "@jupyter-widgets/controls",
          "model_name": "FloatProgressModel",
          "model_module_version": "1.5.0",
          "state": {
            "_dom_classes": [],
            "_model_module": "@jupyter-widgets/controls",
            "_model_module_version": "1.5.0",
            "_model_name": "FloatProgressModel",
            "_view_count": null,
            "_view_module": "@jupyter-widgets/controls",
            "_view_module_version": "1.5.0",
            "_view_name": "ProgressView",
            "bar_style": "success",
            "description": "",
            "description_tooltip": null,
            "layout": "IPY_MODEL_03f74b00a5934fab9511a272992a6589",
            "max": 130,
            "min": 0,
            "orientation": "horizontal",
            "style": "IPY_MODEL_71b172c43a51456cb5aa1d492070f8a2",
            "value": 130
          }
        },
        "06f3595af23b428bb6a487f734471757": {
          "model_module": "@jupyter-widgets/controls",
          "model_name": "HTMLModel",
          "model_module_version": "1.5.0",
          "state": {
            "_dom_classes": [],
            "_model_module": "@jupyter-widgets/controls",
            "_model_module_version": "1.5.0",
            "_model_name": "HTMLModel",
            "_view_count": null,
            "_view_module": "@jupyter-widgets/controls",
            "_view_module_version": "1.5.0",
            "_view_name": "HTMLView",
            "description": "",
            "description_tooltip": null,
            "layout": "IPY_MODEL_0ecb178d27a544199b4c8d746396242a",
            "placeholder": "​",
            "style": "IPY_MODEL_95a7ca6996d4470990ef549edf72c22d",
            "value": " 130/130 [00:08&lt;00:00, 21.61 examples/s]"
          }
        },
        "bde7aef0b9aa48be882571c35d52e27f": {
          "model_module": "@jupyter-widgets/base",
          "model_name": "LayoutModel",
          "model_module_version": "1.2.0",
          "state": {
            "_model_module": "@jupyter-widgets/base",
            "_model_module_version": "1.2.0",
            "_model_name": "LayoutModel",
            "_view_count": null,
            "_view_module": "@jupyter-widgets/base",
            "_view_module_version": "1.2.0",
            "_view_name": "LayoutView",
            "align_content": null,
            "align_items": null,
            "align_self": null,
            "border": null,
            "bottom": null,
            "display": null,
            "flex": null,
            "flex_flow": null,
            "grid_area": null,
            "grid_auto_columns": null,
            "grid_auto_flow": null,
            "grid_auto_rows": null,
            "grid_column": null,
            "grid_gap": null,
            "grid_row": null,
            "grid_template_areas": null,
            "grid_template_columns": null,
            "grid_template_rows": null,
            "height": null,
            "justify_content": null,
            "justify_items": null,
            "left": null,
            "margin": null,
            "max_height": null,
            "max_width": null,
            "min_height": null,
            "min_width": null,
            "object_fit": null,
            "object_position": null,
            "order": null,
            "overflow": null,
            "overflow_x": null,
            "overflow_y": null,
            "padding": null,
            "right": null,
            "top": null,
            "visibility": null,
            "width": null
          }
        },
        "d026b17c54a94633bb3a1a9e3a171921": {
          "model_module": "@jupyter-widgets/base",
          "model_name": "LayoutModel",
          "model_module_version": "1.2.0",
          "state": {
            "_model_module": "@jupyter-widgets/base",
            "_model_module_version": "1.2.0",
            "_model_name": "LayoutModel",
            "_view_count": null,
            "_view_module": "@jupyter-widgets/base",
            "_view_module_version": "1.2.0",
            "_view_name": "LayoutView",
            "align_content": null,
            "align_items": null,
            "align_self": null,
            "border": null,
            "bottom": null,
            "display": null,
            "flex": null,
            "flex_flow": null,
            "grid_area": null,
            "grid_auto_columns": null,
            "grid_auto_flow": null,
            "grid_auto_rows": null,
            "grid_column": null,
            "grid_gap": null,
            "grid_row": null,
            "grid_template_areas": null,
            "grid_template_columns": null,
            "grid_template_rows": null,
            "height": null,
            "justify_content": null,
            "justify_items": null,
            "left": null,
            "margin": null,
            "max_height": null,
            "max_width": null,
            "min_height": null,
            "min_width": null,
            "object_fit": null,
            "object_position": null,
            "order": null,
            "overflow": null,
            "overflow_x": null,
            "overflow_y": null,
            "padding": null,
            "right": null,
            "top": null,
            "visibility": null,
            "width": null
          }
        },
        "9a77d520af3a461096380c415f39aa13": {
          "model_module": "@jupyter-widgets/controls",
          "model_name": "DescriptionStyleModel",
          "model_module_version": "1.5.0",
          "state": {
            "_model_module": "@jupyter-widgets/controls",
            "_model_module_version": "1.5.0",
            "_model_name": "DescriptionStyleModel",
            "_view_count": null,
            "_view_module": "@jupyter-widgets/base",
            "_view_module_version": "1.2.0",
            "_view_name": "StyleView",
            "description_width": ""
          }
        },
        "03f74b00a5934fab9511a272992a6589": {
          "model_module": "@jupyter-widgets/base",
          "model_name": "LayoutModel",
          "model_module_version": "1.2.0",
          "state": {
            "_model_module": "@jupyter-widgets/base",
            "_model_module_version": "1.2.0",
            "_model_name": "LayoutModel",
            "_view_count": null,
            "_view_module": "@jupyter-widgets/base",
            "_view_module_version": "1.2.0",
            "_view_name": "LayoutView",
            "align_content": null,
            "align_items": null,
            "align_self": null,
            "border": null,
            "bottom": null,
            "display": null,
            "flex": null,
            "flex_flow": null,
            "grid_area": null,
            "grid_auto_columns": null,
            "grid_auto_flow": null,
            "grid_auto_rows": null,
            "grid_column": null,
            "grid_gap": null,
            "grid_row": null,
            "grid_template_areas": null,
            "grid_template_columns": null,
            "grid_template_rows": null,
            "height": null,
            "justify_content": null,
            "justify_items": null,
            "left": null,
            "margin": null,
            "max_height": null,
            "max_width": null,
            "min_height": null,
            "min_width": null,
            "object_fit": null,
            "object_position": null,
            "order": null,
            "overflow": null,
            "overflow_x": null,
            "overflow_y": null,
            "padding": null,
            "right": null,
            "top": null,
            "visibility": null,
            "width": null
          }
        },
        "71b172c43a51456cb5aa1d492070f8a2": {
          "model_module": "@jupyter-widgets/controls",
          "model_name": "ProgressStyleModel",
          "model_module_version": "1.5.0",
          "state": {
            "_model_module": "@jupyter-widgets/controls",
            "_model_module_version": "1.5.0",
            "_model_name": "ProgressStyleModel",
            "_view_count": null,
            "_view_module": "@jupyter-widgets/base",
            "_view_module_version": "1.2.0",
            "_view_name": "StyleView",
            "bar_color": null,
            "description_width": ""
          }
        },
        "0ecb178d27a544199b4c8d746396242a": {
          "model_module": "@jupyter-widgets/base",
          "model_name": "LayoutModel",
          "model_module_version": "1.2.0",
          "state": {
            "_model_module": "@jupyter-widgets/base",
            "_model_module_version": "1.2.0",
            "_model_name": "LayoutModel",
            "_view_count": null,
            "_view_module": "@jupyter-widgets/base",
            "_view_module_version": "1.2.0",
            "_view_name": "LayoutView",
            "align_content": null,
            "align_items": null,
            "align_self": null,
            "border": null,
            "bottom": null,
            "display": null,
            "flex": null,
            "flex_flow": null,
            "grid_area": null,
            "grid_auto_columns": null,
            "grid_auto_flow": null,
            "grid_auto_rows": null,
            "grid_column": null,
            "grid_gap": null,
            "grid_row": null,
            "grid_template_areas": null,
            "grid_template_columns": null,
            "grid_template_rows": null,
            "height": null,
            "justify_content": null,
            "justify_items": null,
            "left": null,
            "margin": null,
            "max_height": null,
            "max_width": null,
            "min_height": null,
            "min_width": null,
            "object_fit": null,
            "object_position": null,
            "order": null,
            "overflow": null,
            "overflow_x": null,
            "overflow_y": null,
            "padding": null,
            "right": null,
            "top": null,
            "visibility": null,
            "width": null
          }
        },
        "95a7ca6996d4470990ef549edf72c22d": {
          "model_module": "@jupyter-widgets/controls",
          "model_name": "DescriptionStyleModel",
          "model_module_version": "1.5.0",
          "state": {
            "_model_module": "@jupyter-widgets/controls",
            "_model_module_version": "1.5.0",
            "_model_name": "DescriptionStyleModel",
            "_view_count": null,
            "_view_module": "@jupyter-widgets/base",
            "_view_module_version": "1.2.0",
            "_view_name": "StyleView",
            "description_width": ""
          }
        }
      }
    }
  },
  "nbformat": 4,
  "nbformat_minor": 0
}